{
  "nbformat": 4,
  "nbformat_minor": 0,
  "metadata": {
    "colab": {
      "name": "Personalized_cancer_diagnosis.ipynb",
      "provenance": [],
      "collapsed_sections": [],
      "mount_file_id": "1mctBfkwc4TGHlVCa9Oln7Ut8VXnc2yAc",
      "authorship_tag": "ABX9TyMdzuJsAQ4pqt6/NbrAfheF",
      "include_colab_link": true
    },
    "kernelspec": {
      "name": "python3",
      "display_name": "Python 3"
    },
    "language_info": {
      "name": "python"
    },
    "accelerator": "TPU",
    "gpuClass": "standard"
  },
  "cells": [
    {
      "cell_type": "markdown",
      "metadata": {
        "id": "view-in-github",
        "colab_type": "text"
      },
      "source": [
        "<a href=\"https://colab.research.google.com/github/vijaylokith/Personalized-Medicine-Redefining-Cancer-Treatment/blob/main/Personalized_cancer_diagnosis.ipynb\" target=\"_parent\"><img src=\"https://colab.research.google.com/assets/colab-badge.svg\" alt=\"Open In Colab\"/></a>"
      ]
    },
    {
      "cell_type": "markdown",
      "source": [
        "# **Personalized Cancer Diagnosis**"
      ],
      "metadata": {
        "id": "fvBqXCGnvrE-"
      }
    },
    {
      "cell_type": "markdown",
      "source": [
        "## **1. Business problem**"
      ],
      "metadata": {
        "id": "P12jJm0xv0du"
      }
    },
    {
      "cell_type": "markdown",
      "source": [
        "### **1.1) Problem Statement**\n",
        "\n",
        "\n",
        "\n"
      ],
      "metadata": {
        "id": "i77vMm4WwCM3"
      }
    },
    {
      "cell_type": "markdown",
      "source": [
        "Classify the given gene variation base on the text clinical references"
      ],
      "metadata": {
        "id": "5iiXhnjvw4nk"
      }
    },
    {
      "cell_type": "markdown",
      "source": [
        "### **1.2) Business Constrains**"
      ],
      "metadata": {
        "id": "djBWEc31xi4o"
      }
    },
    {
      "cell_type": "markdown",
      "source": [
        "\n",
        "\n",
        "1.   Cost of mis-classification (very high)\n",
        "2.   Latency requirment (No)\n",
        "3.   Inter-Pretability requirment (Yes)\n",
        "\n"
      ],
      "metadata": {
        "id": "wrjysn7axrtD"
      }
    },
    {
      "cell_type": "markdown",
      "source": [
        "## **2. Mapping Real World to ML Problem**"
      ],
      "metadata": {
        "id": "Jfi8vMnhyHLL"
      }
    },
    {
      "cell_type": "markdown",
      "source": [
        "### **2.1) Problem Type**"
      ],
      "metadata": {
        "id": "hf_2NcvtyPl0"
      }
    },
    {
      "cell_type": "markdown",
      "source": [
        "Multi - classification (9 classes)"
      ],
      "metadata": {
        "id": "BlMddjHiyi36"
      }
    },
    {
      "cell_type": "markdown",
      "source": [
        "### **2.2) Performance Measure**"
      ],
      "metadata": {
        "id": "qs_UHI_syozI"
      }
    },
    {
      "cell_type": "markdown",
      "source": [
        "\n",
        "\n",
        "1.   Multi - class log loss (cross entropy) -> KPI\n",
        "2.   Confusion Matrix\n",
        "\n"
      ],
      "metadata": {
        "id": "z-G_LOVByvTL"
      }
    },
    {
      "cell_type": "code",
      "source": [
        "import warnings\n",
        "warnings.filterwarnings(\"ignore\")"
      ],
      "metadata": {
        "id": "hu3leyDw18fT"
      },
      "execution_count": null,
      "outputs": []
    },
    {
      "cell_type": "code",
      "source": [
        "import pandas as pd\n",
        "import numpy as np\n",
        "import matplotlib.pyplot as plt\n",
        "import seaborn as sn\n",
        "%matplotlib inline"
      ],
      "metadata": {
        "id": "b27N2Ihm2PVC"
      },
      "execution_count": null,
      "outputs": []
    },
    {
      "cell_type": "markdown",
      "source": [
        "Reading the data"
      ],
      "metadata": {
        "id": "iZtNwFO13f3R"
      }
    },
    {
      "cell_type": "code",
      "source": [
        "train_variation = pd.read_csv(\"/content/drive/MyDrive/Colab Notebooks/Personalized_cancer_diagnosis/data/training/training_variants\")\n",
        "print(train_variation.shape)\n",
        "train_variation.head()"
      ],
      "metadata": {
        "colab": {
          "base_uri": "https://localhost:8080/",
          "height": 224
        },
        "id": "geq4U10e2afo",
        "outputId": "4204821c-ed38-4acd-a3f3-865662258e81"
      },
      "execution_count": null,
      "outputs": [
        {
          "output_type": "stream",
          "name": "stdout",
          "text": [
            "(3321, 4)\n"
          ]
        },
        {
          "output_type": "execute_result",
          "data": {
            "text/plain": [
              "   ID    Gene             Variation  Class\n",
              "0   0  FAM58A  Truncating Mutations      1\n",
              "1   1     CBL                 W802*      2\n",
              "2   2     CBL                 Q249E      2\n",
              "3   3     CBL                 N454D      3\n",
              "4   4     CBL                 L399V      4"
            ],
            "text/html": [
              "\n",
              "  <div id=\"df-19ed3442-331c-4879-b816-96d13ed46cec\">\n",
              "    <div class=\"colab-df-container\">\n",
              "      <div>\n",
              "<style scoped>\n",
              "    .dataframe tbody tr th:only-of-type {\n",
              "        vertical-align: middle;\n",
              "    }\n",
              "\n",
              "    .dataframe tbody tr th {\n",
              "        vertical-align: top;\n",
              "    }\n",
              "\n",
              "    .dataframe thead th {\n",
              "        text-align: right;\n",
              "    }\n",
              "</style>\n",
              "<table border=\"1\" class=\"dataframe\">\n",
              "  <thead>\n",
              "    <tr style=\"text-align: right;\">\n",
              "      <th></th>\n",
              "      <th>ID</th>\n",
              "      <th>Gene</th>\n",
              "      <th>Variation</th>\n",
              "      <th>Class</th>\n",
              "    </tr>\n",
              "  </thead>\n",
              "  <tbody>\n",
              "    <tr>\n",
              "      <th>0</th>\n",
              "      <td>0</td>\n",
              "      <td>FAM58A</td>\n",
              "      <td>Truncating Mutations</td>\n",
              "      <td>1</td>\n",
              "    </tr>\n",
              "    <tr>\n",
              "      <th>1</th>\n",
              "      <td>1</td>\n",
              "      <td>CBL</td>\n",
              "      <td>W802*</td>\n",
              "      <td>2</td>\n",
              "    </tr>\n",
              "    <tr>\n",
              "      <th>2</th>\n",
              "      <td>2</td>\n",
              "      <td>CBL</td>\n",
              "      <td>Q249E</td>\n",
              "      <td>2</td>\n",
              "    </tr>\n",
              "    <tr>\n",
              "      <th>3</th>\n",
              "      <td>3</td>\n",
              "      <td>CBL</td>\n",
              "      <td>N454D</td>\n",
              "      <td>3</td>\n",
              "    </tr>\n",
              "    <tr>\n",
              "      <th>4</th>\n",
              "      <td>4</td>\n",
              "      <td>CBL</td>\n",
              "      <td>L399V</td>\n",
              "      <td>4</td>\n",
              "    </tr>\n",
              "  </tbody>\n",
              "</table>\n",
              "</div>\n",
              "      <button class=\"colab-df-convert\" onclick=\"convertToInteractive('df-19ed3442-331c-4879-b816-96d13ed46cec')\"\n",
              "              title=\"Convert this dataframe to an interactive table.\"\n",
              "              style=\"display:none;\">\n",
              "        \n",
              "  <svg xmlns=\"http://www.w3.org/2000/svg\" height=\"24px\"viewBox=\"0 0 24 24\"\n",
              "       width=\"24px\">\n",
              "    <path d=\"M0 0h24v24H0V0z\" fill=\"none\"/>\n",
              "    <path d=\"M18.56 5.44l.94 2.06.94-2.06 2.06-.94-2.06-.94-.94-2.06-.94 2.06-2.06.94zm-11 1L8.5 8.5l.94-2.06 2.06-.94-2.06-.94L8.5 2.5l-.94 2.06-2.06.94zm10 10l.94 2.06.94-2.06 2.06-.94-2.06-.94-.94-2.06-.94 2.06-2.06.94z\"/><path d=\"M17.41 7.96l-1.37-1.37c-.4-.4-.92-.59-1.43-.59-.52 0-1.04.2-1.43.59L10.3 9.45l-7.72 7.72c-.78.78-.78 2.05 0 2.83L4 21.41c.39.39.9.59 1.41.59.51 0 1.02-.2 1.41-.59l7.78-7.78 2.81-2.81c.8-.78.8-2.07 0-2.86zM5.41 20L4 18.59l7.72-7.72 1.47 1.35L5.41 20z\"/>\n",
              "  </svg>\n",
              "      </button>\n",
              "      \n",
              "  <style>\n",
              "    .colab-df-container {\n",
              "      display:flex;\n",
              "      flex-wrap:wrap;\n",
              "      gap: 12px;\n",
              "    }\n",
              "\n",
              "    .colab-df-convert {\n",
              "      background-color: #E8F0FE;\n",
              "      border: none;\n",
              "      border-radius: 50%;\n",
              "      cursor: pointer;\n",
              "      display: none;\n",
              "      fill: #1967D2;\n",
              "      height: 32px;\n",
              "      padding: 0 0 0 0;\n",
              "      width: 32px;\n",
              "    }\n",
              "\n",
              "    .colab-df-convert:hover {\n",
              "      background-color: #E2EBFA;\n",
              "      box-shadow: 0px 1px 2px rgba(60, 64, 67, 0.3), 0px 1px 3px 1px rgba(60, 64, 67, 0.15);\n",
              "      fill: #174EA6;\n",
              "    }\n",
              "\n",
              "    [theme=dark] .colab-df-convert {\n",
              "      background-color: #3B4455;\n",
              "      fill: #D2E3FC;\n",
              "    }\n",
              "\n",
              "    [theme=dark] .colab-df-convert:hover {\n",
              "      background-color: #434B5C;\n",
              "      box-shadow: 0px 1px 3px 1px rgba(0, 0, 0, 0.15);\n",
              "      filter: drop-shadow(0px 1px 2px rgba(0, 0, 0, 0.3));\n",
              "      fill: #FFFFFF;\n",
              "    }\n",
              "  </style>\n",
              "\n",
              "      <script>\n",
              "        const buttonEl =\n",
              "          document.querySelector('#df-19ed3442-331c-4879-b816-96d13ed46cec button.colab-df-convert');\n",
              "        buttonEl.style.display =\n",
              "          google.colab.kernel.accessAllowed ? 'block' : 'none';\n",
              "\n",
              "        async function convertToInteractive(key) {\n",
              "          const element = document.querySelector('#df-19ed3442-331c-4879-b816-96d13ed46cec');\n",
              "          const dataTable =\n",
              "            await google.colab.kernel.invokeFunction('convertToInteractive',\n",
              "                                                     [key], {});\n",
              "          if (!dataTable) return;\n",
              "\n",
              "          const docLinkHtml = 'Like what you see? Visit the ' +\n",
              "            '<a target=\"_blank\" href=https://colab.research.google.com/notebooks/data_table.ipynb>data table notebook</a>'\n",
              "            + ' to learn more about interactive tables.';\n",
              "          element.innerHTML = '';\n",
              "          dataTable['output_type'] = 'display_data';\n",
              "          await google.colab.output.renderOutput(dataTable, element);\n",
              "          const docLink = document.createElement('div');\n",
              "          docLink.innerHTML = docLinkHtml;\n",
              "          element.appendChild(docLink);\n",
              "        }\n",
              "      </script>\n",
              "    </div>\n",
              "  </div>\n",
              "  "
            ]
          },
          "metadata": {},
          "execution_count": 3
        }
      ]
    },
    {
      "cell_type": "code",
      "source": [
        "train_text = pd.read_csv(\"/content/drive/MyDrive/Colab Notebooks/Personalized_cancer_diagnosis/data/training/training_text\", sep=\"\\|\\|\",names=[\"ID\",\"TEXT\"],skiprows=1)\n",
        "print(train_text.shape)\n",
        "train_text.tail(10)"
      ],
      "metadata": {
        "colab": {
          "base_uri": "https://localhost:8080/",
          "height": 380
        },
        "id": "9QFFOD-D9KDn",
        "outputId": "db3acd54-369a-4496-8ef1-93758d43b16e"
      },
      "execution_count": null,
      "outputs": [
        {
          "output_type": "stream",
          "name": "stdout",
          "text": [
            "(3321, 2)\n"
          ]
        },
        {
          "output_type": "execute_result",
          "data": {
            "text/plain": [
              "        ID                                               TEXT\n",
              "3311  3311  The AML1/EVI-1 chimeric gene is generated by t...\n",
              "3312  3312  Balanced chromosomal translocations are freque...\n",
              "3313  3313  The BCR-ABL fusion protein generated by t(9;22...\n",
              "3314  3314  Introduction  Myelodysplastic syndromes (MDS) ...\n",
              "3315  3315  The RUNX gene family includes three evolutiona...\n",
              "3316  3316  Introduction  Myelodysplastic syndromes (MDS) ...\n",
              "3317  3317  Introduction  Myelodysplastic syndromes (MDS) ...\n",
              "3318  3318  The Runt-related transcription factor 1 gene (...\n",
              "3319  3319  The RUNX1/AML1 gene is the most frequent targe...\n",
              "3320  3320  The most frequent mutations associated with le..."
            ],
            "text/html": [
              "\n",
              "  <div id=\"df-b10cbd12-3517-4652-9199-2cf12f97f9e6\">\n",
              "    <div class=\"colab-df-container\">\n",
              "      <div>\n",
              "<style scoped>\n",
              "    .dataframe tbody tr th:only-of-type {\n",
              "        vertical-align: middle;\n",
              "    }\n",
              "\n",
              "    .dataframe tbody tr th {\n",
              "        vertical-align: top;\n",
              "    }\n",
              "\n",
              "    .dataframe thead th {\n",
              "        text-align: right;\n",
              "    }\n",
              "</style>\n",
              "<table border=\"1\" class=\"dataframe\">\n",
              "  <thead>\n",
              "    <tr style=\"text-align: right;\">\n",
              "      <th></th>\n",
              "      <th>ID</th>\n",
              "      <th>TEXT</th>\n",
              "    </tr>\n",
              "  </thead>\n",
              "  <tbody>\n",
              "    <tr>\n",
              "      <th>3311</th>\n",
              "      <td>3311</td>\n",
              "      <td>The AML1/EVI-1 chimeric gene is generated by t...</td>\n",
              "    </tr>\n",
              "    <tr>\n",
              "      <th>3312</th>\n",
              "      <td>3312</td>\n",
              "      <td>Balanced chromosomal translocations are freque...</td>\n",
              "    </tr>\n",
              "    <tr>\n",
              "      <th>3313</th>\n",
              "      <td>3313</td>\n",
              "      <td>The BCR-ABL fusion protein generated by t(9;22...</td>\n",
              "    </tr>\n",
              "    <tr>\n",
              "      <th>3314</th>\n",
              "      <td>3314</td>\n",
              "      <td>Introduction  Myelodysplastic syndromes (MDS) ...</td>\n",
              "    </tr>\n",
              "    <tr>\n",
              "      <th>3315</th>\n",
              "      <td>3315</td>\n",
              "      <td>The RUNX gene family includes three evolutiona...</td>\n",
              "    </tr>\n",
              "    <tr>\n",
              "      <th>3316</th>\n",
              "      <td>3316</td>\n",
              "      <td>Introduction  Myelodysplastic syndromes (MDS) ...</td>\n",
              "    </tr>\n",
              "    <tr>\n",
              "      <th>3317</th>\n",
              "      <td>3317</td>\n",
              "      <td>Introduction  Myelodysplastic syndromes (MDS) ...</td>\n",
              "    </tr>\n",
              "    <tr>\n",
              "      <th>3318</th>\n",
              "      <td>3318</td>\n",
              "      <td>The Runt-related transcription factor 1 gene (...</td>\n",
              "    </tr>\n",
              "    <tr>\n",
              "      <th>3319</th>\n",
              "      <td>3319</td>\n",
              "      <td>The RUNX1/AML1 gene is the most frequent targe...</td>\n",
              "    </tr>\n",
              "    <tr>\n",
              "      <th>3320</th>\n",
              "      <td>3320</td>\n",
              "      <td>The most frequent mutations associated with le...</td>\n",
              "    </tr>\n",
              "  </tbody>\n",
              "</table>\n",
              "</div>\n",
              "      <button class=\"colab-df-convert\" onclick=\"convertToInteractive('df-b10cbd12-3517-4652-9199-2cf12f97f9e6')\"\n",
              "              title=\"Convert this dataframe to an interactive table.\"\n",
              "              style=\"display:none;\">\n",
              "        \n",
              "  <svg xmlns=\"http://www.w3.org/2000/svg\" height=\"24px\"viewBox=\"0 0 24 24\"\n",
              "       width=\"24px\">\n",
              "    <path d=\"M0 0h24v24H0V0z\" fill=\"none\"/>\n",
              "    <path d=\"M18.56 5.44l.94 2.06.94-2.06 2.06-.94-2.06-.94-.94-2.06-.94 2.06-2.06.94zm-11 1L8.5 8.5l.94-2.06 2.06-.94-2.06-.94L8.5 2.5l-.94 2.06-2.06.94zm10 10l.94 2.06.94-2.06 2.06-.94-2.06-.94-.94-2.06-.94 2.06-2.06.94z\"/><path d=\"M17.41 7.96l-1.37-1.37c-.4-.4-.92-.59-1.43-.59-.52 0-1.04.2-1.43.59L10.3 9.45l-7.72 7.72c-.78.78-.78 2.05 0 2.83L4 21.41c.39.39.9.59 1.41.59.51 0 1.02-.2 1.41-.59l7.78-7.78 2.81-2.81c.8-.78.8-2.07 0-2.86zM5.41 20L4 18.59l7.72-7.72 1.47 1.35L5.41 20z\"/>\n",
              "  </svg>\n",
              "      </button>\n",
              "      \n",
              "  <style>\n",
              "    .colab-df-container {\n",
              "      display:flex;\n",
              "      flex-wrap:wrap;\n",
              "      gap: 12px;\n",
              "    }\n",
              "\n",
              "    .colab-df-convert {\n",
              "      background-color: #E8F0FE;\n",
              "      border: none;\n",
              "      border-radius: 50%;\n",
              "      cursor: pointer;\n",
              "      display: none;\n",
              "      fill: #1967D2;\n",
              "      height: 32px;\n",
              "      padding: 0 0 0 0;\n",
              "      width: 32px;\n",
              "    }\n",
              "\n",
              "    .colab-df-convert:hover {\n",
              "      background-color: #E2EBFA;\n",
              "      box-shadow: 0px 1px 2px rgba(60, 64, 67, 0.3), 0px 1px 3px 1px rgba(60, 64, 67, 0.15);\n",
              "      fill: #174EA6;\n",
              "    }\n",
              "\n",
              "    [theme=dark] .colab-df-convert {\n",
              "      background-color: #3B4455;\n",
              "      fill: #D2E3FC;\n",
              "    }\n",
              "\n",
              "    [theme=dark] .colab-df-convert:hover {\n",
              "      background-color: #434B5C;\n",
              "      box-shadow: 0px 1px 3px 1px rgba(0, 0, 0, 0.15);\n",
              "      filter: drop-shadow(0px 1px 2px rgba(0, 0, 0, 0.3));\n",
              "      fill: #FFFFFF;\n",
              "    }\n",
              "  </style>\n",
              "\n",
              "      <script>\n",
              "        const buttonEl =\n",
              "          document.querySelector('#df-b10cbd12-3517-4652-9199-2cf12f97f9e6 button.colab-df-convert');\n",
              "        buttonEl.style.display =\n",
              "          google.colab.kernel.accessAllowed ? 'block' : 'none';\n",
              "\n",
              "        async function convertToInteractive(key) {\n",
              "          const element = document.querySelector('#df-b10cbd12-3517-4652-9199-2cf12f97f9e6');\n",
              "          const dataTable =\n",
              "            await google.colab.kernel.invokeFunction('convertToInteractive',\n",
              "                                                     [key], {});\n",
              "          if (!dataTable) return;\n",
              "\n",
              "          const docLinkHtml = 'Like what you see? Visit the ' +\n",
              "            '<a target=\"_blank\" href=https://colab.research.google.com/notebooks/data_table.ipynb>data table notebook</a>'\n",
              "            + ' to learn more about interactive tables.';\n",
              "          element.innerHTML = '';\n",
              "          dataTable['output_type'] = 'display_data';\n",
              "          await google.colab.output.renderOutput(dataTable, element);\n",
              "          const docLink = document.createElement('div');\n",
              "          docLink.innerHTML = docLinkHtml;\n",
              "          element.appendChild(docLink);\n",
              "        }\n",
              "      </script>\n",
              "    </div>\n",
              "  </div>\n",
              "  "
            ]
          },
          "metadata": {},
          "execution_count": 4
        }
      ]
    },
    {
      "cell_type": "markdown",
      "source": [
        "## **Data Cleaning**\n",
        "\n"
      ],
      "metadata": {
        "id": "KfUtqx4FdF9P"
      }
    },
    {
      "cell_type": "markdown",
      "source": [
        "un pre-processed word"
      ],
      "metadata": {
        "id": "RvyVkGmTY0w0"
      }
    },
    {
      "cell_type": "code",
      "source": [
        "train_text[\"TEXT\"][3320]"
      ],
      "metadata": {
        "colab": {
          "base_uri": "https://localhost:8080/",
          "height": 140
        },
        "id": "SQ_6d4KjYzx-",
        "outputId": "2f123632-dde4-449a-bac5-a13fec90fe77"
      },
      "execution_count": null,
      "outputs": [
        {
          "output_type": "execute_result",
          "data": {
            "text/plain": [
              "\"The most frequent mutations associated with leukemia are recurrent somatic chromosomal translocations or inversions, many of which involve the polyomavirus enhancer-binding protein or core-binding factor transcriptional regulation complex (PEBP2/CBF). Several translocations involve the α subunit of this complex, the RUNX1 gene (also called AML1, CBFα2, or PEBP2αB) on chromosome 21q22.1 (t(8;21), t(3;21), and t(12;21)). Additionally, the β subunit of the complex, PEBP2β also called CBFβ, is disrupted in inv(16)(p13;q22).1 An abundance of evidence points to the existence of genes that predispose to hematologic malignancies. However, large multiple-generation families with hematologic malignancies alone are rare.2 Only 2 loci for familial hematologic malignancies have been identified to date, 1 on chromosome 21q22.13 and the other on 16q22.4 5 These loci contain RUNX1 andPEBP2β/CBFβ, respectively.Studies of families that demonstrate single-gene inheritance for leukemia predisposition should help to identify the genes and mechanisms involved in the first steps of leukemia development. The autosomal dominant familial platelet disorder (FPD)/AML (acute myelogenous leukemia; Online Mendelian Inheritance in Man no. 601399) is a good model to validate this hypothesis because, in addition to developing thrombocytopenia, patients show a propensity for progression to myelodysplasia and acute myeloid leukemia.6-9 Affected individuals within the same family may present with variable clinical severity at varying ages. FPD/AML was linked to 21q22.1-22.2,3 9 including the region that contains RUNX1, and germline RUNX1 mutations were subsequently identified in 6 pedigrees.10Heterozygous missense mutations and biallelic nonsense or frameshift mutations in RUNX1 were also identified in sporadic leukemias,11 and other point mutations have been characterized in patients with M0-AML and various myeloid malignancies,12 including some with acquired trisomy and tetrasomy of chromosome 21.13 While missense mutations abolish the DNA binding and transactivation activities of RUNX1, they do not affect heterodimerization with PEBP2β/CBFβ. In addition, these mutant proteins inhibit wild-type RUNX1 in cotransfection studies.11 12The evolutionarily conserved 128 amino acid Runt domain, present in most of RUNX1 isoforms, is involved in DNA binding and heterodimerization with PEBP2β/CBFβ.14 15Heterodimerization of RUNX1 with PEBP2β/CBFβ promotes DNA binding by stabilizing the interaction of the complex with the DNA.16 17 All RUNX1 point mutations described in FPD/AML patients10 and most RUNX1 point mutations in patients with sporadic leukemias11-13 are within the Runt domain and alter amino acids essential for DNA binding and heterodimerization.18 19 Longer RUNX1 proteins also contain a transactivation domain and domains involved in self-regulation, protein-protein interaction, and cellular localization.20 RUNX1 regulates the activity of several important hematopoietic genes, such as macrophage colony-stimulating factor (M-CSF) receptor,21 T-cell receptor α and β,22 granulocyte-macrophage (GM)–CSF,23myeloperoxidase,24 and neutrophil elastase,25by binding to a core sequence (TGT/cGGT) found in their promoters or enhancers.It has been proposed that haploinsufficiency for RUNX1 is responsible for FPD/AML.10 However, hyperactivating, inhibitory, and loss-of-function RUNX1 point mutations have all been reported in sporadic leukemia.11 This diversity in the mechanisms of pathogenesis of sporadic AML RUNX1 mutations suggested that FPD/AML RUNX1 mutations warranted further functional studies. Here we describe 3 new RUNX1 mutations in FPD/AML and potential mechanisms involved in the pathogenesis of the disease based on in vitro studies of 7 RUNX1 FPD/AML mutations.Materials and methodsSample collection and genomic DNA isolationOur FPD/AML pedigrees are shown in Figure1. Pedigree 1 has been extensively described.7 Fourteen members of the family have a hemorrhagic diathesis characterized by a long bleeding time, abnormal platelet aggregation, and decreased numbers of platelet-dense bodies. Among the affected individuals, there were 3 documented cases of myeloblastic leukemia, 2 documented cases of myelomonoblastic leukemia, and 3 cases of leukemia by history.Fig. 1.Download figureOpen in new tabDownload powerpointFig. 1. The FPD/AML pedigrees unique to this study.All 3 pedigrees show linkage to FPD/AML locus (21q22.1-22.2). Half-filled symbols represent individuals who had a bleeding disorder and, where studied, a platelet defect as well, and completely filled symbols represent affected individuals who developed leukemia.Pedigree 2 (previously unreported) has 8 affected individuals from 4 generations with a clinical history of prolonged bleeding. Constitutional thrombocytopenia was found in 5 members, 3 of whom had extensive platelet evaluations documenting aspirinlike aggregation defects and dense granule abnormality demonstrable by electron microscopic morphology and quinacrine fluorescence. Three individuals developed AML, and a fourth was said to have died of “pernicious anemia.”Pedigree 3 consists of 15 affected individuals from 4 generations of a family with a bleeding disorder characterized by impaired platelet aggregation associated with decreased numbers and contents of both platelet-dense and α granules26 27 as well as a unique platelet phospholipid defect and decreased α-2 adrenergic receptors.28 29 The platelet counts in this family are at or slightly below the lower limit of normal.26 27 Two members of the family developed AML, and another was reported to have died of leukemia.29Blood samples were obtained from healthy and affected individuals after obtaining informed consent and in accordance with institutional guidelines for human subjects. DNA was isolated from blood leukocytes using standard protocols.Linkage analysisGenotype information was generated with polymerase chain reaction (PCR) amplification of chromosome 21 microsatellite markers from the Genome Database (http://www.gdb.org). Linkage analysis was as previously described.4 5 At least 7 microsatellite repeat polymorphisms in the FPD/AML critical region of chromosome 21q22.1\\u20093 were genotyped in each family.Mutation analysesAll 9 exons of RUNX1 were amplified from genomic DNA using primers designed to the flanking region of each exon. Single-strand conformational polymorphism analysis was performed on PCR fragments of less than 400 base pairs using a Genephor apparatus and the GeneGel 12.5 kit (Amersham Pharmacia Biotech, Freiburg, Germany). Exons showing conformational changes were directly sequenced in both directions using BigDye terminator cycle sequencing (Applied Biosystems, Foster City, CA) and analyzed on an ABI377 sequencer.RT-PCRFirst-strand complementary DNA (cDNA) was synthesized from patient (individuals IV:2 and V:2, pedigree 2) and control RNA using Superscript II reverse transcriptase. PCR was performed using primers AML1RTF3 (Figure 2D, primer C, 5′-CTGCTCCGTGCTGCCTACGCACTG-3′) in exon 3 of AML1b and AMLRTR1 (5′-CGCAGCTGCTCCAGTTCACTGAGC-3′) in exon 6 as reverse primer on these double-stranded cDNAs, cloned into a TA vector, and sequenced. A cryptic splice site was observed in one clone. Primers covering the cryptic splice junction of exon 4 and 5 (F2AMLmF4, Figure 2D, primer A, 5′-TAATGACCTCAGGGAAAAGCTTC-3′) and within the nucleotides of exon 4 excluded from the mutant transcript (F2AMLF1, Figure 2D, primer B, 5′-TGTCGGTCGAAGTGGAAGAGG-3′) were designed and used with AML1RTR1 to amplify a PCR product on patients' cDNA; no mutant transcript was observed in control cDNA.Fig. 2.Download figureOpen in new tabDownload powerpointFig. 2. Mutation analysis in FPD/AML pedigrees.Electropherograms from affected and control individuals showing the A>G substitution leading to the K83E missense mutation in pedigree 1 (A), the C>A substitution resulting in a nonsense mutation Y260X in pedigree 3 (B), and the deletion of an A at the +3 position of the splice donor site of intron 4 in pedigree 2 (IVS4\\u2009+\\u20093delA, C). Arrows indicate the point of the mutations. (D) Schematic representation of the cryptic splice site within exon 4 used in the mutated transcript in pedigree 2 and the RT-PCRs used to analyze the splicing. A, B, and C represent forward primers used in the RT-PCR experiment. Primer A is specific to the mutated form, and primer B is specific to the wild-type form. Primer C was used as control. The same reverse primer was used in each reaction. The 23 nucleotides of exon 4 excluded from the mutant transcript are indicated by the black box. (E) RT-PCR on patient and control RNA as described in panel D. The primer specific to the mutated form does not show any amplification on control RNA. (F) Sequence analysis of the mutant exon 4–exon 5 junction.Electrophoretic mobility shift assayAmino acids 24 to 189 of RUNX1, including the Runt domain, were expressed in Escherichia coli, purified, and subjected to electrophoretic mobility shift assay (EMSA) essentially as described previously.11 The wild-type expression plasmid was previously described,11 and mutant RUNX1 plasmids were obtained by site-directed mutagenesis on wild-type pQE9-RUNX1 using Strategene's “quick change” method according to the manufacturer's instruction manual (Stratagene, Amsterdam, The Netherlands). For K90fsX101 an alternative vector, pQE13, was used instead to express it in fusion with a more bulky N-terminal appendage containing hexahistidines and dihydrofolate reductase. Mutant constructs were confirmed by sequencing.Affinity assay of RUNX1-PEBP2β/CBFβ associationThe heterodimerization activity of RUNX1 mutants impaired in DNA binding was assayed by MagExtractor kit (TOYOBO, Osaka, Japan). Briefly, the hexahistidine-tagged RUNX1 fragment (1 μg) was incubated with tagless PEBP2β/CBFβ (1 μg) and mixed with nickel-coated magnetic beads. The mixture was successively washed with buffers containing 30 mM imidazole and eluted by the buffer supplied by the manufacturer. Proteins in each fraction were analyzed as previously described.11Subcellular localizationFor functional studies of mutated RUNX1 proteins, the wild-type RUNX1 sequence (1-453) was inserted into the pEF-BOS mammalian expression plasmid. Construction of RUNX1 mutants was carried out using the megaprimers method,30 and the resultant plasmids were transfected into NIH3T3 or REF52 (H58N, K83N, R177Q, and R177X only) cells using a nonliposomal transfection reagent FuGENE6 (Boehringer, Mannheim, Germany). Immunofluorescence labeling of RUNX1 and PEBP2βCBFβ and microscopy were as previously described.11 For each transfection 50 cells were visualized.Transactivation assaysThe luciferase reporter plasmid (pM-CSF-R-luc) and the effector plasmid (pEF-AML1), containing the 453 amino acid isoform of RUNX1 with the mutations to be studied, were transfected at a fixed ratio (0.5 and 0.8 μg per assay, respectively) into U937, HL60, and Jurkat cells. Cell extracts were prepared 48 hours after transfection and assayed essentially as described.11 To study the inhibitory effect of mutant RUNX1 proteins on wild-type RUNX1 reporter gene activation, 0.5 μg pM-CSF-R-luc and 0.1 to 0.8 μg pEF constructs expressing either RUNX1 with or without mutations or PEBP2β-MYH11 were cotransfected into U937, HL60, and Jurkat cells. The total amount of DNA transfected was kept constant (1.3 μg) by supplementing appropriate amounts of the backbone pEF plasmid, thereby avoiding potential artifacts due to unbalanced DNA dosages.Partial rescue from repression was obtained by transfecting varying doses of PEBP2βCBFβ with a repressive dose of wild-type and mutant proteins.ResultsLinkage and mutation analyses of the 3 new pedigreesEach of the 3 families demonstrated features typical of FPD/AML. A candidate region genetic linkage analysis provided maximum 2-point log odds ratio scores of 3.14, 2.15, and 2.43 (θ\\u2009=\\u20090) with markers D21S1413 in pedigree 1, IFNAR in pedigree 2, and D21S65 in pedigree 3. Extended haplotype analysis of each family indicated an approximate 3 megabase common nonrecombinant interval on human chromosome 21q22.1 containing RUNX1 in affected individuals.Pedigree 1 showed an A>G substitution in exon 3 resulting in a missense mutation, K83E (Figure 2A). The mutation segregates with the disorder in the family and was absent in 188 unrelated control chromosomes. Pedigree 2 showed a one-base deletion in the splice donor site of intron 4, IVS4\\u2009+\\u20093delA (Figure 2C). The mutation segregates with the disorder in the family and was absent in 184 unrelated control chromosomes. Reverse transcriptase (RT)–PCR on RNA from affected individuals showed the use of a cryptic donor splice site, not used in control RNA, 23 nucleotides upstream of the normal splice site (Figure 2D-F). The novel transcript generated by the use of the cryptic splice site results in a frameshift after amino acid 135, addition of 41 unrelated residues, and termination at codon 177 (R135fsX177). Pedigree 3 showed a C>A substitution in exon 7B resulting in a nonsense mutation, Y260X (Figure 2B). The mutation segregated with the disease in all family members tested.Effects of RUNX1 FPD/AML mutations on DNA binding and heterodimerization activities of the Runt domainWe examined the function of the Runt domain for 2 new (K83E and R135fsX177; SWISS-PROT Q01196) and 5 described (R139Q, R174Q, K90fsX101, R174X, R177X)10 FPD/AML point mutations. On EMSA analyses, R139Q, R174X, and R177X alone showed barely detectable DNA binding but produced a supershift band of increased intensity in the presence of PEBP2β/CBFβ, indicating that heterodimerization of these mutants with PEBP2β/CBFβ still occurs (Figure3A). K83E, R135fsX177, R174Q, and K90fsX101 showed no detectable DNA binding in the presence or absence of PEBPβ/CBFβ. An affinity assay of these mutants for heterodimerization with PEBP2β/CBFβ revealed that both missense mutants retained the ability to heterodimerize whereas both frameshift mutants did not (Figure 3B).Fig. 3.Download figureOpen in new tabDownload powerpointFig. 3. Alterations in the DNA binding and heterodimerization activities of the Runt domain of FPD/AML RUNX1 mutations.(A) Partial RUNX1 proteins (as indicated) were subjected to EMSA in the presence (+) and absence (−) of PEBP2β/CBFβ. WT indicates wild-type RUNX1. The position of the RUNX1 and RUNX1/CBFβ complexes with the DNA are indicated. (B) Affinity assay of the indicated partial RUNX1 proteins with PEBP2β/CBFβ. M indicates molecular weight marker as indicated both to the left and right; β, PEBP2β/CBFβ; A, input RUNX1 protein; W, unbound proteins in washed fractions; E, bound proteins eluted at 250 mM imidazole. The bands marked with arrows indicate the β subunits associated with RUNX1 proteins.Subcellular localization of the FPD/AML RUNX1 mutants and colocalization with PEBP2β/CBFβIn RUNX1 a nuclear localization signal (NLS) is present at amino acids 167 to 183 at the end of the Runt domain. RUNX1 wild-type protein is localized in the nucleus with a diffuse pattern and is excluded from the nucleoli (Figure 4A). Transfection of mutant full-length cDNAs into NIH3T3 cells and immunostaining the expressed RUNX1 proteins revealed that the frameshift (R135fsX177 and K90fsX101, no NLS) and nonsense (R174X and R177X, half of the NLS is missing) mutants are localized almost exclusively in the cytoplasm. Consistent with the importance of basic amino acids in the NLS, R174Q and R177Q (a sporadic mutation described by Osato et al11) showed cytoplasmic localization in 20% and 5% of observed cells, respectively (Figure 4A).Fig. 4.Download figureOpen in new tabDownload powerpointFig. 4. Subcellular localization of mutant RUNX1 proteins and colocalization with PEBP2β/CBFβ.(A) Subcellular localization of the indicated RUNX1 proteins was detected by immunofluorescence staining with anti-αB1. A schematic of the RUNX1 protein is shown with the Runt and transactivation domains indicated. The sequence of the NLS is indicated. (B) Double staining for mutant RUNX1 and PEBP2β/CBFβ reveals that the subunits are colocalized in the cytoplasm within speckled dotlike structures for the missense mutants and a diffuse staining pattern for the frameshift and nonsense mutations. All examples in this figure are in NIH3T3 cells. Original magnification, × 400.While the K83E and R139Q mutations are not within the known NLS, both mutant proteins showed reduced nuclear localization. K83E showed cytoplasmic localization in 30% of transfected cells, in contrast to the normal nuclear localization seen in K83N (a sporadic mutation; Figure 4A).11 This observation may suggest that the K83E mutation (K, positive, hydrophilic, C6; E, negative, hydrophilic, C5) results in greater loss of function than the K83N mutation (N, polar, hydrophobic, C4). The R139Q mutation is at a site involved in DNA binding18 and was expected to affect DNA binding rather than nuclear localization. However, cytoplasmic localization was observed in 40% of cells. The observed defect in nuclear localization in K83E and R139Q is consistent with earlier studies31 and may point to the existence of an additional unidentified N-terminal domain critical for nuclear localization.In contrast to RUNX1, PEBP2β/CBFβ is normally localized in the cytoplasm before heterodimerization32 and can enter the nucleus only with RUNX1.31 However, the regulation of the heterodimerization remains unknown, and it has been shown that both proteins may have different cellular localizations when transfected in the same cells.31 The missense mutants showed speckled dotlike distribution in the cytoplasm, markedly different from the diffuse pattern of the truncated or nonsense mutants. Double staining for the α and β subunits revealed that they colocalized within these speckled patterns (Figure 4B).Transactivation abilities of the FPD/AML RUNX1 mutantsThe transactivation potential of the mutant RUNX1 proteins was measured using a reporter construct based on the M-CSF receptor promoter as a myeloid-specific RUNX1-target.33 34Wild-type RUNX1 demonstrated more than 100-fold transactivation compared with the FPD/AML mutants, which showed no significant transactivation with or without PEBP2β/CBFβ (Figure5A). Despite the retention of DNA binding activity and C-terminal activation domains, R139Q failed to transactivate. Several mutants showed persistently lower luciferase activities than the mock-transfected plasmid, indicating that these mutants could hinder the function of endogenous RUNX1 in U937 cells. To allow measurement of inhibition of the wild-type transactivational activities caused by the mutant proteins, the reporter construct and a fixed amount of nonsaturating wild-type RUNX1 plasmid were cotransfected with varying amounts of FPD/AML mutant plasmids encoding mutant proteins with DNA and/or PEBP2β/CBFβ binding activity. PEBP2β/CBFβ-MYH11 and K83N repressed the M-CSF receptor promoter as previously reported.11 35 With the exception of R177X, all of the mutants showed varying degrees of interference with the wild-type protein function in all cell lines tested (U937, HL60, and Jurkat). Most notably, K83E and R174Q showed potent inhibition similar to that of PEBP2β/CBFβ-MYH11 (Figure 5B). The results of cotransfection reporter assays using frameshift mutants are not reproducible within or between cell lines.Fig. 5.Download figureOpen in new tabDownload powerpointFig. 5. Transactivation of the M-CSF receptor promoter by exogenously expressed RUNX1 proteins.(A) Cells were transfected with a luciferase reporter plasmid and the indicated RUNX1 expression constructs. Luciferase activities were measured and presented as the fold increase relative to the control transfected with the backbone expression vector. (B) The wild-type RUNX1 and missense RUNX1 mutants were coexpressed in varying doses as indicated. Luciferase activities are expressed as fold changes relative to the activity observed at the standard dose (0.3 μg) of the wild-type RUNX1 alone. (C) PEBP2β/CBFβ was transfected in varying doses with a repressive dose of wild-type and mutant RUNX1 proteins. In panels A-C, each value represents the mean of 3 separate experiments. The luciferase activity of the y-axis in panel C is shown as relative luciferase units (RLU). Deviations of the measurements are given by thin vertical bars. The chimeric protein PEBP2β/CBFβ-MYH11 and the sporadic mutation K83N were used as controls in each experiment. All examples in this figure are in U937 cells.Because all inhibitory mutants maintained the ability to heterodimerize and all colocalized with PEBP2β/CBFβ, sequestration of PEBP2β/CBFβ by mutant RUNX1 proteins may be the major inhibitory mechanism. To test this hypothesis, PEBP2β/CBFβ was cotransfected in increasing amounts together with inhibitory amounts of mutant RUNX1, resulting in the restoration of near- normal reporter gene activity (Figure 5C).DiscussionFive RUNX1 point mutations and a deletion of the entire RUNX1 gene have previously been described in FPD/AML. Here we report 3 new RUNX1 point mutations associated with the disease. Y260X, in pedigree 3, is at the beginning of the transactivating domain and removes a part of the negative regulatory region for DNA binding.20 31 It is the first described familial RUNX1 mutation outside the Runt domain. As such, the studies described in this paper are not appropriate to test the functional implications of this mutation. Functional analyses of 7 mutants (2 frameshift, 2 nonsense, and 3 missense mutations) were performed to investigate the mechanisms that contribute to FPD/AML, particularly the propensity to develop AML. The capacity to bind DNA was reduced or abolished in all mutant proteins as expected from the sites of substitutions in the Runt domain. The missense and nonsense mutant proteins (largely intact Runt domain) retained the capacity to heterodimerize with PEBP2β/CBFβ. The frameshift mutant proteins, which lack a substantial part of the Runt domain, failed to heterodimerize, as has been reported in a sporadic RUNX1 AML nonsense mutation S114X.11 These observations are consistent with the known crystal structure and predicted binding domain of mouse Runx1. The positions of the 3 missense mutations are not critical for the structural integrity of the dimerization site, whereas the frameshift mutant proteins are predicted to fold abnormally and lack Runt domain residues required for heterodimerization.18Do the mechanisms of pathogenesis of sporadic leukemias provide any clues to the mechanisms of pathogenesis in FPD/AML? In many sporadic hematologic malignancies, the same chromosomal rearrangements consistently appear, supporting the hypothesis that these events are a prerequisite for tumor induction. The somatic mutations acquired in leukemia by translocations and inversions are heterozygous in affected cells; normal copies of the translocated genes are still present. Consequently, the mechanism(s) of disease pathogenesis may include (1) a gain of function by chimeric fusion proteins, (2) haploinsufficiency, (3) a dominant-negative effect of the chimeric fusion proteins, and/or (4) a combination of these mechanisms. However, it is unlikely that the mutations described here have a gain-of-function activity.Haploinsufficiency of RUNX proteinsThe importance of gene dosage to the normal function of CBF transcriptional regulators is seen in the autosomal dominant human bone disorder, cleidocranial dysplasia, caused by mutations inRUNX2 (also called CBFα1).36 37Runx2+/− mice show skeletal defects similar to those in cleidocranial dysplasia.38 RUNX2 mutations may be heterozygous missense mutations, insertions, and deletions in either the Runt DNA binding domain or more C-terminal domains responsible for transactivation.39 RUNX2 point mutations are predicted to affect the folding and stability of RUNX2,18 resulting in haploinsufficiency of RUNX2 and defects in bone formation.36 40-43Complete deletion of RUNX1 results in haploinsufficiency in FPD/AML.10 The 2 FPD/AML splice site mutations resulting in frameshifts R135fsX177 and K90fsX101 cause loss of DNA binding, heterodimerization, nuclear localization, and transactivation functions and are also likely to act through simple haploinsufficiency.Dominant-negative effects of mutant RUNX proteins?Translocations involving RUNX1 produce chimeric proteins, most notably RUNX1/AML1-ETO(MTG8) in AML t(8;21) and TEL-RUNX1/AML1 in ALL t(12;21). These chimeric proteins both retain the entire Runt domain and have been shown to interfere with transactivation by the normal RUNX1 in a dominant-negative manner.44-46 RUNX1/AML1-ETO and related fusion proteins have been shown to form complexes with PEBP2β/CBFβ and other nuclear proteins more efficiently than wild-type RUNX1.47-49 Moreover, naturally occurring isoforms of RUNX1 proteins that contain only the Runt domain can also suppress transactivation by full-length RUNX1.50 Deletion of a negative regulatory domain for heterodimerization in the C-terminal region of full-length RUNX1 (amino acids 372-451) results in more efficient heterodimer formation.31 Thus, chimeric RUNX1 proteins resulting from translocations and the isoforms of RUNX1 without the transactivation domain50 may act in the same manner by dimerizing with PEBP2β/CBFβ more efficiently than the wild type.Cotransfection of equal amounts of wild-type and mutant plasmids closely mimics the in vivo situation of one normal and one mutant allele. All FPD/AML RUNX1 missense and nonsense mutants studied, except R177X, show a decrease in their transactivation capacities and an inhibitory effect on wild-type RUNX1 upon cotransfection and thus also seem to act as dominant-negative inhibitors. Both the missense and nonsense mutants still interact with PEBP2β/CBFβ, and both nonsense mutants studied here lack the negative regulatory domain for heterodimerization. R139Q and the 2 nonsense mutant proteins maintain some degree of DNA binding, although the DNA binding of the nonsense mutations may be irrelevant in vivo due to their cytoplasmic localization resulting from a direct disruption of the NLS. The missense mutants, while appropriately translocated to the nucleus most of the time, also show some cytoplasmic staining. The inhibitory nature of these mutants is likely to be due to competition with wild type for dimerization with PEBP2β/CBFβ and its sequestration. In the case of R174X, this must occur in the cytoplasm, whereas for the missense mutations it may occur in both the nucleus and cytoplasm. R177X, which differs from R174X by only 3 amino acids, did not show significant repression of the wild-type RUNX1 in the cotransfection assay and may be considered as haploinsufficient. Structural analysis of the C-terminal end of the Runt domain by nuclear magnetic resonance suggested that this is a region of conformational flexibility.51 R174X, which lacks 3 amino acids in this region, might show decreased flexibility and increased affinity for PEBP2β/CBFβ over R177X. Alternatively, the lack of inhibition by R177X could be due to technical difficulties inherent in the assay, as seen by the inconclusive results observed for the frameshift mutations.One of the notable features of the FPD/AML RUNX1 missense mutants studied here is the colocalization of the RUNX1 and PEBP2β/CBFβ in cytoplasmic speckles, where sequestration of PEBP2β/CBFβ could occur. There is a correlation between colocalization, PEBP2β/CBFβ interaction in vitro, and the level of the inhibitory effect. Because no such pattern was seen with the nonsense and frameshift mutants prematurely terminated within the Runt domain, the presence of the C-terminal region must be required for aggregation of RUNX1 into the speckled cytoplasmic patterns. This raises the possibility that the speckled structures could be the result of C-terminal–associating molecules, which could also be sequestered in the cytoplasm.It was recently shown that dimerization with PEBP2β/CBFβ protects RUNX1 from ubiquitin-proteasome–mediated degradation, and substitution of K83 to R was shown to increase the half-life of RUNX1 as lysine residues are ubiquitylated.52 Preferential binding of mutant RUNX1 proteins to PEBP2β/CBFβ may increase their half-lives. K83E may be the most potent nonchimeric mutant inhibitor of wild-type RUNX1 described so far because K83 is a residue important for ubiquitinylation.Mice heterozygous for the RUNX1/AML1-ETO or PEBP2β/CBFβ-MYH11 knocked-ins showed defects in definitive hematopoiesis similar to those observed in Runx1−/− or PEBP2β/CBFβ−/−mice.53 54 Thus, expression of strong dominant-negative inhibitors of RUNX1 seems to produce an embryonic lethal phenotype. The dominant transmission of RUNX1 mutations in FPD/AML implies that strong dominant-negative RUNX1 mutations would also be expected to be lethal. Another study recently showed dominant-negative mutations inCEBPA encoding the C/EBPα transcription factor in sporadic AML. However the dominant-negative effects of the predominantly frameshift mutations described in this study do not have an inhibitory effect by themselves but by increased formation of a secondary protein product by use of a downstream-initiating methionine.55Progression to leukemia in FPD/AMLHaploidy of RUNX1 is clearly sufficient for normal development but possibly insufficient for tumor suppression. Runx1−/−mice show a complete lack of definitive hematopoietic cells in the fetal liver, with death occurring from hemorrhages in the central nervous system at 12.5 days after coitus.56Runx1+/− mice demonstrate minimal changes in phenotype,56-58 although closer hematologic analysis has revealed a trend for bone marrow progenitor cells to have increased sensitivity to G-CSF, possibly reflecting a propensity to develop myelogenous leukemia.59The presence of biallelic RUNX1 mutations in sporadic leukemias may indicate that RUNX1 functions as a classical tumor suppressor gene.11 13 However, in other cases of sporadic leukemia only monoallelic RUNX1 mutations were described.11 13 Also, in FPD/AML leukemic patients—one each from the families with the complete RUNX1 deletion and R177X (annotated as R203X by Song et al10)—analysis of leukemic cells failed to detect RUNX1 mutations or deletion of the second RUNX1 allele.Two tumor suppressor genes (p53 and p27Kip1) have been shown to be haploinsufficient for tumor suppression in hemizygous mice where the potential complication of dominant-negative mutations can be excluded.60 61 A revision of the Knudson model has been proposed to accommodate haploinsufficiency. The normal level of biologic activity of a tumorigenic gene is tightly controlled, and an increase or decrease in this activity leads to increased tumor susceptibility. In a multiprotein complex or molecular cascade, hemizygous loss of each of 2 (or more) partners or molecules in the same pathway may be almost as tumorigenic as homozygous loss of any one partner.62While mutations in early-acting genes such as RUNX1 predispose to development of hematologic malignancies, the affected lineage and consequent type of malignancy may depend upon which genes subsequently sustain downstream “hits” from additional somatic mutation. For example, combined positivity for antigens CD34, C-KIT, and HLA-DR characterizes the CBF leukemias AML-M2 (RUNX1/AML1-ETO t(8;21)) and AML-M4Eo (PEBP2β/CBFβ-MYH11 inv(16)).63 C-KIT (CD117) is a transmembrane tyrosine kinase receptor for stem cell factor, which is required for normal hematopoiesis. Mutations in C-KIT have been described in various sporadic hematologic malignancies and other diseases.63-67 For example, mutations of residue D816 in exon 17 of C-KIT were detected in 6 of 15 patients with either t(8;21) AML-M2 or inv(16) AML-M4Eo.68It is difficult to make a robust correlation between the type of mutation and the proportion of patients who develop leukemia in FPD/AML families, because of the limited number of individuals identified and a lack of detailed clinical information. It would appear, however, that families with mutations acting simply via haploinsufficiency (deletions and frameshift mutations) show a smaller proportion of affected individuals who develop leukemia than do families transmitting mutations that may act in a dominant-negative fashion (Figure6). This is consistent with the hypothesis that a second mutation has to occur in RUNX1 or other genes to cause leukemia among individuals harboring an inheritedRUNX1 mutation, and these mutations are more likely to occur in the individuals with lower biologic activity of RUNX1. For example, in 2 of the largest FPD/AML pedigrees, a markedly higher rate of leukemia is seen in the family with strong predicted dominant-negative K83E mutation (57%) compared with the pedigree with a complete deletion of RUNX1 (24%).Fig. 6.Download figureOpen in new tabDownload powerpointFig. 6. A summary of the FPD/AML RUNX1 mutants and the studies presented in this paper.The FPD/AML RUNX1 mutants are listed in descending order of PEBP2/CBF activity. The Runt and transactivation domains are indicated on the mutant proteins as appropriate. Pedigrees 1 to 6 are from Song et al,10 and A1 and A2 are described in this paper. The results of the EMSA (DNA binding), affinity assay (PEBP2β/CBFβ subunit interaction), subcellular localization, and transactivation studies are summarized. The ratio of leukemic FPD individuals to FPD-affected individuals in each pedigree is indicated on the right. In the largest FPD/AML pedigrees, a markedly higher rate of leukemia is seen in the family with strong predicted dominant-negative K83E mutation (pedigree A1, dominant-negative, 57%) compared with the pedigree with a complete deletion of RUNX1 (pedigree 1, haploinsufficiency, 24%).Thus, we propose that the less functional PEBP/CBF transcriptional regulation complex present in a hematopoietic cell due to variable inhibitory effects of heterozygous mutations, or mutations of both alleles, the higher the propensity to develop leukemia. This mechanism is valid for FPD/AML or sporadic leukemia patients. Clearly, biallelic mutations would be more prone to leukemia development although additional genetic changes may still be required in other genes. Analyses of additional FPD/AML and sporadic leukemia cases with additional clinical and molecular data, including mutation analyses of genes coding for partners of PEBP/CBF or molecules in the same tumorigenic pathway, will help provide evidence for this hypothesis. The RUNX1/AML1 gene is the most frequent target for chromosomal translocation in leukemia. In addition, recent studies have demonstrated point mutations in the RUNX1 gene as another mode of genetic alteration in development of leukemia. Monoallelic germline mutations in RUNX1 result in familial platelet disorder predisposed to acute myelogenous leukemia (FPD/AML). Sporadic point mutations are frequently found in three leukemia entities: AML M0 subtype, MDS-AML, and secondary (therapy-related) MDS/AML. Therapy-related leukemias resulting from anticancer treatments are not uncommon, and the incidence of RUNX1 point mutations appears comparable to the incidence of the t(8;21) AML M2 subtype and the inv(16) AML M4Eo subtype. Half of the point mutations in M0 cases are biallelic, although the frequency varies with ethnicity. Most of the RUNX1 mutations are clustered in the Runt domain and result in defective DNA binding but active beta-subunit binding, which is consistent with three-dimensional structural findings and may explain the dominant inhibitory effects. Unlike the classical tumor suppressor genes requiring biallelic inactivation, haploinsufficient RUNX1 is apparently leukemogenic. However, RUNX1 abnormalities per se are insufficient to cause full-blown leukemia. Intensive investigation of cooperating genetic alterations should elucidate leukemic mechanisms.  Keywords: RUNX, AML1, PEBP2, point mutation, familial leukemia Top of page Introduction Since the discovery of the Philadelphia chromosome, t(9;22), in chronic myelogenous leukemia in 1960, leukemia researchers and physicians have paid much attention to the investigation of chromosomal translocations and resultant chimeric genes. It was also the case for RUNX1/AML1-related leukemia (also known as CBF leukemia, hereafter referred to as RUNX leukemia). Miyoshi et al. (1991) identified AML1 as a gene located on the breakpoint of chromosomal translocation t(8;21) in 1991. Since then, leukemia research on AML1/RUNX1 has been exclusively concentrated on investigating t(8;21) and resultant AML1(RUNX1)/ETO(MTG8); t(3;21), RUNX1/EVI1; t(12;21), TEL(ETV6)-RUNX1; and inv(16), PEBP2beta(CBFbeta)/MYH11. In 1999, Osato et al. (1999) and Song et al. (1999)reported a RUNX1 point mutation in sporadic and familial myeloid leukemia, respectively. Subsequent studies have identified point mutations in acute myeloid leukemia (AML), predominantly in the M0 subtype, in different ethnic groups (Preudhomme et al., 2000; Langabeer et al., 2002; Matsuno et al., 2003; Roumier et al., 2003a, 2003b; Silva et al., 2003). Until recently, mutations were believed to cluster within the Runt domain. However, mutations in the C-terminal region, outside the Runt domain, have also been identified, predominantly in MDS-AML (Harada et al., 2004). Finally, RUNX1 point mutations turned out to occur with comparable frequency to the first mode of RUNX1 alterations, namely, t(8;21), inv(16), and t(12;21), in secondary MDS/AML (Harada et al., 2003). Accordingly, the RUNX1 point mutation is fully recognized as the second mode of leukemogenesis in RUNX leukemia. In this review, I summarize the currently available cases of point mutations and discuss the leukemogenesis mediated by RUNX1+/- status.  Top of page Frequency and distribution of the point mutations The RUNX1 gene consists of 10 exons (exons 1–6, 7A, 7B, 7C, and 8) and two promoters followed by the distinct initiation codon in exon 1 and exon 3. The proximal promoter-driven transcript starts in exon 3 and encodes 453 amino acids (aa) (full length 453), whereas the distal promoter-driven transcript from exon 1 encodes 480 aa (full length 480). Full length 480 contains an additional 32 aa instead of 5 aa from the full length 453 in its N-terminal end. Thus, both full lengths share exons 3–6, 7B, and 8 and nearly the complete coding sequence. The Runt domain, a highly conserved 128 aa protein motif responsible for both DNA binding and heterodimerization with the beta-subunit PEBP2beta/CBFbeta spans aa 50–178 in full length 453 and is located on exons 3–5. All RUNX1 mutation-screening studies covered exons 3–5, and most included intron sequences flanking the exon. A few studies screened exons 1 and 2 as well, and half of the studies did not cover exons 6–8 encoding the C-terminal moiety where the transactivation domain spanning aa 291–371 is located. All types of human leukemia, except chronic lymphocytic leukemia (CLL), have been extensively investigated. In addition, a significant number of cell lines, including those established from solid tumors, as well as healthy volunteers were also included in the mutation screenings (Table 1) (Langabeer et al., 2002; Vegesna et al., 2002; Harada et al., 2003; Taketani et al., 2003). A total of 102 cases out of the 1786 tested had a RUNX1 alteration including a point mutation and gene deletion. Most of the nucleotide changes resulted in amino-acid changes with clear functional defects as shown in Figure 1. However, some mutations failed to show any apparent functional alterations, and the nucleotide change may have been constitutive or leukemia specific. Nucleotide changes that do not lead to amino-acid change (synonymous) may generate an abnormal splicing donor or acceptor site, resulting in a nonfunctional protein. These enigmatic cases are listed as 'variation' in Table 1. The numbers of mutations in Table 1 include variation cases. Most of the mutations are clustered within the Runt domain (Figure 1); N-terminal region, 9 (8.6%); Runt domain, 84 (80.8%); C-terminal region, 11 (10.5%). The total number of mutations (Table 1 and Figure 1) differs (104 vs 102) because the compiled mutants in Figure 1 include 11 cases from FPD/AML, which are not listed in Table 1. Conversely, gene deletion is not included in Figure 1, while a biallelic case in Table 1 provides two distinct mutations simultaneously.  Figure 1. Figure 1 - Unfortunately we are unable to provide accessible alternative text for this. If you require assistance to access this image, please contact help@nature.com or the author Distribution and functional consequences of RUNX1 gene mutations. The mutations (bold) and disease subtypes are compiled to the left of the corresponding amino acid indicated at the center. Amino acids in the Runt domain in dark green in the green bar representing exons are listed in a consecutive manner, while those outside the Runt domain are not. Missense, termination, and frameshift mutations are highlighted by yellow, dark gray, and gray, respectively. The functional consequences, DNA binding, beta-subunit binding, and dominant negative effects are listed on the right. + indicates function retention. Normal and hypernormal functions are in pink and red, respectively. Dominant negative effects are shown in light blue or dark blue in the right-end column. The strong cases are in dark blue  Full figure and legend (235K)  Table 1 - Frequency of mutations in the RUNX1/AML1 gene in various cancer patients and healthy volunteers. Table 1 - Frequency of mutations in the RUNX1//AML1 gene in various cancer patients and healthy volunteers - Unfortunately we are unable to provide accessible alternative text for this. If you require assistance to access this image, please contact help@nature.com or the author Full table  Top of page Functional consequence, haploinsufficiency Entire gene deletions and early truncated-type mutations (frameshift or nonsense mutations) were found with significant frequency. Most of the missense mutations also lost their DNA binding and transcriptional activities (Figure 1, right-middle column). Since the majority of cases are heterozygous, haploinsufficiency appears to be a basis for pathogenesis. This notion is most strongly supported by the whole gene deletion in FPD/AML. RUNX1+/- status is likely to provide the cells with a growth advantage to overcome 'selective pressure' in the subject. However, if this were the only mechanism, mutations would be distributed throughout the gene without 'hot spots'. Therefore, clustering in the Runt domain suggests that a mechanism other than genuine haploinsufficiency is important for leukemogenesis.  Top of page Dominant negative effect by the retained bold italic beta-binding activity In the Runt domain, eight regions or 'hot spots' were affected more than twice (Figure 1). Two different mechanisms are probably at least partly responsible. First, the primary sequence of particular sites seems to be preferably targeted by the mutation mechanism. R139, R174, and R177 are encoded by triplets containing CpG dinucleotides, which are extremely prone to transition-type mutations by a mechanism facilitated by methylation of the cytidine residue (Rodenhiser et al., 1997; Yoshida et al., 2003). Second, certain mutation sites are considered to provide cells a stronger growth advantage under 'selective pressure'. Mapping of the missense mutations strongly supports this notion. Three regions recurrently affected by missense mutations exclusively correspond to three loop-containing regions responsible for DNA binding: betaP1–loop(betaP1–betaB), betaE'–loop(betaE'–betaF), and betaP2–loop(betaP2–C-terminus) (Figure 2) (Nagata et al., 1999; Osato et al., 2001; Tahirov et al., 2001). Consequently, these mutants are defective only in DNA binding, and not in packing or heterodimerization (Figure 1), which may explain the dominant negative effects of the RUNX1 mutants. In cotransfection assays, missense and some nonsense mutants showed inhibitory effects towards transactivation mediated by wild-type RUNX1. These mutants bound to PEBP2beta/CBFbeta more efficiently than wild-type RUNX1 (Imai et al., 2000; Michaud et al., 2002). In addition, PEBP2beta protects RUNX1 from ubiquitin–proteasome-mediated degradation (Huang et al., 2001). Thus, preferential binding of mutant RUNX1 proteins to PEBP2beta may in turn increase protein half-life and hence further augment the dominant negative effects. In the right-end column of Figure 1, a general correlation can be seen between the retained beta-binding activity and the inhibitory potential of each mutant. This correlation is more clearly indicated by the comparison of the distribution of missense mutations between RUNX1 and RUNX2 (Figure 2). Germline mutation of RUNX2 causes the bone disease cleidocranial dysplasia (CCD) (Mundlos et al., 1997). The missense mutations of RUNX2 distributed throughout the Runt domain affected the overall folding architecture in the cases marked by asterisks in Figure 2, resulting in impairment of both DNA- binding and heterodimerization activity (packing defect). The mutations underlined in Figure 2 showed defects in beta binding alone. In clear contrast, no such mutations resulting in defective packing or beta binding have been found in RUNX1 so far. (Some reported cases are mapped to the residues responsible for packing (suspected cases), but functional analyses have not yet been performed. No suspected case with defect in beta binding alone has been reported.) Conversely, mutations mapping to the first DNA interacting region, betaP1-loop (betaP1-betaB), are seen in RUNX1 but not in RUNX2 (Figure 2) (Yoshida et al., 2003). These RUNX1 mutants, R80C, K83N, and K83E showed strong affinity for the beta-subunit and hence a strong dominant negative effect, suggesting that haploinsufficiency is a dominant mechanism in RUNX2 mutants, whereas a dominant negative effect is important in RUNX1 mutants. Sequestration of the beta-subunit may be one important mechanism of the dominant negative effect caused by the RUNX1 mutants.  Figure 2. Figure 2 - Unfortunately we are unable to provide accessible alternative text for this. If you require assistance to access this image, please contact help@nature.com or the author Structural mappings of the missense mutations detected in leukemia or the bone disease CCD. The RUNX1 mutants in leukemia (rectangular outline, orange) are mapped exclusively to the three regions involved in DNA binding, whereas the RUNX2 mutations in CCD (blue) are distributed all over the Runt domain except for the loop (betaP1-betaF). Mutations associated with packing (asterisk) and beta-binding (underline) defects are found only in CCD. Adapted from Nagata et al. (1999)  Full figure and legend (307K)  Top of page The lower the RUNX1 activity, the higher the leukemogenicity How does the dominant negative effect mentioned above relate to leukemogenesis? Although the limited number of individuals and minimal clinical information evaluated prohibit a robust conclusion, families with mutations acting simply via haploinsufficiency have a lower incidence of leukemia than families with mutations acting in a dominant-negative fashion. In two of the largest FPD/AML pedigrees, leukemia occurred at a markedly higher rate in the family with the strong dominant negative K83E mutation (57%) compared to the pedigree with a complete deletion of RUNX1 (24%) (Table 2) (Song et al., 1999; Michaud et al., 2002). Thus, low RUNX1 activity appears to correlate with high leukemogenicity. The hypothesis may be expanded to some extent to leukemogenesis induced by chimeric genes. The majority of current findings indicate that a major function of chimeric genes is a transdominant inhibition of wild-type RUNX1, resulting in severely decreased RUNX1 activity in affected cells. Currently, more than 10 partner genes fused with RUNX1 have been identified in chromosomal translocations. Although each chimeric gene may have its own leukemogenic mechanism, RUNX1 insufficiency may be a common underlying mechanism in RUNX leukemias.  Table 2 - RUNX1 mutations in familial leukemia: FPD/AML. Table 2 - RUNX1 mutations in familial leukemia: FPD//AML - Unfortunately we are unable to provide accessible alternative text for this. If you require assistance to access this image, please contact help@nature.com or the author Full table  Acquired trisomy 21 underscores this notion. RUNX1+/- mutant alleles appear to be duplicated frequently. This finding may also lend supporting evidence to the hypothesis that reduced RUNX1 activity increases leukemogenic status. This argument will be discussed later.  Top of page Mutation status – disease phenotype in sporadic leukemias Biallelic mutation and AML M0 subtype RUNX1 point mutations were most frequently found in the AML M0 subtype (Table 1). In addition, 22 of the 39 (56.4%) M0 cases showed the biallelic type of mutation (Table 3). Conversely, only two of the 80 RUNX1 mutation cases in other leukemia subtypes were the biallelic type. Therefore, it is clear that RUNX1 point mutations of the biallelic type are tightly associated with the AML M0 subtype. Mice heterozygous for the RUNX1-MTG8 or PEBP2beta(CBFbeta)-MYH11 chimeric genes showed defects in definitive hematopoiesis similar to Runx1-/- mice, suggesting that the chimeric genes can act as strong transdominant inhibitors of the remaining normal Runx1 allele (Castilla et al., 1996; Okuda et al., 1996; Yergeau et al., 1997). Therefore, the leukemogenic potential of biallelic RUNX1 mutants is considered equivalent to those of chimeric genes. On the other hand, t(8;21), inv(16), and biallelic point mutations are related to the distinct M2, M4Eo, and M0 subtypes of myeloid leukemias, respectively. The different disease phenotypes are quite interesting. The contribution of each partner gene, thought to be considerable, may also be explained by the different residual activities of RUNX1 in the affected adult hematopoietic cells. Conditional Runx1 knockout mice showed apparent defects in hematopoiesis (Ichikawa et al., 2004), whereas hematopoiesis in conditional heterozygous RUNX1-ETO knockin mice was nearly normal (Higuchi et al., 2002), suggesting that Runx1-/- induces more severe effects than the RUNX1-ETO chimeric gene in adult hematopoiesis. The M0 subtype shows minimally differentiated morphology, while the M2 subtype is characteristically well differentiated. Therefore, the differing residual activities of RUNX1 seem to be important. In addition, influence on the activities of other RUNX family genes must be considered because RUNX1-MTG8 or PEBP2beta (CBFbeta)-MYH11 chimeric genes could inhibit RUNX2 and RUNX3 as well, while RUNX1-/- status is a defect in RUNX1 alone. Careful study will resolve this intriguing issue. Table 3 - RUNX1 mutations in AML M0 subtype. Table 3 - RUNX1 mutations in AML M0 subtype - Unfortunately we are unable to provide accessible alternative text for this. If you require assistance to access this image, please contact help@nature.com or the author Full table  Of note, the biallelic-type mutation is strictly confined to the status with two copies of RUNX1. Biallelic mutation in trisomy 21 is not associated with the AML M0 subtype, but is associated with myeloid malignancies other than M0. This phenotypic difference will be discussed later.  Entire distribution including the C-terminal moiety and MDS-AML/secondary leukemia The RUNX1 point mutations are also frequently found in MDS and subsequent overt leukemia (referred to in this review as MDS-AML) (Tables 1 and 4). The mutations are characteristically distributed, as they were also detected in the C-terminal region which is rarely targeted in other types of leukemias (Harada et al., 2004). Since this distribution was only recently identified, C-terminal mutations were overlooked in a number of previous studies. Half of the studies did not investigate exons 7B and 8 in the C-terminal region. With regard to MDS-AML, the incidence covering both exons 3–6 and exons 3–8 were evaluated less frequently than those of exons 3–8 alone (Table 4). Thus, C-terminal mutations may be underestimated in MDS-AML. However, C-terminal mutations still seem rare in AML, since C-terminal mutations were not identified in the study with a relatively large number of cases. Therefore, RUNX1 point mutations including the C-terminal moiety appear to be found predominantly in MDS-AML. Table 4 - RUNX1 mutations in MDS. Table 4 - RUNX1 mutations in MDS - Unfortunately we are unable to provide accessible alternative text for this. If you require assistance to access this image, please contact help@nature.com or the author Full table  Harada et al. (2003) from Hiroshima, one of the two cities suffered from atomic bomb, reported two further implications of RUNX1 mutations in secondary MDS or AML (referred to in this review as MDS/AML), including therapy-related and atomic bomb-related MDS/AML. Firstly, the relationship to radiation seems important in terms of the social issue. In addition to the victims in the above two cities, an estimated 220 000 US soldiers and a significant number of local residents and passengers have been irradiated in the aboveground nuclear weapon test sites at Nevada, Bikini atoll, and others in the late 1940s to 1950s. Many of these people are thought to have succumbed to MDS/AML caused by RUNX1 point mutation. Secondly, the involvement in therapy-related MDS/AML seems to have more general impact. With the improvement of treatments for primary cancer, the incidence of therapy-related MDS/AML continues to increase. Therapy-related MDS/AML accounts for roughly 10–20% of all new cases of MDS and AML in standard hospitals. Therefore, the incidence of secondary MDS/AML with RUNX1 mutation is comparable to those of t(8;21) AML M2 subtype and inv(16) AML M4Eo subtype (Table 5). Considering its poor prognosis, clinical implication of RUNX1 point mutation in secondary MDS/AML would be rather more significant than we expected.  Table 5 - Estimated frequency of leukemia with RUNX1 point mutation. Table 5 - Estimated frequency of leukemia with RUNX1 point mutation - Unfortunately we are unable to provide accessible alternative text for this. If you require assistance to access this image, please contact help@nature.com or the author Full table  Leukemic incidence rates were based on several textbooks and public databases from CDC, WHO, and National Cancer Institute (NIH). CLL accounts for 10–30%, which may explain the relatively low incidences of t(8;21), inv(16), and t(12;21).  Acquired (not congenital) trisomy 21 and non-MO myeloid malignancy Preudhomme et al. (2000) first reported the relationship between trisomy 21 and RUNX1 point mutation (Table 6). Sporadic cases of myeloid but not lymphoid malignancy with trisomy 21 were associated with a high frequency of RUNX1 point mutations. Taketani et al. (2002) subsequently surveyed RUNX1 mutation in congenital cases of trisomy 21, that is, the Down syndrome-related hematopoietic diseases. However, point mutation in congenital cases appears to be rare except for the enigmatic H58N variation, which has nearly normal function. Allelic analysis of sporadic cases with acquired trisomy 21 showed the following combination: 2–3 mutant vs 0–1 wild type. The co-occurrence of mutation and trisomy 21 should be associated with the allelic combination with one mutant and two WT combination. However, this combination has never been found. These findings suggest that trisomy 21 increases the copy number of the mutant allele, which already exists in the status of two copies of RUNX1. In other words, trisomy 21 is thought to be a secondary change to RUNX1+/- status. Trisomy 21 as a second hit will be discussed later. Table 6 - Trisomy 21 and RUNX1 mutation. Table 6 - Trisomy 21 and RUNX1 mutation - Unfortunately we are unable to provide accessible alternative text for this. If you require assistance to access this image, please contact help@nature.com or the author Full table  As mentioned earlier, biallelic RUNX1 mutations are tightly liked to the AML M0 subtype. However, interestingly, acquired +21 carrying a RUNX1 point mutation has never been observed in the AML M0 subtype, even in cases with biallelic mutations (Table 6). This 'discrepancy' is not explained by the differing residual activities of RUNX1, as half of the M0 cases with RUNX1 mutation are monoallelic. Leukemic phenotype may be determined by an as yet undetermined mechanism.  Top of page Familial leukemia, FPD/AML Heterozygous germline mutation in the RUNX1 gene causes familial leukemia, familial platelet disorder with predisposition to acute myelogenous leukemia (FPD/AML). A total of 12 pedigrees have been identified so far, mainly in individuals of European descent (Table 2). FPD alone, before the onset of AML, is not fatal but significantly inhibits blood clotting, which could be life threatening after surgery, injury, dental treatment, or childbirth. The incidence of leukemia among affected individuals varies from 20 to 50% (average 35%), and is highest in familial leukemia syndromes including Fanconi anemia, Bloom syndrome, and Kostman syndrome. The affected subjects seem to develop myeloid malignancies throughout their life span, but not later in life as described in some previous reports. Leukemia developed before the age of 10 years in four of 11 cases. These features of FPD/AML were compared with a similar dominant hereditary disease, Huntington disease (HD). The subjects of HD are healthy until disease onset at 30–50 years of age and die 10–15 years later. In addition to the low penetrance and/or low severity of symptoms, late onset is a key factor for hereditary disease, since patients often have children before disease symptoms appear. On the other hands, FPD/AML seems detrimental to the subjects in any factors of hereditary disease. How can such a pedigree full of drawbacks exist? FPD/AML may persist as a disease due to the easy-mutability of RUNX1. As discussed before, RUNX1 indeed contains easy-mutable primary sequences: triplets containing CpG dinucleotides extremely prone to transition-type mutations facilitated by methylation of the cytidine residue (Rodenhiser et al., 1997; Yoshida et al., 2003). This mechanism could work particularly well in germ cells. The FPD/AML pedigree may readily disappear in the human population, while a 'de novo' pedigree could be continually generated with comparable frequency. Consistent with this argument, of CCD cases caused by RUNX2 mutation, approximately half are the 'de novo' and not the familial type (Zhou et al., 1999). Irradiation readily generates CCD-like phenotypes in mice due to Runx2 alterations. RUNX2 shares the above noted easy-mutable sequences. In the case of RUNX1, healthy British subjects have two kinds of variations: L29S and S21syn with 5 and 3% frequency, respectively (Langabeer et al., 2002). Japanese subjects also have several recurrent enigmatic variations: G42R, I87syn, and H58N. Interestingly, G42R was identified in both leukemia patients and healthy volunteers (Harada et al., 2003; Taketani et al., 2003). These variations, probably including polymorphisms, might reflect the above noted easy-mutability of RUNX1.  As mentioned above, FPD/AML is extremely rare worldwide. Therefore, this clinical entity had been overlooked by physicians until recently. Bone marrow transplantaion was carried out from an affected sibling with mild FPD symptoms to a patient suffering from AML (Buijs et al., 2001). The recipient succumbed to leukemia again, clearly from the hematopoietic cells derived from the donor.  Top of page Genetic alterations cooperating with RUNX1+/- status As mentioned earlier, RUNX1-/- status is frequently found in the AML M0 subtype. Thus, RUNX1 may appear to act as a classical tumor suppressor gene, requiring inactivation of two alleles according to Knudson's two hits theory. However, biallelic inactivation is not required in all cases of leukemogenesis; in fact, the overall frequency of biallelic cases is relatively low (27 of 102 cases, or 26%). Biallelic cases of FPD/AML have never been reported. Therefore, RUNX1+/- per se appears to be leukemogenic. The dominant negative effect associated with missense mutations might play a role in leukemogenesis, but not to the same extent as gene inactivation. In any case, heterozygous mutation appears to be a step towards leukemogenesis. Therefore, a mutation in the wild-type RUNX1 on the remaining allele is considered to be a second hit in addition to RUNX1+/- status. Furthermore, acquired but not congenital trisomy 21 is also thought to be a second hit. As discussed earlier, the link between +21 and RUNX1 mutation is interpreted as follows; a mutation takes place in the two copy status and the mutant allele is duplicated in accordance with +21. In both RUNX1-/- and +21 cases, acquirement of another mutant allele is therefore thought to be an additional genetic alteration cooperating with RUNX1+/- status (Figure 3).  Figure 3. Figure 3 - Unfortunately we are unable to provide accessible alternative text for this. If you require assistance to access this image, please contact help@nature.com or the author Leukemogenesis from Runx1+/-. Biallelic mutations of RUNX1 (RUNX1-/-) are tightly liked to the AML M0 subtype. However, acquired +21 carrying a RUNX1 point mutation (RUNX1+/-/-) has never been observed in M0, despite cases with biallelic mutations. Mutation likely takes place in the two copy status (RUNX1+/-) and the mutant allele is duplicated in accordance with +21, resulting in myeloid malignancies other than M0. FLT-3 mutations were frequently found in M0 cases with RUNX1 point mutations. These genetic alterations are mapped based on such observations  Full figure and legend (55K)  In line with +21, cytogenetics helps to identify second hits. Patients with RUNX1 point mutations show the following concurrent abnormalities; 12 cases showed -7; 6, +8; 5,+13 (Tables 2, 3 and 4). Loss of chromosome 7 is suspected to be a strong predisposing factor for the second hit in RUNX1+/-.  FLT-3 mutations were frequently observed even in monoallelic RUNX1 mutations in M0 patients (Table 3) (Matsuno et al., 2003; Roumier et al., 2003a, 2003b). Hence, the FLT-3 mutation is also a cooperating genetic alteration (Figure 3). FLT-3 mutation results in a constitutively active form known to stimulate cell proliferation. Therefore, differentiation blockade by RUNX1 alteration and growth stimulation by FLT3 mutation would synergistically contribute to a substantial fraction of AML M0 subtype cases. Interesting enough, FLT-3 mutations are known to be rare in the other RUNX leukemias, t(8;21) and inv(16). Certain RUNX leukemias seem to cooperate with distinct second hits. Elucidation of this mechanism might shed light on development of RUNX leukemias.  Top of page Current problems Region for mutation screening As discussed previously, half of the screening studies did not cover C-terminal exons 7B and 8 and therefore overlooked C-terminal mutations in MDS-AML. C-terminal screening is unlikely to reveal information about AML but is recommended. Likewise, exons 1 and 2 might be affected in particular types of leukemia. Theoretically, the promoter and untranslated regions could also be targeted. Variations Significant numbers of variations are reported, as shown in Table 1 and Figure 1. Functional analyses have not yet been performed in all the cases. Each variation must be studied to determine if it is a mutation or a polymorphism. Analyses of polymorphisms might help to characterize susceptibility to leukemia. Dominant negative effect by C-terminal mutants in MDS-AML In the reporter assay, all C-terminal mutants found in MDS-AML showed inhibitory effects in a transdominant manner, like the missense mutants in the Runt domain (Harada et al., 2004). However, similar C-terminal RUNX2 mutations in CCD patients retain partial transactivation activity and show much milder phenotypes compared to the standard CCD phenotypes, which are caused by simple gene deletions (Yoshida et al., 2002). This discrepancy may be due to the distinct cell context or promoter used for the assay. However, a correlation with MDS but not AML might indicate that C-terminal mutants have milder inhibitory effects than Runt domain mutants. The biological assay, but not the reporter assay, may address this issue. Cooperative genetic alterations FLT-3 mutation and +21 are thought to be second hits in MDS/AML with RUNX1 mutations. High frequency of chromosome 7 loss suggests inactivation of the unknown gene on chromosome 7 plays a synergistic role with RUNX1 mutations. However, the overall frequency of these mutations does not account for all cases. Furthermore, to induce a leukemia, three to five genetic alterations are considered to be required based on current evidence. Therefore, a number of genetic alterations must be identified to understand the whole leukemogenic mechanism of RUNX leukemia. My laboratory recently established a mouse system that appears to be quite useful. Myeloid leukemia-prone mice mimicking FPD/AML were generated by backcrossing Runx1+/- onto the BXH2 strain, in which retroviral insertional mutagenesis occurs spontaneously with the eventual development of myeloid leukemia in over 90% of the cases (Li et al., 1999). The proviral integration sites in the leukemias provide powerful genetic tags for disease gene identification. Therefore, collaborating oncogenes with Runx1+/- would be readily detected. Loss-of-function of RUNX1 is widely believed to be the common underlying mechanism of RUNX leukemia. RUNX1+/- status is considered to be the minimum alteration required for several forms of RUNX leukemias. Therefore, the mouse model for FPD/AML mentioned above should be useful for searching for cooperative genetic alterations in the other RUNX leukemias, t(8;21) and inv(16). These genetic alterations identified by the retroviral tagging system might explain the leukemogenic mechanisms not only of RUNX1 point mutations but also of other RUNX leukemias. Top of page Future directions Why is RUNX1+/- status leukemogenic? This question seems to be the most fundamental question not only for RUNX1 point mutation but also all RUNX leukemias. Determining the means by which RUNX1+/- is leukemogenic may not be possible by the currently used approaches to evaluate differentiation, proliferation, and apoptosis at the cellular level and transcriptional control at the molecular level. A novel approach is warranted. For example, alteration of 'stemness' should be investigated in RUNX1+/- status. Stemness could provide cells with a time window sufficient for sequential genetic alterations. Intrinsic molecular functions relevant to leukemogenesis, other than transcriptional control, might be identified by novel approaches.\""
            ],
            "application/vnd.google.colaboratory.intrinsic+json": {
              "type": "string"
            }
          },
          "metadata": {},
          "execution_count": 5
        }
      ]
    },
    {
      "cell_type": "code",
      "source": [
        "import nltk\n",
        "from nltk.corpus import stopwords\n",
        "import re\n",
        "nltk.download(\"stopwords\")"
      ],
      "metadata": {
        "id": "bYw3RcgjB7Tu",
        "colab": {
          "base_uri": "https://localhost:8080/"
        },
        "outputId": "9e5239f8-3cf1-493d-b0a3-83f8f7a2a4a0"
      },
      "execution_count": null,
      "outputs": [
        {
          "output_type": "stream",
          "name": "stderr",
          "text": [
            "[nltk_data] Downloading package stopwords to /root/nltk_data...\n",
            "[nltk_data]   Unzipping corpora/stopwords.zip.\n"
          ]
        },
        {
          "output_type": "execute_result",
          "data": {
            "text/plain": [
              "True"
            ]
          },
          "metadata": {},
          "execution_count": 6
        }
      ]
    },
    {
      "cell_type": "code",
      "source": [
        "stop_words = set(stopwords.words('english'))\n",
        "\n",
        "def default_nlp_preprocessing(total_text, column, index):\n",
        "                \n",
        "  if type(total_text) is not int:\n",
        "    string = \"\"\n",
        "    total_text = re.sub('[!@#$%^&*()]',' ',total_text)\n",
        "    total_text = re.sub('[^a-zA-Z0-9\\n]',' ',total_text)\n",
        "    total_text = re.sub('\\s+',' ',total_text)\n",
        "    total_text = total_text.lower()\n",
        "\n",
        "    for word in total_text.split():\n",
        "      if word not in stop_words:\n",
        "        string += word + \" \"\n",
        "    \n",
        "    train_text[column][index] = string\n"
      ],
      "metadata": {
        "id": "HHXVhFPsCmVR"
      },
      "execution_count": null,
      "outputs": []
    },
    {
      "cell_type": "code",
      "source": [
        "for index, row in train_text.iterrows():\n",
        "  if type(row[\"TEXT\"]) is str:\n",
        "    default_nlp_preprocessing(row[\"TEXT\"],\"TEXT\",index)\n",
        "  "
      ],
      "metadata": {
        "id": "EvyxdEYbJpMm"
      },
      "execution_count": null,
      "outputs": []
    },
    {
      "cell_type": "code",
      "source": [
        "train_text[\"TEXT\"][3320]"
      ],
      "metadata": {
        "colab": {
          "base_uri": "https://localhost:8080/",
          "height": 140
        },
        "id": "Zv81m5VpRkTV",
        "outputId": "7586c341-c61d-44f2-a0d7-f6ef718a6452"
      },
      "execution_count": null,
      "outputs": [
        {
          "output_type": "execute_result",
          "data": {
            "text/plain": [
              "'frequent mutations associated leukemia recurrent somatic chromosomal translocations inversions many involve polyomavirus enhancer binding protein core binding factor transcriptional regulation complex pebp2 cbf several translocations involve subunit complex runx1 gene also called aml1 cbf 2 pebp2 b chromosome 21q22 1 8 21 3 21 12 21 additionally subunit complex pebp2 also called cbf disrupted inv 16 p13 q22 1 abundance evidence points existence genes predispose hematologic malignancies however large multiple generation families hematologic malignancies alone rare 2 2 loci familial hematologic malignancies identified date 1 chromosome 21q22 13 16q22 4 5 loci contain runx1 andpebp2 cbf respectively studies families demonstrate single gene inheritance leukemia predisposition help identify genes mechanisms involved first steps leukemia development autosomal dominant familial platelet disorder fpd aml acute myelogenous leukemia online mendelian inheritance man 601399 good model validate hypothesis addition developing thrombocytopenia patients show propensity progression myelodysplasia acute myeloid leukemia 6 9 affected individuals within family may present variable clinical severity varying ages fpd aml linked 21q22 1 22 2 3 9 including region contains runx1 germline runx1 mutations subsequently identified 6 pedigrees 10heterozygous missense mutations biallelic nonsense frameshift mutations runx1 also identified sporadic leukemias 11 point mutations characterized patients m0 aml various myeloid malignancies 12 including acquired trisomy tetrasomy chromosome 21 13 missense mutations abolish dna binding transactivation activities runx1 affect heterodimerization pebp2 cbf addition mutant proteins inhibit wild type runx1 cotransfection studies 11 12the evolutionarily conserved 128 amino acid runt domain present runx1 isoforms involved dna binding heterodimerization pebp2 cbf 14 15heterodimerization runx1 pebp2 cbf promotes dna binding stabilizing interaction complex dna 16 17 runx1 point mutations described fpd aml patients10 runx1 point mutations patients sporadic leukemias11 13 within runt domain alter amino acids essential dna binding heterodimerization 18 19 longer runx1 proteins also contain transactivation domain domains involved self regulation protein protein interaction cellular localization 20 runx1 regulates activity several important hematopoietic genes macrophage colony stimulating factor csf receptor 21 cell receptor 22 granulocyte macrophage gm csf 23myeloperoxidase 24 neutrophil elastase 25by binding core sequence tgt cggt found promoters enhancers proposed haploinsufficiency runx1 responsible fpd aml 10 however hyperactivating inhibitory loss function runx1 point mutations reported sporadic leukemia 11 diversity mechanisms pathogenesis sporadic aml runx1 mutations suggested fpd aml runx1 mutations warranted functional studies describe 3 new runx1 mutations fpd aml potential mechanisms involved pathogenesis disease based vitro studies 7 runx1 fpd aml mutations materials methodssample collection genomic dna isolationour fpd aml pedigrees shown figure1 pedigree 1 extensively described 7 fourteen members family hemorrhagic diathesis characterized long bleeding time abnormal platelet aggregation decreased numbers platelet dense bodies among affected individuals 3 documented cases myeloblastic leukemia 2 documented cases myelomonoblastic leukemia 3 cases leukemia history fig 1 download figureopen new tabdownload powerpointfig 1 fpd aml pedigrees unique study 3 pedigrees show linkage fpd aml locus 21q22 1 22 2 half filled symbols represent individuals bleeding disorder studied platelet defect well completely filled symbols represent affected individuals developed leukemia pedigree 2 previously unreported 8 affected individuals 4 generations clinical history prolonged bleeding constitutional thrombocytopenia found 5 members 3 extensive platelet evaluations documenting aspirinlike aggregation defects dense granule abnormality demonstrable electron microscopic morphology quinacrine fluorescence three individuals developed aml fourth said died pernicious anemia pedigree 3 consists 15 affected individuals 4 generations family bleeding disorder characterized impaired platelet aggregation associated decreased numbers contents platelet dense granules26 27 well unique platelet phospholipid defect decreased 2 adrenergic receptors 28 29 platelet counts family slightly lower limit normal 26 27 two members family developed aml another reported died leukemia 29blood samples obtained healthy affected individuals obtaining informed consent accordance institutional guidelines human subjects dna isolated blood leukocytes using standard protocols linkage analysisgenotype information generated polymerase chain reaction pcr amplification chromosome 21 microsatellite markers genome database http www gdb org linkage analysis previously described 4 5 least 7 microsatellite repeat polymorphisms fpd aml critical region chromosome 21q22 1 3 genotyped family mutation analysesall 9 exons runx1 amplified genomic dna using primers designed flanking region exon single strand conformational polymorphism analysis performed pcr fragments less 400 base pairs using genephor apparatus genegel 12 5 kit amersham pharmacia biotech freiburg germany exons showing conformational changes directly sequenced directions using bigdye terminator cycle sequencing applied biosystems foster city ca analyzed abi377 sequencer rt pcrfirst strand complementary dna cdna synthesized patient individuals iv 2 v 2 pedigree 2 control rna using superscript ii reverse transcriptase pcr performed using primers aml1rtf3 figure 2d primer c 5 ctgctccgtgctgcctacgcactg 3 exon 3 aml1b amlrtr1 5 cgcagctgctccagttcactgagc 3 exon 6 reverse primer double stranded cdnas cloned ta vector sequenced cryptic splice site observed one clone primers covering cryptic splice junction exon 4 5 f2amlmf4 figure 2d primer 5 taatgacctcagggaaaagcttc 3 within nucleotides exon 4 excluded mutant transcript f2amlf1 figure 2d primer b 5 tgtcggtcgaagtggaagagg 3 designed used aml1rtr1 amplify pcr product patients cdna mutant transcript observed control cdna fig 2 download figureopen new tabdownload powerpointfig 2 mutation analysis fpd aml pedigrees electropherograms affected control individuals showing g substitution leading k83e missense mutation pedigree 1 c substitution resulting nonsense mutation y260x pedigree 3 b deletion 3 position splice donor site intron 4 pedigree 2 ivs4 3dela c arrows indicate point mutations schematic representation cryptic splice site within exon 4 used mutated transcript pedigree 2 rt pcrs used analyze splicing b c represent forward primers used rt pcr experiment primer specific mutated form primer b specific wild type form primer c used control reverse primer used reaction 23 nucleotides exon 4 excluded mutant transcript indicated black box e rt pcr patient control rna described panel primer specific mutated form show amplification control rna f sequence analysis mutant exon 4 exon 5 junction electrophoretic mobility shift assayamino acids 24 189 runx1 including runt domain expressed escherichia coli purified subjected electrophoretic mobility shift assay emsa essentially described previously 11 wild type expression plasmid previously described 11 mutant runx1 plasmids obtained site directed mutagenesis wild type pqe9 runx1 using strategene quick change method according manufacturer instruction manual stratagene amsterdam netherlands k90fsx101 alternative vector pqe13 used instead express fusion bulky n terminal appendage containing hexahistidines dihydrofolate reductase mutant constructs confirmed sequencing affinity assay runx1 pebp2 cbf associationthe heterodimerization activity runx1 mutants impaired dna binding assayed magextractor kit toyobo osaka japan briefly hexahistidine tagged runx1 fragment 1 g incubated tagless pebp2 cbf 1 g mixed nickel coated magnetic beads mixture successively washed buffers containing 30 mm imidazole eluted buffer supplied manufacturer proteins fraction analyzed previously described 11subcellular localizationfor functional studies mutated runx1 proteins wild type runx1 sequence 1 453 inserted pef bos mammalian expression plasmid construction runx1 mutants carried using megaprimers method 30 resultant plasmids transfected nih3t3 ref52 h58n k83n r177q r177x cells using nonliposomal transfection reagent fugene6 boehringer mannheim germany immunofluorescence labeling runx1 pebp2 cbf microscopy previously described 11 transfection 50 cells visualized transactivation assaysthe luciferase reporter plasmid pm csf r luc effector plasmid pef aml1 containing 453 amino acid isoform runx1 mutations studied transfected fixed ratio 0 5 0 8 g per assay respectively u937 hl60 jurkat cells cell extracts prepared 48 hours transfection assayed essentially described 11 study inhibitory effect mutant runx1 proteins wild type runx1 reporter gene activation 0 5 g pm csf r luc 0 1 0 8 g pef constructs expressing either runx1 without mutations pebp2 myh11 cotransfected u937 hl60 jurkat cells total amount dna transfected kept constant 1 3 g supplementing appropriate amounts backbone pef plasmid thereby avoiding potential artifacts due unbalanced dna dosages partial rescue repression obtained transfecting varying doses pebp2 cbf repressive dose wild type mutant proteins resultslinkage mutation analyses 3 new pedigreeseach 3 families demonstrated features typical fpd aml candidate region genetic linkage analysis provided maximum 2 point log odds ratio scores 3 14 2 15 2 43 0 markers d21s1413 pedigree 1 ifnar pedigree 2 d21s65 pedigree 3 extended haplotype analysis family indicated approximate 3 megabase common nonrecombinant interval human chromosome 21q22 1 containing runx1 affected individuals pedigree 1 showed g substitution exon 3 resulting missense mutation k83e figure 2a mutation segregates disorder family absent 188 unrelated control chromosomes pedigree 2 showed one base deletion splice donor site intron 4 ivs4 3dela figure 2c mutation segregates disorder family absent 184 unrelated control chromosomes reverse transcriptase rt pcr rna affected individuals showed use cryptic donor splice site used control rna 23 nucleotides upstream normal splice site figure 2d f novel transcript generated use cryptic splice site results frameshift amino acid 135 addition 41 unrelated residues termination codon 177 r135fsx177 pedigree 3 showed c substitution exon 7b resulting nonsense mutation y260x figure 2b mutation segregated disease family members tested effects runx1 fpd aml mutations dna binding heterodimerization activities runt domainwe examined function runt domain 2 new k83e r135fsx177 swiss prot q01196 5 described r139q r174q k90fsx101 r174x r177x 10 fpd aml point mutations emsa analyses r139q r174x r177x alone showed barely detectable dna binding produced supershift band increased intensity presence pebp2 cbf indicating heterodimerization mutants pebp2 cbf still occurs figure3a k83e r135fsx177 r174q k90fsx101 showed detectable dna binding presence absence pebp cbf affinity assay mutants heterodimerization pebp2 cbf revealed missense mutants retained ability heterodimerize whereas frameshift mutants figure 3b fig 3 download figureopen new tabdownload powerpointfig 3 alterations dna binding heterodimerization activities runt domain fpd aml runx1 mutations partial runx1 proteins indicated subjected emsa presence absence pebp2 cbf wt indicates wild type runx1 position runx1 runx1 cbf complexes dna indicated b affinity assay indicated partial runx1 proteins pebp2 cbf indicates molecular weight marker indicated left right pebp2 cbf input runx1 protein w unbound proteins washed fractions e bound proteins eluted 250 mm imidazole bands marked arrows indicate subunits associated runx1 proteins subcellular localization fpd aml runx1 mutants colocalization pebp2 cbf runx1 nuclear localization signal nls present amino acids 167 183 end runt domain runx1 wild type protein localized nucleus diffuse pattern excluded nucleoli figure 4a transfection mutant full length cdnas nih3t3 cells immunostaining expressed runx1 proteins revealed frameshift r135fsx177 k90fsx101 nls nonsense r174x r177x half nls missing mutants localized almost exclusively cytoplasm consistent importance basic amino acids nls r174q r177q sporadic mutation described osato et al11 showed cytoplasmic localization 20 5 observed cells respectively figure 4a fig 4 download figureopen new tabdownload powerpointfig 4 subcellular localization mutant runx1 proteins colocalization pebp2 cbf subcellular localization indicated runx1 proteins detected immunofluorescence staining anti b1 schematic runx1 protein shown runt transactivation domains indicated sequence nls indicated b double staining mutant runx1 pebp2 cbf reveals subunits colocalized cytoplasm within speckled dotlike structures missense mutants diffuse staining pattern frameshift nonsense mutations examples figure nih3t3 cells original magnification 400 k83e r139q mutations within known nls mutant proteins showed reduced nuclear localization k83e showed cytoplasmic localization 30 transfected cells contrast normal nuclear localization seen k83n sporadic mutation figure 4a 11 observation may suggest k83e mutation k positive hydrophilic c6 e negative hydrophilic c5 results greater loss function k83n mutation n polar hydrophobic c4 r139q mutation site involved dna binding18 expected affect dna binding rather nuclear localization however cytoplasmic localization observed 40 cells observed defect nuclear localization k83e r139q consistent earlier studies31 may point existence additional unidentified n terminal domain critical nuclear localization contrast runx1 pebp2 cbf normally localized cytoplasm heterodimerization32 enter nucleus runx1 31 however regulation heterodimerization remains unknown shown proteins may different cellular localizations transfected cells 31 missense mutants showed speckled dotlike distribution cytoplasm markedly different diffuse pattern truncated nonsense mutants double staining subunits revealed colocalized within speckled patterns figure 4b transactivation abilities fpd aml runx1 mutantsthe transactivation potential mutant runx1 proteins measured using reporter construct based csf receptor promoter myeloid specific runx1 target 33 34wild type runx1 demonstrated 100 fold transactivation compared fpd aml mutants showed significant transactivation without pebp2 cbf figure5a despite retention dna binding activity c terminal activation domains r139q failed transactivate several mutants showed persistently lower luciferase activities mock transfected plasmid indicating mutants could hinder function endogenous runx1 u937 cells allow measurement inhibition wild type transactivational activities caused mutant proteins reporter construct fixed amount nonsaturating wild type runx1 plasmid cotransfected varying amounts fpd aml mutant plasmids encoding mutant proteins dna pebp2 cbf binding activity pebp2 cbf myh11 k83n repressed csf receptor promoter previously reported 11 35 exception r177x mutants showed varying degrees interference wild type protein function cell lines tested u937 hl60 jurkat notably k83e r174q showed potent inhibition similar pebp2 cbf myh11 figure 5b results cotransfection reporter assays using frameshift mutants reproducible within cell lines fig 5 download figureopen new tabdownload powerpointfig 5 transactivation csf receptor promoter exogenously expressed runx1 proteins cells transfected luciferase reporter plasmid indicated runx1 expression constructs luciferase activities measured presented fold increase relative control transfected backbone expression vector b wild type runx1 missense runx1 mutants coexpressed varying doses indicated luciferase activities expressed fold changes relative activity observed standard dose 0 3 g wild type runx1 alone c pebp2 cbf transfected varying doses repressive dose wild type mutant runx1 proteins panels c value represents mean 3 separate experiments luciferase activity axis panel c shown relative luciferase units rlu deviations measurements given thin vertical bars chimeric protein pebp2 cbf myh11 sporadic mutation k83n used controls experiment examples figure u937 cells inhibitory mutants maintained ability heterodimerize colocalized pebp2 cbf sequestration pebp2 cbf mutant runx1 proteins may major inhibitory mechanism test hypothesis pebp2 cbf cotransfected increasing amounts together inhibitory amounts mutant runx1 resulting restoration near normal reporter gene activity figure 5c discussionfive runx1 point mutations deletion entire runx1 gene previously described fpd aml report 3 new runx1 point mutations associated disease y260x pedigree 3 beginning transactivating domain removes part negative regulatory region dna binding 20 31 first described familial runx1 mutation outside runt domain studies described paper appropriate test functional implications mutation functional analyses 7 mutants 2 frameshift 2 nonsense 3 missense mutations performed investigate mechanisms contribute fpd aml particularly propensity develop aml capacity bind dna reduced abolished mutant proteins expected sites substitutions runt domain missense nonsense mutant proteins largely intact runt domain retained capacity heterodimerize pebp2 cbf frameshift mutant proteins lack substantial part runt domain failed heterodimerize reported sporadic runx1 aml nonsense mutation s114x 11 observations consistent known crystal structure predicted binding domain mouse runx1 positions 3 missense mutations critical structural integrity dimerization site whereas frameshift mutant proteins predicted fold abnormally lack runt domain residues required heterodimerization 18do mechanisms pathogenesis sporadic leukemias provide clues mechanisms pathogenesis fpd aml many sporadic hematologic malignancies chromosomal rearrangements consistently appear supporting hypothesis events prerequisite tumor induction somatic mutations acquired leukemia translocations inversions heterozygous affected cells normal copies translocated genes still present consequently mechanism disease pathogenesis may include 1 gain function chimeric fusion proteins 2 haploinsufficiency 3 dominant negative effect chimeric fusion proteins 4 combination mechanisms however unlikely mutations described gain function activity haploinsufficiency runx proteinsthe importance gene dosage normal function cbf transcriptional regulators seen autosomal dominant human bone disorder cleidocranial dysplasia caused mutations inrunx2 also called cbf 1 36 37runx2 mice show skeletal defects similar cleidocranial dysplasia 38 runx2 mutations may heterozygous missense mutations insertions deletions either runt dna binding domain c terminal domains responsible transactivation 39 runx2 point mutations predicted affect folding stability runx2 18 resulting haploinsufficiency runx2 defects bone formation 36 40 43complete deletion runx1 results haploinsufficiency fpd aml 10 2 fpd aml splice site mutations resulting frameshifts r135fsx177 k90fsx101 cause loss dna binding heterodimerization nuclear localization transactivation functions also likely act simple haploinsufficiency dominant negative effects mutant runx proteins translocations involving runx1 produce chimeric proteins notably runx1 aml1 eto mtg8 aml 8 21 tel runx1 aml1 12 21 chimeric proteins retain entire runt domain shown interfere transactivation normal runx1 dominant negative manner 44 46 runx1 aml1 eto related fusion proteins shown form complexes pebp2 cbf nuclear proteins efficiently wild type runx1 47 49 moreover naturally occurring isoforms runx1 proteins contain runt domain also suppress transactivation full length runx1 50 deletion negative regulatory domain heterodimerization c terminal region full length runx1 amino acids 372 451 results efficient heterodimer formation 31 thus chimeric runx1 proteins resulting translocations isoforms runx1 without transactivation domain50 may act manner dimerizing pebp2 cbf efficiently wild type cotransfection equal amounts wild type mutant plasmids closely mimics vivo situation one normal one mutant allele fpd aml runx1 missense nonsense mutants studied except r177x show decrease transactivation capacities inhibitory effect wild type runx1 upon cotransfection thus also seem act dominant negative inhibitors missense nonsense mutants still interact pebp2 cbf nonsense mutants studied lack negative regulatory domain heterodimerization r139q 2 nonsense mutant proteins maintain degree dna binding although dna binding nonsense mutations may irrelevant vivo due cytoplasmic localization resulting direct disruption nls missense mutants appropriately translocated nucleus time also show cytoplasmic staining inhibitory nature mutants likely due competition wild type dimerization pebp2 cbf sequestration case r174x must occur cytoplasm whereas missense mutations may occur nucleus cytoplasm r177x differs r174x 3 amino acids show significant repression wild type runx1 cotransfection assay may considered haploinsufficient structural analysis c terminal end runt domain nuclear magnetic resonance suggested region conformational flexibility 51 r174x lacks 3 amino acids region might show decreased flexibility increased affinity pebp2 cbf r177x alternatively lack inhibition r177x could due technical difficulties inherent assay seen inconclusive results observed frameshift mutations one notable features fpd aml runx1 missense mutants studied colocalization runx1 pebp2 cbf cytoplasmic speckles sequestration pebp2 cbf could occur correlation colocalization pebp2 cbf interaction vitro level inhibitory effect pattern seen nonsense frameshift mutants prematurely terminated within runt domain presence c terminal region must required aggregation runx1 speckled cytoplasmic patterns raises possibility speckled structures could result c terminal associating molecules could also sequestered cytoplasm recently shown dimerization pebp2 cbf protects runx1 ubiquitin proteasome mediated degradation substitution k83 r shown increase half life runx1 lysine residues ubiquitylated 52 preferential binding mutant runx1 proteins pebp2 cbf may increase half lives k83e may potent nonchimeric mutant inhibitor wild type runx1 described far k83 residue important ubiquitinylation mice heterozygous runx1 aml1 eto pebp2 cbf myh11 knocked ins showed defects definitive hematopoiesis similar observed runx1 pebp2 cbf mice 53 54 thus expression strong dominant negative inhibitors runx1 seems produce embryonic lethal phenotype dominant transmission runx1 mutations fpd aml implies strong dominant negative runx1 mutations would also expected lethal another study recently showed dominant negative mutations incebpa encoding c ebp transcription factor sporadic aml however dominant negative effects predominantly frameshift mutations described study inhibitory effect increased formation secondary protein product use downstream initiating methionine 55progression leukemia fpd amlhaploidy runx1 clearly sufficient normal development possibly insufficient tumor suppression runx1 mice show complete lack definitive hematopoietic cells fetal liver death occurring hemorrhages central nervous system 12 5 days coitus 56runx1 mice demonstrate minimal changes phenotype 56 58 although closer hematologic analysis revealed trend bone marrow progenitor cells increased sensitivity g csf possibly reflecting propensity develop myelogenous leukemia 59the presence biallelic runx1 mutations sporadic leukemias may indicate runx1 functions classical tumor suppressor gene 11 13 however cases sporadic leukemia monoallelic runx1 mutations described 11 13 also fpd aml leukemic patients one families complete runx1 deletion r177x annotated r203x song et al10 analysis leukemic cells failed detect runx1 mutations deletion second runx1 allele two tumor suppressor genes p53 p27kip1 shown haploinsufficient tumor suppression hemizygous mice potential complication dominant negative mutations excluded 60 61 revision knudson model proposed accommodate haploinsufficiency normal level biologic activity tumorigenic gene tightly controlled increase decrease activity leads increased tumor susceptibility multiprotein complex molecular cascade hemizygous loss 2 partners molecules pathway may almost tumorigenic homozygous loss one partner 62while mutations early acting genes runx1 predispose development hematologic malignancies affected lineage consequent type malignancy may depend upon genes subsequently sustain downstream hits additional somatic mutation example combined positivity antigens cd34 c kit hla dr characterizes cbf leukemias aml m2 runx1 aml1 eto 8 21 aml m4eo pebp2 cbf myh11 inv 16 63 c kit cd117 transmembrane tyrosine kinase receptor stem cell factor required normal hematopoiesis mutations c kit described various sporadic hematologic malignancies diseases 63 67 example mutations residue d816 exon 17 c kit detected 6 15 patients either 8 21 aml m2 inv 16 aml m4eo 68it difficult make robust correlation type mutation proportion patients develop leukemia fpd aml families limited number individuals identified lack detailed clinical information would appear however families mutations acting simply via haploinsufficiency deletions frameshift mutations show smaller proportion affected individuals develop leukemia families transmitting mutations may act dominant negative fashion figure6 consistent hypothesis second mutation occur runx1 genes cause leukemia among individuals harboring inheritedrunx1 mutation mutations likely occur individuals lower biologic activity runx1 example 2 largest fpd aml pedigrees markedly higher rate leukemia seen family strong predicted dominant negative k83e mutation 57 compared pedigree complete deletion runx1 24 fig 6 download figureopen new tabdownload powerpointfig 6 summary fpd aml runx1 mutants studies presented paper fpd aml runx1 mutants listed descending order pebp2 cbf activity runt transactivation domains indicated mutant proteins appropriate pedigrees 1 6 song et al 10 a1 a2 described paper results emsa dna binding affinity assay pebp2 cbf subunit interaction subcellular localization transactivation studies summarized ratio leukemic fpd individuals fpd affected individuals pedigree indicated right largest fpd aml pedigrees markedly higher rate leukemia seen family strong predicted dominant negative k83e mutation pedigree a1 dominant negative 57 compared pedigree complete deletion runx1 pedigree 1 haploinsufficiency 24 thus propose less functional pebp cbf transcriptional regulation complex present hematopoietic cell due variable inhibitory effects heterozygous mutations mutations alleles higher propensity develop leukemia mechanism valid fpd aml sporadic leukemia patients clearly biallelic mutations would prone leukemia development although additional genetic changes may still required genes analyses additional fpd aml sporadic leukemia cases additional clinical molecular data including mutation analyses genes coding partners pebp cbf molecules tumorigenic pathway help provide evidence hypothesis runx1 aml1 gene frequent target chromosomal translocation leukemia addition recent studies demonstrated point mutations runx1 gene another mode genetic alteration development leukemia monoallelic germline mutations runx1 result familial platelet disorder predisposed acute myelogenous leukemia fpd aml sporadic point mutations frequently found three leukemia entities aml m0 subtype mds aml secondary therapy related mds aml therapy related leukemias resulting anticancer treatments uncommon incidence runx1 point mutations appears comparable incidence 8 21 aml m2 subtype inv 16 aml m4eo subtype half point mutations m0 cases biallelic although frequency varies ethnicity runx1 mutations clustered runt domain result defective dna binding active beta subunit binding consistent three dimensional structural findings may explain dominant inhibitory effects unlike classical tumor suppressor genes requiring biallelic inactivation haploinsufficient runx1 apparently leukemogenic however runx1 abnormalities per se insufficient cause full blown leukemia intensive investigation cooperating genetic alterations elucidate leukemic mechanisms keywords runx aml1 pebp2 point mutation familial leukemia top page introduction since discovery philadelphia chromosome 9 22 chronic myelogenous leukemia 1960 leukemia researchers physicians paid much attention investigation chromosomal translocations resultant chimeric genes also case runx1 aml1 related leukemia also known cbf leukemia hereafter referred runx leukemia miyoshi et al 1991 identified aml1 gene located breakpoint chromosomal translocation 8 21 1991 since leukemia research aml1 runx1 exclusively concentrated investigating 8 21 resultant aml1 runx1 eto mtg8 3 21 runx1 evi1 12 21 tel etv6 runx1 inv 16 pebp2beta cbfbeta myh11 1999 osato et al 1999 song et al 1999 reported runx1 point mutation sporadic familial myeloid leukemia respectively subsequent studies identified point mutations acute myeloid leukemia aml predominantly m0 subtype different ethnic groups preudhomme et al 2000 langabeer et al 2002 matsuno et al 2003 roumier et al 2003a 2003b silva et al 2003 recently mutations believed cluster within runt domain however mutations c terminal region outside runt domain also identified predominantly mds aml harada et al 2004 finally runx1 point mutations turned occur comparable frequency first mode runx1 alterations namely 8 21 inv 16 12 21 secondary mds aml harada et al 2003 accordingly runx1 point mutation fully recognized second mode leukemogenesis runx leukemia review summarize currently available cases point mutations discuss leukemogenesis mediated runx1 status top page frequency distribution point mutations runx1 gene consists 10 exons exons 1 6 7a 7b 7c 8 two promoters followed distinct initiation codon exon 1 exon 3 proximal promoter driven transcript starts exon 3 encodes 453 amino acids aa full length 453 whereas distal promoter driven transcript exon 1 encodes 480 aa full length 480 full length 480 contains additional 32 aa instead 5 aa full length 453 n terminal end thus full lengths share exons 3 6 7b 8 nearly complete coding sequence runt domain highly conserved 128 aa protein motif responsible dna binding heterodimerization beta subunit pebp2beta cbfbeta spans aa 50 178 full length 453 located exons 3 5 runx1 mutation screening studies covered exons 3 5 included intron sequences flanking exon studies screened exons 1 2 well half studies cover exons 6 8 encoding c terminal moiety transactivation domain spanning aa 291 371 located types human leukemia except chronic lymphocytic leukemia cll extensively investigated addition significant number cell lines including established solid tumors well healthy volunteers also included mutation screenings table 1 langabeer et al 2002 vegesna et al 2002 harada et al 2003 taketani et al 2003 total 102 cases 1786 tested runx1 alteration including point mutation gene deletion nucleotide changes resulted amino acid changes clear functional defects shown figure 1 however mutations failed show apparent functional alterations nucleotide change may constitutive leukemia specific nucleotide changes lead amino acid change synonymous may generate abnormal splicing donor acceptor site resulting nonfunctional protein enigmatic cases listed variation table 1 numbers mutations table 1 include variation cases mutations clustered within runt domain figure 1 n terminal region 9 8 6 runt domain 84 80 8 c terminal region 11 10 5 total number mutations table 1 figure 1 differs 104 vs 102 compiled mutants figure 1 include 11 cases fpd aml listed table 1 conversely gene deletion included figure 1 biallelic case table 1 provides two distinct mutations simultaneously figure 1 figure 1 unfortunately unable provide accessible alternative text require assistance access image please contact help nature com author distribution functional consequences runx1 gene mutations mutations bold disease subtypes compiled left corresponding amino acid indicated center amino acids runt domain dark green green bar representing exons listed consecutive manner outside runt domain missense termination frameshift mutations highlighted yellow dark gray gray respectively functional consequences dna binding beta subunit binding dominant negative effects listed right indicates function retention normal hypernormal functions pink red respectively dominant negative effects shown light blue dark blue right end column strong cases dark blue full figure legend 235k table 1 frequency mutations runx1 aml1 gene various cancer patients healthy volunteers table 1 frequency mutations runx1 aml1 gene various cancer patients healthy volunteers unfortunately unable provide accessible alternative text require assistance access image please contact help nature com author full table top page functional consequence haploinsufficiency entire gene deletions early truncated type mutations frameshift nonsense mutations found significant frequency missense mutations also lost dna binding transcriptional activities figure 1 right middle column since majority cases heterozygous haploinsufficiency appears basis pathogenesis notion strongly supported whole gene deletion fpd aml runx1 status likely provide cells growth advantage overcome selective pressure subject however mechanism mutations would distributed throughout gene without hot spots therefore clustering runt domain suggests mechanism genuine haploinsufficiency important leukemogenesis top page dominant negative effect retained bold italic beta binding activity runt domain eight regions hot spots affected twice figure 1 two different mechanisms probably least partly responsible first primary sequence particular sites seems preferably targeted mutation mechanism r139 r174 r177 encoded triplets containing cpg dinucleotides extremely prone transition type mutations mechanism facilitated methylation cytidine residue rodenhiser et al 1997 yoshida et al 2003 second certain mutation sites considered provide cells stronger growth advantage selective pressure mapping missense mutations strongly supports notion three regions recurrently affected missense mutations exclusively correspond three loop containing regions responsible dna binding betap1 loop betap1 betab betae loop betae betaf betap2 loop betap2 c terminus figure 2 nagata et al 1999 osato et al 2001 tahirov et al 2001 consequently mutants defective dna binding packing heterodimerization figure 1 may explain dominant negative effects runx1 mutants cotransfection assays missense nonsense mutants showed inhibitory effects towards transactivation mediated wild type runx1 mutants bound pebp2beta cbfbeta efficiently wild type runx1 imai et al 2000 michaud et al 2002 addition pebp2beta protects runx1 ubiquitin proteasome mediated degradation huang et al 2001 thus preferential binding mutant runx1 proteins pebp2beta may turn increase protein half life hence augment dominant negative effects right end column figure 1 general correlation seen retained beta binding activity inhibitory potential mutant correlation clearly indicated comparison distribution missense mutations runx1 runx2 figure 2 germline mutation runx2 causes bone disease cleidocranial dysplasia ccd mundlos et al 1997 missense mutations runx2 distributed throughout runt domain affected overall folding architecture cases marked asterisks figure 2 resulting impairment dna binding heterodimerization activity packing defect mutations underlined figure 2 showed defects beta binding alone clear contrast mutations resulting defective packing beta binding found runx1 far reported cases mapped residues responsible packing suspected cases functional analyses yet performed suspected case defect beta binding alone reported conversely mutations mapping first dna interacting region betap1 loop betap1 betab seen runx1 runx2 figure 2 yoshida et al 2003 runx1 mutants r80c k83n k83e showed strong affinity beta subunit hence strong dominant negative effect suggesting haploinsufficiency dominant mechanism runx2 mutants whereas dominant negative effect important runx1 mutants sequestration beta subunit may one important mechanism dominant negative effect caused runx1 mutants figure 2 figure 2 unfortunately unable provide accessible alternative text require assistance access image please contact help nature com author structural mappings missense mutations detected leukemia bone disease ccd runx1 mutants leukemia rectangular outline orange mapped exclusively three regions involved dna binding whereas runx2 mutations ccd blue distributed runt domain except loop betap1 betaf mutations associated packing asterisk beta binding underline defects found ccd adapted nagata et al 1999 full figure legend 307k top page lower runx1 activity higher leukemogenicity dominant negative effect mentioned relate leukemogenesis although limited number individuals minimal clinical information evaluated prohibit robust conclusion families mutations acting simply via haploinsufficiency lower incidence leukemia families mutations acting dominant negative fashion two largest fpd aml pedigrees leukemia occurred markedly higher rate family strong dominant negative k83e mutation 57 compared pedigree complete deletion runx1 24 table 2 song et al 1999 michaud et al 2002 thus low runx1 activity appears correlate high leukemogenicity hypothesis may expanded extent leukemogenesis induced chimeric genes majority current findings indicate major function chimeric genes transdominant inhibition wild type runx1 resulting severely decreased runx1 activity affected cells currently 10 partner genes fused runx1 identified chromosomal translocations although chimeric gene may leukemogenic mechanism runx1 insufficiency may common underlying mechanism runx leukemias table 2 runx1 mutations familial leukemia fpd aml table 2 runx1 mutations familial leukemia fpd aml unfortunately unable provide accessible alternative text require assistance access image please contact help nature com author full table acquired trisomy 21 underscores notion runx1 mutant alleles appear duplicated frequently finding may also lend supporting evidence hypothesis reduced runx1 activity increases leukemogenic status argument discussed later top page mutation status disease phenotype sporadic leukemias biallelic mutation aml m0 subtype runx1 point mutations frequently found aml m0 subtype table 1 addition 22 39 56 4 m0 cases showed biallelic type mutation table 3 conversely two 80 runx1 mutation cases leukemia subtypes biallelic type therefore clear runx1 point mutations biallelic type tightly associated aml m0 subtype mice heterozygous runx1 mtg8 pebp2beta cbfbeta myh11 chimeric genes showed defects definitive hematopoiesis similar runx1 mice suggesting chimeric genes act strong transdominant inhibitors remaining normal runx1 allele castilla et al 1996 okuda et al 1996 yergeau et al 1997 therefore leukemogenic potential biallelic runx1 mutants considered equivalent chimeric genes hand 8 21 inv 16 biallelic point mutations related distinct m2 m4eo m0 subtypes myeloid leukemias respectively different disease phenotypes quite interesting contribution partner gene thought considerable may also explained different residual activities runx1 affected adult hematopoietic cells conditional runx1 knockout mice showed apparent defects hematopoiesis ichikawa et al 2004 whereas hematopoiesis conditional heterozygous runx1 eto knockin mice nearly normal higuchi et al 2002 suggesting runx1 induces severe effects runx1 eto chimeric gene adult hematopoiesis m0 subtype shows minimally differentiated morphology m2 subtype characteristically well differentiated therefore differing residual activities runx1 seem important addition influence activities runx family genes must considered runx1 mtg8 pebp2beta cbfbeta myh11 chimeric genes could inhibit runx2 runx3 well runx1 status defect runx1 alone careful study resolve intriguing issue table 3 runx1 mutations aml m0 subtype table 3 runx1 mutations aml m0 subtype unfortunately unable provide accessible alternative text require assistance access image please contact help nature com author full table note biallelic type mutation strictly confined status two copies runx1 biallelic mutation trisomy 21 associated aml m0 subtype associated myeloid malignancies m0 phenotypic difference discussed later entire distribution including c terminal moiety mds aml secondary leukemia runx1 point mutations also frequently found mds subsequent overt leukemia referred review mds aml tables 1 4 mutations characteristically distributed also detected c terminal region rarely targeted types leukemias harada et al 2004 since distribution recently identified c terminal mutations overlooked number previous studies half studies investigate exons 7b 8 c terminal region regard mds aml incidence covering exons 3 6 exons 3 8 evaluated less frequently exons 3 8 alone table 4 thus c terminal mutations may underestimated mds aml however c terminal mutations still seem rare aml since c terminal mutations identified study relatively large number cases therefore runx1 point mutations including c terminal moiety appear found predominantly mds aml table 4 runx1 mutations mds table 4 runx1 mutations mds unfortunately unable provide accessible alternative text require assistance access image please contact help nature com author full table harada et al 2003 hiroshima one two cities suffered atomic bomb reported two implications runx1 mutations secondary mds aml referred review mds aml including therapy related atomic bomb related mds aml firstly relationship radiation seems important terms social issue addition victims two cities estimated 220 000 us soldiers significant number local residents passengers irradiated aboveground nuclear weapon test sites nevada bikini atoll others late 1940s 1950s many people thought succumbed mds aml caused runx1 point mutation secondly involvement therapy related mds aml seems general impact improvement treatments primary cancer incidence therapy related mds aml continues increase therapy related mds aml accounts roughly 10 20 new cases mds aml standard hospitals therefore incidence secondary mds aml runx1 mutation comparable 8 21 aml m2 subtype inv 16 aml m4eo subtype table 5 considering poor prognosis clinical implication runx1 point mutation secondary mds aml would rather significant expected table 5 estimated frequency leukemia runx1 point mutation table 5 estimated frequency leukemia runx1 point mutation unfortunately unable provide accessible alternative text require assistance access image please contact help nature com author full table leukemic incidence rates based several textbooks public databases cdc national cancer institute nih cll accounts 10 30 may explain relatively low incidences 8 21 inv 16 12 21 acquired congenital trisomy 21 non mo myeloid malignancy preudhomme et al 2000 first reported relationship trisomy 21 runx1 point mutation table 6 sporadic cases myeloid lymphoid malignancy trisomy 21 associated high frequency runx1 point mutations taketani et al 2002 subsequently surveyed runx1 mutation congenital cases trisomy 21 syndrome related hematopoietic diseases however point mutation congenital cases appears rare except enigmatic h58n variation nearly normal function allelic analysis sporadic cases acquired trisomy 21 showed following combination 2 3 mutant vs 0 1 wild type co occurrence mutation trisomy 21 associated allelic combination one mutant two wt combination however combination never found findings suggest trisomy 21 increases copy number mutant allele already exists status two copies runx1 words trisomy 21 thought secondary change runx1 status trisomy 21 second hit discussed later table 6 trisomy 21 runx1 mutation table 6 trisomy 21 runx1 mutation unfortunately unable provide accessible alternative text require assistance access image please contact help nature com author full table mentioned earlier biallelic runx1 mutations tightly liked aml m0 subtype however interestingly acquired 21 carrying runx1 point mutation never observed aml m0 subtype even cases biallelic mutations table 6 discrepancy explained differing residual activities runx1 half m0 cases runx1 mutation monoallelic leukemic phenotype may determined yet undetermined mechanism top page familial leukemia fpd aml heterozygous germline mutation runx1 gene causes familial leukemia familial platelet disorder predisposition acute myelogenous leukemia fpd aml total 12 pedigrees identified far mainly individuals european descent table 2 fpd alone onset aml fatal significantly inhibits blood clotting could life threatening surgery injury dental treatment childbirth incidence leukemia among affected individuals varies 20 50 average 35 highest familial leukemia syndromes including fanconi anemia bloom syndrome kostman syndrome affected subjects seem develop myeloid malignancies throughout life span later life described previous reports leukemia developed age 10 years four 11 cases features fpd aml compared similar dominant hereditary disease huntington disease hd subjects hd healthy disease onset 30 50 years age die 10 15 years later addition low penetrance low severity symptoms late onset key factor hereditary disease since patients often children disease symptoms appear hands fpd aml seems detrimental subjects factors hereditary disease pedigree full drawbacks exist fpd aml may persist disease due easy mutability runx1 discussed runx1 indeed contains easy mutable primary sequences triplets containing cpg dinucleotides extremely prone transition type mutations facilitated methylation cytidine residue rodenhiser et al 1997 yoshida et al 2003 mechanism could work particularly well germ cells fpd aml pedigree may readily disappear human population de novo pedigree could continually generated comparable frequency consistent argument ccd cases caused runx2 mutation approximately half de novo familial type zhou et al 1999 irradiation readily generates ccd like phenotypes mice due runx2 alterations runx2 shares noted easy mutable sequences case runx1 healthy british subjects two kinds variations l29s s21syn 5 3 frequency respectively langabeer et al 2002 japanese subjects also several recurrent enigmatic variations g42r i87syn h58n interestingly g42r identified leukemia patients healthy volunteers harada et al 2003 taketani et al 2003 variations probably including polymorphisms might reflect noted easy mutability runx1 mentioned fpd aml extremely rare worldwide therefore clinical entity overlooked physicians recently bone marrow transplantaion carried affected sibling mild fpd symptoms patient suffering aml buijs et al 2001 recipient succumbed leukemia clearly hematopoietic cells derived donor top page genetic alterations cooperating runx1 status mentioned earlier runx1 status frequently found aml m0 subtype thus runx1 may appear act classical tumor suppressor gene requiring inactivation two alleles according knudson two hits theory however biallelic inactivation required cases leukemogenesis fact overall frequency biallelic cases relatively low 27 102 cases 26 biallelic cases fpd aml never reported therefore runx1 per se appears leukemogenic dominant negative effect associated missense mutations might play role leukemogenesis extent gene inactivation case heterozygous mutation appears step towards leukemogenesis therefore mutation wild type runx1 remaining allele considered second hit addition runx1 status furthermore acquired congenital trisomy 21 also thought second hit discussed earlier link 21 runx1 mutation interpreted follows mutation takes place two copy status mutant allele duplicated accordance 21 runx1 21 cases acquirement another mutant allele therefore thought additional genetic alteration cooperating runx1 status figure 3 figure 3 figure 3 unfortunately unable provide accessible alternative text require assistance access image please contact help nature com author leukemogenesis runx1 biallelic mutations runx1 runx1 tightly liked aml m0 subtype however acquired 21 carrying runx1 point mutation runx1 never observed m0 despite cases biallelic mutations mutation likely takes place two copy status runx1 mutant allele duplicated accordance 21 resulting myeloid malignancies m0 flt 3 mutations frequently found m0 cases runx1 point mutations genetic alterations mapped based observations full figure legend 55k line 21 cytogenetics helps identify second hits patients runx1 point mutations show following concurrent abnormalities 12 cases showed 7 6 8 5 13 tables 2 3 4 loss chromosome 7 suspected strong predisposing factor second hit runx1 flt 3 mutations frequently observed even monoallelic runx1 mutations m0 patients table 3 matsuno et al 2003 roumier et al 2003a 2003b hence flt 3 mutation also cooperating genetic alteration figure 3 flt 3 mutation results constitutively active form known stimulate cell proliferation therefore differentiation blockade runx1 alteration growth stimulation flt3 mutation would synergistically contribute substantial fraction aml m0 subtype cases interesting enough flt 3 mutations known rare runx leukemias 8 21 inv 16 certain runx leukemias seem cooperate distinct second hits elucidation mechanism might shed light development runx leukemias top page current problems region mutation screening discussed previously half screening studies cover c terminal exons 7b 8 therefore overlooked c terminal mutations mds aml c terminal screening unlikely reveal information aml recommended likewise exons 1 2 might affected particular types leukemia theoretically promoter untranslated regions could also targeted variations significant numbers variations reported shown table 1 figure 1 functional analyses yet performed cases variation must studied determine mutation polymorphism analyses polymorphisms might help characterize susceptibility leukemia dominant negative effect c terminal mutants mds aml reporter assay c terminal mutants found mds aml showed inhibitory effects transdominant manner like missense mutants runt domain harada et al 2004 however similar c terminal runx2 mutations ccd patients retain partial transactivation activity show much milder phenotypes compared standard ccd phenotypes caused simple gene deletions yoshida et al 2002 discrepancy may due distinct cell context promoter used assay however correlation mds aml might indicate c terminal mutants milder inhibitory effects runt domain mutants biological assay reporter assay may address issue cooperative genetic alterations flt 3 mutation 21 thought second hits mds aml runx1 mutations high frequency chromosome 7 loss suggests inactivation unknown gene chromosome 7 plays synergistic role runx1 mutations however overall frequency mutations account cases furthermore induce leukemia three five genetic alterations considered required based current evidence therefore number genetic alterations must identified understand whole leukemogenic mechanism runx leukemia laboratory recently established mouse system appears quite useful myeloid leukemia prone mice mimicking fpd aml generated backcrossing runx1 onto bxh2 strain retroviral insertional mutagenesis occurs spontaneously eventual development myeloid leukemia 90 cases li et al 1999 proviral integration sites leukemias provide powerful genetic tags disease gene identification therefore collaborating oncogenes runx1 would readily detected loss function runx1 widely believed common underlying mechanism runx leukemia runx1 status considered minimum alteration required several forms runx leukemias therefore mouse model fpd aml mentioned useful searching cooperative genetic alterations runx leukemias 8 21 inv 16 genetic alterations identified retroviral tagging system might explain leukemogenic mechanisms runx1 point mutations also runx leukemias top page future directions runx1 status leukemogenic question seems fundamental question runx1 point mutation also runx leukemias determining means runx1 leukemogenic may possible currently used approaches evaluate differentiation proliferation apoptosis cellular level transcriptional control molecular level novel approach warranted example alteration stemness investigated runx1 status stemness could provide cells time window sufficient sequential genetic alterations intrinsic molecular functions relevant leukemogenesis transcriptional control might identified novel approaches '"
            ],
            "application/vnd.google.colaboratory.intrinsic+json": {
              "type": "string"
            }
          },
          "metadata": {},
          "execution_count": 9
        }
      ]
    },
    {
      "cell_type": "code",
      "source": [
        "train = pd.merge(train_variation,train_text, on=\"ID\", how=\"left\")\n",
        "train.head()"
      ],
      "metadata": {
        "colab": {
          "base_uri": "https://localhost:8080/",
          "height": 206
        },
        "id": "01Nkgr5-cHcM",
        "outputId": "99a94444-d21d-4340-ae1a-53fc21a5561e"
      },
      "execution_count": null,
      "outputs": [
        {
          "output_type": "execute_result",
          "data": {
            "text/plain": [
              "   ID    Gene             Variation  Class  \\\n",
              "0   0  FAM58A  Truncating Mutations      1   \n",
              "1   1     CBL                 W802*      2   \n",
              "2   2     CBL                 Q249E      2   \n",
              "3   3     CBL                 N454D      3   \n",
              "4   4     CBL                 L399V      4   \n",
              "\n",
              "                                                TEXT  \n",
              "0  cyclin dependent kinases cdks regulate variety...  \n",
              "1  abstract background non small cell lung cancer...  \n",
              "2  abstract background non small cell lung cancer...  \n",
              "3  recent evidence demonstrated acquired uniparen...  \n",
              "4  oncogenic mutations monomeric casitas b lineag...  "
            ],
            "text/html": [
              "\n",
              "  <div id=\"df-1f3d64d2-169a-4b3c-a939-3b137cb4c584\">\n",
              "    <div class=\"colab-df-container\">\n",
              "      <div>\n",
              "<style scoped>\n",
              "    .dataframe tbody tr th:only-of-type {\n",
              "        vertical-align: middle;\n",
              "    }\n",
              "\n",
              "    .dataframe tbody tr th {\n",
              "        vertical-align: top;\n",
              "    }\n",
              "\n",
              "    .dataframe thead th {\n",
              "        text-align: right;\n",
              "    }\n",
              "</style>\n",
              "<table border=\"1\" class=\"dataframe\">\n",
              "  <thead>\n",
              "    <tr style=\"text-align: right;\">\n",
              "      <th></th>\n",
              "      <th>ID</th>\n",
              "      <th>Gene</th>\n",
              "      <th>Variation</th>\n",
              "      <th>Class</th>\n",
              "      <th>TEXT</th>\n",
              "    </tr>\n",
              "  </thead>\n",
              "  <tbody>\n",
              "    <tr>\n",
              "      <th>0</th>\n",
              "      <td>0</td>\n",
              "      <td>FAM58A</td>\n",
              "      <td>Truncating Mutations</td>\n",
              "      <td>1</td>\n",
              "      <td>cyclin dependent kinases cdks regulate variety...</td>\n",
              "    </tr>\n",
              "    <tr>\n",
              "      <th>1</th>\n",
              "      <td>1</td>\n",
              "      <td>CBL</td>\n",
              "      <td>W802*</td>\n",
              "      <td>2</td>\n",
              "      <td>abstract background non small cell lung cancer...</td>\n",
              "    </tr>\n",
              "    <tr>\n",
              "      <th>2</th>\n",
              "      <td>2</td>\n",
              "      <td>CBL</td>\n",
              "      <td>Q249E</td>\n",
              "      <td>2</td>\n",
              "      <td>abstract background non small cell lung cancer...</td>\n",
              "    </tr>\n",
              "    <tr>\n",
              "      <th>3</th>\n",
              "      <td>3</td>\n",
              "      <td>CBL</td>\n",
              "      <td>N454D</td>\n",
              "      <td>3</td>\n",
              "      <td>recent evidence demonstrated acquired uniparen...</td>\n",
              "    </tr>\n",
              "    <tr>\n",
              "      <th>4</th>\n",
              "      <td>4</td>\n",
              "      <td>CBL</td>\n",
              "      <td>L399V</td>\n",
              "      <td>4</td>\n",
              "      <td>oncogenic mutations monomeric casitas b lineag...</td>\n",
              "    </tr>\n",
              "  </tbody>\n",
              "</table>\n",
              "</div>\n",
              "      <button class=\"colab-df-convert\" onclick=\"convertToInteractive('df-1f3d64d2-169a-4b3c-a939-3b137cb4c584')\"\n",
              "              title=\"Convert this dataframe to an interactive table.\"\n",
              "              style=\"display:none;\">\n",
              "        \n",
              "  <svg xmlns=\"http://www.w3.org/2000/svg\" height=\"24px\"viewBox=\"0 0 24 24\"\n",
              "       width=\"24px\">\n",
              "    <path d=\"M0 0h24v24H0V0z\" fill=\"none\"/>\n",
              "    <path d=\"M18.56 5.44l.94 2.06.94-2.06 2.06-.94-2.06-.94-.94-2.06-.94 2.06-2.06.94zm-11 1L8.5 8.5l.94-2.06 2.06-.94-2.06-.94L8.5 2.5l-.94 2.06-2.06.94zm10 10l.94 2.06.94-2.06 2.06-.94-2.06-.94-.94-2.06-.94 2.06-2.06.94z\"/><path d=\"M17.41 7.96l-1.37-1.37c-.4-.4-.92-.59-1.43-.59-.52 0-1.04.2-1.43.59L10.3 9.45l-7.72 7.72c-.78.78-.78 2.05 0 2.83L4 21.41c.39.39.9.59 1.41.59.51 0 1.02-.2 1.41-.59l7.78-7.78 2.81-2.81c.8-.78.8-2.07 0-2.86zM5.41 20L4 18.59l7.72-7.72 1.47 1.35L5.41 20z\"/>\n",
              "  </svg>\n",
              "      </button>\n",
              "      \n",
              "  <style>\n",
              "    .colab-df-container {\n",
              "      display:flex;\n",
              "      flex-wrap:wrap;\n",
              "      gap: 12px;\n",
              "    }\n",
              "\n",
              "    .colab-df-convert {\n",
              "      background-color: #E8F0FE;\n",
              "      border: none;\n",
              "      border-radius: 50%;\n",
              "      cursor: pointer;\n",
              "      display: none;\n",
              "      fill: #1967D2;\n",
              "      height: 32px;\n",
              "      padding: 0 0 0 0;\n",
              "      width: 32px;\n",
              "    }\n",
              "\n",
              "    .colab-df-convert:hover {\n",
              "      background-color: #E2EBFA;\n",
              "      box-shadow: 0px 1px 2px rgba(60, 64, 67, 0.3), 0px 1px 3px 1px rgba(60, 64, 67, 0.15);\n",
              "      fill: #174EA6;\n",
              "    }\n",
              "\n",
              "    [theme=dark] .colab-df-convert {\n",
              "      background-color: #3B4455;\n",
              "      fill: #D2E3FC;\n",
              "    }\n",
              "\n",
              "    [theme=dark] .colab-df-convert:hover {\n",
              "      background-color: #434B5C;\n",
              "      box-shadow: 0px 1px 3px 1px rgba(0, 0, 0, 0.15);\n",
              "      filter: drop-shadow(0px 1px 2px rgba(0, 0, 0, 0.3));\n",
              "      fill: #FFFFFF;\n",
              "    }\n",
              "  </style>\n",
              "\n",
              "      <script>\n",
              "        const buttonEl =\n",
              "          document.querySelector('#df-1f3d64d2-169a-4b3c-a939-3b137cb4c584 button.colab-df-convert');\n",
              "        buttonEl.style.display =\n",
              "          google.colab.kernel.accessAllowed ? 'block' : 'none';\n",
              "\n",
              "        async function convertToInteractive(key) {\n",
              "          const element = document.querySelector('#df-1f3d64d2-169a-4b3c-a939-3b137cb4c584');\n",
              "          const dataTable =\n",
              "            await google.colab.kernel.invokeFunction('convertToInteractive',\n",
              "                                                     [key], {});\n",
              "          if (!dataTable) return;\n",
              "\n",
              "          const docLinkHtml = 'Like what you see? Visit the ' +\n",
              "            '<a target=\"_blank\" href=https://colab.research.google.com/notebooks/data_table.ipynb>data table notebook</a>'\n",
              "            + ' to learn more about interactive tables.';\n",
              "          element.innerHTML = '';\n",
              "          dataTable['output_type'] = 'display_data';\n",
              "          await google.colab.output.renderOutput(dataTable, element);\n",
              "          const docLink = document.createElement('div');\n",
              "          docLink.innerHTML = docLinkHtml;\n",
              "          element.appendChild(docLink);\n",
              "        }\n",
              "      </script>\n",
              "    </div>\n",
              "  </div>\n",
              "  "
            ]
          },
          "metadata": {},
          "execution_count": 10
        }
      ]
    },
    {
      "cell_type": "code",
      "source": [
        "sum(train.duplicated())"
      ],
      "metadata": {
        "colab": {
          "base_uri": "https://localhost:8080/"
        },
        "id": "ju87_I0CdXjb",
        "outputId": "1471713b-b78e-4fe8-d2e3-0d6e1646ab42"
      },
      "execution_count": null,
      "outputs": [
        {
          "output_type": "execute_result",
          "data": {
            "text/plain": [
              "0"
            ]
          },
          "metadata": {},
          "execution_count": 11
        }
      ]
    },
    {
      "cell_type": "code",
      "source": [
        "train.isnull().sum()"
      ],
      "metadata": {
        "colab": {
          "base_uri": "https://localhost:8080/"
        },
        "id": "VBOp1TXUdgjR",
        "outputId": "b0874fbf-37d2-414d-c97b-5e9d2cfed113"
      },
      "execution_count": null,
      "outputs": [
        {
          "output_type": "execute_result",
          "data": {
            "text/plain": [
              "ID           0\n",
              "Gene         0\n",
              "Variation    0\n",
              "Class        0\n",
              "TEXT         5\n",
              "dtype: int64"
            ]
          },
          "metadata": {},
          "execution_count": 12
        }
      ]
    },
    {
      "cell_type": "code",
      "source": [
        "train.loc[train.isnull().values]"
      ],
      "metadata": {
        "colab": {
          "base_uri": "https://localhost:8080/",
          "height": 206
        },
        "id": "rgWJf3NALgCD",
        "outputId": "adad30f2-ed1d-40cc-ea81-0aa3b2200773"
      },
      "execution_count": null,
      "outputs": [
        {
          "output_type": "execute_result",
          "data": {
            "text/plain": [
              "        ID    Gene             Variation  Class TEXT\n",
              "1109  1109   FANCA                S1088F      1  NaN\n",
              "1277  1277  ARID5B  Truncating Mutations      1  NaN\n",
              "1407  1407   FGFR3                 K508M      6  NaN\n",
              "1639  1639    FLT1         Amplification      6  NaN\n",
              "2755  2755    BRAF                 G596C      7  NaN"
            ],
            "text/html": [
              "\n",
              "  <div id=\"df-d1c32824-62bb-4acd-a67b-ad1ad9182306\">\n",
              "    <div class=\"colab-df-container\">\n",
              "      <div>\n",
              "<style scoped>\n",
              "    .dataframe tbody tr th:only-of-type {\n",
              "        vertical-align: middle;\n",
              "    }\n",
              "\n",
              "    .dataframe tbody tr th {\n",
              "        vertical-align: top;\n",
              "    }\n",
              "\n",
              "    .dataframe thead th {\n",
              "        text-align: right;\n",
              "    }\n",
              "</style>\n",
              "<table border=\"1\" class=\"dataframe\">\n",
              "  <thead>\n",
              "    <tr style=\"text-align: right;\">\n",
              "      <th></th>\n",
              "      <th>ID</th>\n",
              "      <th>Gene</th>\n",
              "      <th>Variation</th>\n",
              "      <th>Class</th>\n",
              "      <th>TEXT</th>\n",
              "    </tr>\n",
              "  </thead>\n",
              "  <tbody>\n",
              "    <tr>\n",
              "      <th>1109</th>\n",
              "      <td>1109</td>\n",
              "      <td>FANCA</td>\n",
              "      <td>S1088F</td>\n",
              "      <td>1</td>\n",
              "      <td>NaN</td>\n",
              "    </tr>\n",
              "    <tr>\n",
              "      <th>1277</th>\n",
              "      <td>1277</td>\n",
              "      <td>ARID5B</td>\n",
              "      <td>Truncating Mutations</td>\n",
              "      <td>1</td>\n",
              "      <td>NaN</td>\n",
              "    </tr>\n",
              "    <tr>\n",
              "      <th>1407</th>\n",
              "      <td>1407</td>\n",
              "      <td>FGFR3</td>\n",
              "      <td>K508M</td>\n",
              "      <td>6</td>\n",
              "      <td>NaN</td>\n",
              "    </tr>\n",
              "    <tr>\n",
              "      <th>1639</th>\n",
              "      <td>1639</td>\n",
              "      <td>FLT1</td>\n",
              "      <td>Amplification</td>\n",
              "      <td>6</td>\n",
              "      <td>NaN</td>\n",
              "    </tr>\n",
              "    <tr>\n",
              "      <th>2755</th>\n",
              "      <td>2755</td>\n",
              "      <td>BRAF</td>\n",
              "      <td>G596C</td>\n",
              "      <td>7</td>\n",
              "      <td>NaN</td>\n",
              "    </tr>\n",
              "  </tbody>\n",
              "</table>\n",
              "</div>\n",
              "      <button class=\"colab-df-convert\" onclick=\"convertToInteractive('df-d1c32824-62bb-4acd-a67b-ad1ad9182306')\"\n",
              "              title=\"Convert this dataframe to an interactive table.\"\n",
              "              style=\"display:none;\">\n",
              "        \n",
              "  <svg xmlns=\"http://www.w3.org/2000/svg\" height=\"24px\"viewBox=\"0 0 24 24\"\n",
              "       width=\"24px\">\n",
              "    <path d=\"M0 0h24v24H0V0z\" fill=\"none\"/>\n",
              "    <path d=\"M18.56 5.44l.94 2.06.94-2.06 2.06-.94-2.06-.94-.94-2.06-.94 2.06-2.06.94zm-11 1L8.5 8.5l.94-2.06 2.06-.94-2.06-.94L8.5 2.5l-.94 2.06-2.06.94zm10 10l.94 2.06.94-2.06 2.06-.94-2.06-.94-.94-2.06-.94 2.06-2.06.94z\"/><path d=\"M17.41 7.96l-1.37-1.37c-.4-.4-.92-.59-1.43-.59-.52 0-1.04.2-1.43.59L10.3 9.45l-7.72 7.72c-.78.78-.78 2.05 0 2.83L4 21.41c.39.39.9.59 1.41.59.51 0 1.02-.2 1.41-.59l7.78-7.78 2.81-2.81c.8-.78.8-2.07 0-2.86zM5.41 20L4 18.59l7.72-7.72 1.47 1.35L5.41 20z\"/>\n",
              "  </svg>\n",
              "      </button>\n",
              "      \n",
              "  <style>\n",
              "    .colab-df-container {\n",
              "      display:flex;\n",
              "      flex-wrap:wrap;\n",
              "      gap: 12px;\n",
              "    }\n",
              "\n",
              "    .colab-df-convert {\n",
              "      background-color: #E8F0FE;\n",
              "      border: none;\n",
              "      border-radius: 50%;\n",
              "      cursor: pointer;\n",
              "      display: none;\n",
              "      fill: #1967D2;\n",
              "      height: 32px;\n",
              "      padding: 0 0 0 0;\n",
              "      width: 32px;\n",
              "    }\n",
              "\n",
              "    .colab-df-convert:hover {\n",
              "      background-color: #E2EBFA;\n",
              "      box-shadow: 0px 1px 2px rgba(60, 64, 67, 0.3), 0px 1px 3px 1px rgba(60, 64, 67, 0.15);\n",
              "      fill: #174EA6;\n",
              "    }\n",
              "\n",
              "    [theme=dark] .colab-df-convert {\n",
              "      background-color: #3B4455;\n",
              "      fill: #D2E3FC;\n",
              "    }\n",
              "\n",
              "    [theme=dark] .colab-df-convert:hover {\n",
              "      background-color: #434B5C;\n",
              "      box-shadow: 0px 1px 3px 1px rgba(0, 0, 0, 0.15);\n",
              "      filter: drop-shadow(0px 1px 2px rgba(0, 0, 0, 0.3));\n",
              "      fill: #FFFFFF;\n",
              "    }\n",
              "  </style>\n",
              "\n",
              "      <script>\n",
              "        const buttonEl =\n",
              "          document.querySelector('#df-d1c32824-62bb-4acd-a67b-ad1ad9182306 button.colab-df-convert');\n",
              "        buttonEl.style.display =\n",
              "          google.colab.kernel.accessAllowed ? 'block' : 'none';\n",
              "\n",
              "        async function convertToInteractive(key) {\n",
              "          const element = document.querySelector('#df-d1c32824-62bb-4acd-a67b-ad1ad9182306');\n",
              "          const dataTable =\n",
              "            await google.colab.kernel.invokeFunction('convertToInteractive',\n",
              "                                                     [key], {});\n",
              "          if (!dataTable) return;\n",
              "\n",
              "          const docLinkHtml = 'Like what you see? Visit the ' +\n",
              "            '<a target=\"_blank\" href=https://colab.research.google.com/notebooks/data_table.ipynb>data table notebook</a>'\n",
              "            + ' to learn more about interactive tables.';\n",
              "          element.innerHTML = '';\n",
              "          dataTable['output_type'] = 'display_data';\n",
              "          await google.colab.output.renderOutput(dataTable, element);\n",
              "          const docLink = document.createElement('div');\n",
              "          docLink.innerHTML = docLinkHtml;\n",
              "          element.appendChild(docLink);\n",
              "        }\n",
              "      </script>\n",
              "    </div>\n",
              "  </div>\n",
              "  "
            ]
          },
          "metadata": {},
          "execution_count": 13
        }
      ]
    },
    {
      "cell_type": "code",
      "source": [
        "train[train.isnull().values][\"ID\"]"
      ],
      "metadata": {
        "colab": {
          "base_uri": "https://localhost:8080/"
        },
        "id": "eK4GVj_SLszP",
        "outputId": "fe06e3ad-b9de-4f3a-ce76-86c84ca1d033"
      },
      "execution_count": null,
      "outputs": [
        {
          "output_type": "execute_result",
          "data": {
            "text/plain": [
              "1109    1109\n",
              "1277    1277\n",
              "1407    1407\n",
              "1639    1639\n",
              "2755    2755\n",
              "Name: ID, dtype: int64"
            ]
          },
          "metadata": {},
          "execution_count": 14
        }
      ]
    },
    {
      "cell_type": "code",
      "source": [
        "missing = train[train.isnull().values][\"ID\"].tolist()"
      ],
      "metadata": {
        "id": "rnAuJd0TL3S7"
      },
      "execution_count": null,
      "outputs": []
    },
    {
      "cell_type": "code",
      "source": [
        "train[\"TEXT\"].loc[missing] = train.Gene + \" \" + train.Variation"
      ],
      "metadata": {
        "id": "IZd_q6HbMARk"
      },
      "execution_count": null,
      "outputs": []
    },
    {
      "cell_type": "code",
      "source": [
        "train.iloc[missing]"
      ],
      "metadata": {
        "colab": {
          "base_uri": "https://localhost:8080/",
          "height": 206
        },
        "id": "Er_K5jWDMeph",
        "outputId": "80e867d2-3983-4467-c632-5f6bc1eb0b8d"
      },
      "execution_count": null,
      "outputs": [
        {
          "output_type": "execute_result",
          "data": {
            "text/plain": [
              "        ID    Gene             Variation  Class                         TEXT\n",
              "1109  1109   FANCA                S1088F      1                 FANCA S1088F\n",
              "1277  1277  ARID5B  Truncating Mutations      1  ARID5B Truncating Mutations\n",
              "1407  1407   FGFR3                 K508M      6                  FGFR3 K508M\n",
              "1639  1639    FLT1         Amplification      6           FLT1 Amplification\n",
              "2755  2755    BRAF                 G596C      7                   BRAF G596C"
            ],
            "text/html": [
              "\n",
              "  <div id=\"df-8464cc98-1217-493b-b806-21f6aaa23c01\">\n",
              "    <div class=\"colab-df-container\">\n",
              "      <div>\n",
              "<style scoped>\n",
              "    .dataframe tbody tr th:only-of-type {\n",
              "        vertical-align: middle;\n",
              "    }\n",
              "\n",
              "    .dataframe tbody tr th {\n",
              "        vertical-align: top;\n",
              "    }\n",
              "\n",
              "    .dataframe thead th {\n",
              "        text-align: right;\n",
              "    }\n",
              "</style>\n",
              "<table border=\"1\" class=\"dataframe\">\n",
              "  <thead>\n",
              "    <tr style=\"text-align: right;\">\n",
              "      <th></th>\n",
              "      <th>ID</th>\n",
              "      <th>Gene</th>\n",
              "      <th>Variation</th>\n",
              "      <th>Class</th>\n",
              "      <th>TEXT</th>\n",
              "    </tr>\n",
              "  </thead>\n",
              "  <tbody>\n",
              "    <tr>\n",
              "      <th>1109</th>\n",
              "      <td>1109</td>\n",
              "      <td>FANCA</td>\n",
              "      <td>S1088F</td>\n",
              "      <td>1</td>\n",
              "      <td>FANCA S1088F</td>\n",
              "    </tr>\n",
              "    <tr>\n",
              "      <th>1277</th>\n",
              "      <td>1277</td>\n",
              "      <td>ARID5B</td>\n",
              "      <td>Truncating Mutations</td>\n",
              "      <td>1</td>\n",
              "      <td>ARID5B Truncating Mutations</td>\n",
              "    </tr>\n",
              "    <tr>\n",
              "      <th>1407</th>\n",
              "      <td>1407</td>\n",
              "      <td>FGFR3</td>\n",
              "      <td>K508M</td>\n",
              "      <td>6</td>\n",
              "      <td>FGFR3 K508M</td>\n",
              "    </tr>\n",
              "    <tr>\n",
              "      <th>1639</th>\n",
              "      <td>1639</td>\n",
              "      <td>FLT1</td>\n",
              "      <td>Amplification</td>\n",
              "      <td>6</td>\n",
              "      <td>FLT1 Amplification</td>\n",
              "    </tr>\n",
              "    <tr>\n",
              "      <th>2755</th>\n",
              "      <td>2755</td>\n",
              "      <td>BRAF</td>\n",
              "      <td>G596C</td>\n",
              "      <td>7</td>\n",
              "      <td>BRAF G596C</td>\n",
              "    </tr>\n",
              "  </tbody>\n",
              "</table>\n",
              "</div>\n",
              "      <button class=\"colab-df-convert\" onclick=\"convertToInteractive('df-8464cc98-1217-493b-b806-21f6aaa23c01')\"\n",
              "              title=\"Convert this dataframe to an interactive table.\"\n",
              "              style=\"display:none;\">\n",
              "        \n",
              "  <svg xmlns=\"http://www.w3.org/2000/svg\" height=\"24px\"viewBox=\"0 0 24 24\"\n",
              "       width=\"24px\">\n",
              "    <path d=\"M0 0h24v24H0V0z\" fill=\"none\"/>\n",
              "    <path d=\"M18.56 5.44l.94 2.06.94-2.06 2.06-.94-2.06-.94-.94-2.06-.94 2.06-2.06.94zm-11 1L8.5 8.5l.94-2.06 2.06-.94-2.06-.94L8.5 2.5l-.94 2.06-2.06.94zm10 10l.94 2.06.94-2.06 2.06-.94-2.06-.94-.94-2.06-.94 2.06-2.06.94z\"/><path d=\"M17.41 7.96l-1.37-1.37c-.4-.4-.92-.59-1.43-.59-.52 0-1.04.2-1.43.59L10.3 9.45l-7.72 7.72c-.78.78-.78 2.05 0 2.83L4 21.41c.39.39.9.59 1.41.59.51 0 1.02-.2 1.41-.59l7.78-7.78 2.81-2.81c.8-.78.8-2.07 0-2.86zM5.41 20L4 18.59l7.72-7.72 1.47 1.35L5.41 20z\"/>\n",
              "  </svg>\n",
              "      </button>\n",
              "      \n",
              "  <style>\n",
              "    .colab-df-container {\n",
              "      display:flex;\n",
              "      flex-wrap:wrap;\n",
              "      gap: 12px;\n",
              "    }\n",
              "\n",
              "    .colab-df-convert {\n",
              "      background-color: #E8F0FE;\n",
              "      border: none;\n",
              "      border-radius: 50%;\n",
              "      cursor: pointer;\n",
              "      display: none;\n",
              "      fill: #1967D2;\n",
              "      height: 32px;\n",
              "      padding: 0 0 0 0;\n",
              "      width: 32px;\n",
              "    }\n",
              "\n",
              "    .colab-df-convert:hover {\n",
              "      background-color: #E2EBFA;\n",
              "      box-shadow: 0px 1px 2px rgba(60, 64, 67, 0.3), 0px 1px 3px 1px rgba(60, 64, 67, 0.15);\n",
              "      fill: #174EA6;\n",
              "    }\n",
              "\n",
              "    [theme=dark] .colab-df-convert {\n",
              "      background-color: #3B4455;\n",
              "      fill: #D2E3FC;\n",
              "    }\n",
              "\n",
              "    [theme=dark] .colab-df-convert:hover {\n",
              "      background-color: #434B5C;\n",
              "      box-shadow: 0px 1px 3px 1px rgba(0, 0, 0, 0.15);\n",
              "      filter: drop-shadow(0px 1px 2px rgba(0, 0, 0, 0.3));\n",
              "      fill: #FFFFFF;\n",
              "    }\n",
              "  </style>\n",
              "\n",
              "      <script>\n",
              "        const buttonEl =\n",
              "          document.querySelector('#df-8464cc98-1217-493b-b806-21f6aaa23c01 button.colab-df-convert');\n",
              "        buttonEl.style.display =\n",
              "          google.colab.kernel.accessAllowed ? 'block' : 'none';\n",
              "\n",
              "        async function convertToInteractive(key) {\n",
              "          const element = document.querySelector('#df-8464cc98-1217-493b-b806-21f6aaa23c01');\n",
              "          const dataTable =\n",
              "            await google.colab.kernel.invokeFunction('convertToInteractive',\n",
              "                                                     [key], {});\n",
              "          if (!dataTable) return;\n",
              "\n",
              "          const docLinkHtml = 'Like what you see? Visit the ' +\n",
              "            '<a target=\"_blank\" href=https://colab.research.google.com/notebooks/data_table.ipynb>data table notebook</a>'\n",
              "            + ' to learn more about interactive tables.';\n",
              "          element.innerHTML = '';\n",
              "          dataTable['output_type'] = 'display_data';\n",
              "          await google.colab.output.renderOutput(dataTable, element);\n",
              "          const docLink = document.createElement('div');\n",
              "          docLink.innerHTML = docLinkHtml;\n",
              "          element.appendChild(docLink);\n",
              "        }\n",
              "      </script>\n",
              "    </div>\n",
              "  </div>\n",
              "  "
            ]
          },
          "metadata": {},
          "execution_count": 17
        }
      ]
    },
    {
      "cell_type": "code",
      "source": [
        "train[\"Class\"].value_counts().sort_index()"
      ],
      "metadata": {
        "colab": {
          "base_uri": "https://localhost:8080/"
        },
        "id": "ZhfIBf2L8TUb",
        "outputId": "e1448bd0-b56e-48d5-e1dd-a1aa1582cd95"
      },
      "execution_count": null,
      "outputs": [
        {
          "output_type": "execute_result",
          "data": {
            "text/plain": [
              "1    568\n",
              "2    452\n",
              "3     89\n",
              "4    686\n",
              "5    242\n",
              "6    275\n",
              "7    953\n",
              "8     19\n",
              "9     37\n",
              "Name: Class, dtype: int64"
            ]
          },
          "metadata": {},
          "execution_count": 18
        }
      ]
    },
    {
      "cell_type": "code",
      "source": [
        "from sklearn.model_selection import train_test_split\n",
        "\n",
        "y_temp = train[\"Class\"].values\n",
        "\n",
        "x_train, test_df, y_train, y_test = train_test_split(train,y_temp,test_size = 0.2, stratify = y_temp)\n",
        "train_df, cv_df, y_train, y_cv = train_test_split(x_train,y_train, test_size = 0.2, stratify = y_train)"
      ],
      "metadata": {
        "id": "k3_qH8cliPhI"
      },
      "execution_count": null,
      "outputs": []
    },
    {
      "cell_type": "code",
      "source": [
        "print(train_df.shape, cv_df.shape, test_df.shape)"
      ],
      "metadata": {
        "id": "EUgIEErjk-ba",
        "colab": {
          "base_uri": "https://localhost:8080/"
        },
        "outputId": "407a8a98-e0dd-4d7c-c2b6-f7cc76b0a88f"
      },
      "execution_count": null,
      "outputs": [
        {
          "output_type": "stream",
          "name": "stdout",
          "text": [
            "(2124, 5) (532, 5) (665, 5)\n"
          ]
        }
      ]
    },
    {
      "cell_type": "code",
      "source": [
        "train_df.head()"
      ],
      "metadata": {
        "colab": {
          "base_uri": "https://localhost:8080/",
          "height": 206
        },
        "id": "hmkxCQQh8b7k",
        "outputId": "3f233789-3ce7-4f54-ce0d-8089fdf7f799"
      },
      "execution_count": null,
      "outputs": [
        {
          "output_type": "execute_result",
          "data": {
            "text/plain": [
              "        ID    Gene Variation  Class  \\\n",
              "487    487    TP53      P47S      3   \n",
              "756    756   ERBB2     D769A      4   \n",
              "752    752   ERBB2    Y1248F      4   \n",
              "189    189    EGFR     S768I      7   \n",
              "2011  2011  MAP2K1     I111P      2   \n",
              "\n",
              "                                                   TEXT  \n",
              "487   abstract purpose adrenocortical carcinoma acc ...  \n",
              "756   her2 receptor tyrosine kinase driver oncogene ...  \n",
              "752   mutant c erbb 2 protein glu instead val 659 ex...  \n",
              "189   gefitinib effective first line therapy advance...  \n",
              "2011  utilizing genetic screen yeast saccharomyces c...  "
            ],
            "text/html": [
              "\n",
              "  <div id=\"df-f15bb8bd-fd37-41a4-bd62-ad060c13494e\">\n",
              "    <div class=\"colab-df-container\">\n",
              "      <div>\n",
              "<style scoped>\n",
              "    .dataframe tbody tr th:only-of-type {\n",
              "        vertical-align: middle;\n",
              "    }\n",
              "\n",
              "    .dataframe tbody tr th {\n",
              "        vertical-align: top;\n",
              "    }\n",
              "\n",
              "    .dataframe thead th {\n",
              "        text-align: right;\n",
              "    }\n",
              "</style>\n",
              "<table border=\"1\" class=\"dataframe\">\n",
              "  <thead>\n",
              "    <tr style=\"text-align: right;\">\n",
              "      <th></th>\n",
              "      <th>ID</th>\n",
              "      <th>Gene</th>\n",
              "      <th>Variation</th>\n",
              "      <th>Class</th>\n",
              "      <th>TEXT</th>\n",
              "    </tr>\n",
              "  </thead>\n",
              "  <tbody>\n",
              "    <tr>\n",
              "      <th>487</th>\n",
              "      <td>487</td>\n",
              "      <td>TP53</td>\n",
              "      <td>P47S</td>\n",
              "      <td>3</td>\n",
              "      <td>abstract purpose adrenocortical carcinoma acc ...</td>\n",
              "    </tr>\n",
              "    <tr>\n",
              "      <th>756</th>\n",
              "      <td>756</td>\n",
              "      <td>ERBB2</td>\n",
              "      <td>D769A</td>\n",
              "      <td>4</td>\n",
              "      <td>her2 receptor tyrosine kinase driver oncogene ...</td>\n",
              "    </tr>\n",
              "    <tr>\n",
              "      <th>752</th>\n",
              "      <td>752</td>\n",
              "      <td>ERBB2</td>\n",
              "      <td>Y1248F</td>\n",
              "      <td>4</td>\n",
              "      <td>mutant c erbb 2 protein glu instead val 659 ex...</td>\n",
              "    </tr>\n",
              "    <tr>\n",
              "      <th>189</th>\n",
              "      <td>189</td>\n",
              "      <td>EGFR</td>\n",
              "      <td>S768I</td>\n",
              "      <td>7</td>\n",
              "      <td>gefitinib effective first line therapy advance...</td>\n",
              "    </tr>\n",
              "    <tr>\n",
              "      <th>2011</th>\n",
              "      <td>2011</td>\n",
              "      <td>MAP2K1</td>\n",
              "      <td>I111P</td>\n",
              "      <td>2</td>\n",
              "      <td>utilizing genetic screen yeast saccharomyces c...</td>\n",
              "    </tr>\n",
              "  </tbody>\n",
              "</table>\n",
              "</div>\n",
              "      <button class=\"colab-df-convert\" onclick=\"convertToInteractive('df-f15bb8bd-fd37-41a4-bd62-ad060c13494e')\"\n",
              "              title=\"Convert this dataframe to an interactive table.\"\n",
              "              style=\"display:none;\">\n",
              "        \n",
              "  <svg xmlns=\"http://www.w3.org/2000/svg\" height=\"24px\"viewBox=\"0 0 24 24\"\n",
              "       width=\"24px\">\n",
              "    <path d=\"M0 0h24v24H0V0z\" fill=\"none\"/>\n",
              "    <path d=\"M18.56 5.44l.94 2.06.94-2.06 2.06-.94-2.06-.94-.94-2.06-.94 2.06-2.06.94zm-11 1L8.5 8.5l.94-2.06 2.06-.94-2.06-.94L8.5 2.5l-.94 2.06-2.06.94zm10 10l.94 2.06.94-2.06 2.06-.94-2.06-.94-.94-2.06-.94 2.06-2.06.94z\"/><path d=\"M17.41 7.96l-1.37-1.37c-.4-.4-.92-.59-1.43-.59-.52 0-1.04.2-1.43.59L10.3 9.45l-7.72 7.72c-.78.78-.78 2.05 0 2.83L4 21.41c.39.39.9.59 1.41.59.51 0 1.02-.2 1.41-.59l7.78-7.78 2.81-2.81c.8-.78.8-2.07 0-2.86zM5.41 20L4 18.59l7.72-7.72 1.47 1.35L5.41 20z\"/>\n",
              "  </svg>\n",
              "      </button>\n",
              "      \n",
              "  <style>\n",
              "    .colab-df-container {\n",
              "      display:flex;\n",
              "      flex-wrap:wrap;\n",
              "      gap: 12px;\n",
              "    }\n",
              "\n",
              "    .colab-df-convert {\n",
              "      background-color: #E8F0FE;\n",
              "      border: none;\n",
              "      border-radius: 50%;\n",
              "      cursor: pointer;\n",
              "      display: none;\n",
              "      fill: #1967D2;\n",
              "      height: 32px;\n",
              "      padding: 0 0 0 0;\n",
              "      width: 32px;\n",
              "    }\n",
              "\n",
              "    .colab-df-convert:hover {\n",
              "      background-color: #E2EBFA;\n",
              "      box-shadow: 0px 1px 2px rgba(60, 64, 67, 0.3), 0px 1px 3px 1px rgba(60, 64, 67, 0.15);\n",
              "      fill: #174EA6;\n",
              "    }\n",
              "\n",
              "    [theme=dark] .colab-df-convert {\n",
              "      background-color: #3B4455;\n",
              "      fill: #D2E3FC;\n",
              "    }\n",
              "\n",
              "    [theme=dark] .colab-df-convert:hover {\n",
              "      background-color: #434B5C;\n",
              "      box-shadow: 0px 1px 3px 1px rgba(0, 0, 0, 0.15);\n",
              "      filter: drop-shadow(0px 1px 2px rgba(0, 0, 0, 0.3));\n",
              "      fill: #FFFFFF;\n",
              "    }\n",
              "  </style>\n",
              "\n",
              "      <script>\n",
              "        const buttonEl =\n",
              "          document.querySelector('#df-f15bb8bd-fd37-41a4-bd62-ad060c13494e button.colab-df-convert');\n",
              "        buttonEl.style.display =\n",
              "          google.colab.kernel.accessAllowed ? 'block' : 'none';\n",
              "\n",
              "        async function convertToInteractive(key) {\n",
              "          const element = document.querySelector('#df-f15bb8bd-fd37-41a4-bd62-ad060c13494e');\n",
              "          const dataTable =\n",
              "            await google.colab.kernel.invokeFunction('convertToInteractive',\n",
              "                                                     [key], {});\n",
              "          if (!dataTable) return;\n",
              "\n",
              "          const docLinkHtml = 'Like what you see? Visit the ' +\n",
              "            '<a target=\"_blank\" href=https://colab.research.google.com/notebooks/data_table.ipynb>data table notebook</a>'\n",
              "            + ' to learn more about interactive tables.';\n",
              "          element.innerHTML = '';\n",
              "          dataTable['output_type'] = 'display_data';\n",
              "          await google.colab.output.renderOutput(dataTable, element);\n",
              "          const docLink = document.createElement('div');\n",
              "          docLink.innerHTML = docLinkHtml;\n",
              "          element.appendChild(docLink);\n",
              "        }\n",
              "      </script>\n",
              "    </div>\n",
              "  </div>\n",
              "  "
            ]
          },
          "metadata": {},
          "execution_count": 21
        }
      ]
    },
    {
      "cell_type": "code",
      "source": [
        "cv_df.head()"
      ],
      "metadata": {
        "colab": {
          "base_uri": "https://localhost:8080/",
          "height": 206
        },
        "id": "VdQerSN93jfy",
        "outputId": "afc28a50-3016-4f48-d411-c9b6c076e223"
      },
      "execution_count": null,
      "outputs": [
        {
          "output_type": "execute_result",
          "data": {
            "text/plain": [
              "        ID   Gene Variation  Class  \\\n",
              "2505  2505  BRCA1    D1739V      4   \n",
              "1626  1626    VHL      Q96P      4   \n",
              "2519  2519  BRCA1    E1060A      5   \n",
              "208    208   EGFR     V774A      2   \n",
              "1562  1562    ALK    R1231Q      3   \n",
              "\n",
              "                                                   TEXT  \n",
              "2505  mutations brca1 brca2 account majority heredit...  \n",
              "1626  von hippel lindau tumor suppressor protein pvh...  \n",
              "2519  mutations brca1 brca2 account majority heredit...  \n",
              "208   purpose clinical features epidermal growth fac...  \n",
              "1562  era personalized medicine understanding molecu...  "
            ],
            "text/html": [
              "\n",
              "  <div id=\"df-355aec1f-c6c4-4d69-ac42-49f8beedb60b\">\n",
              "    <div class=\"colab-df-container\">\n",
              "      <div>\n",
              "<style scoped>\n",
              "    .dataframe tbody tr th:only-of-type {\n",
              "        vertical-align: middle;\n",
              "    }\n",
              "\n",
              "    .dataframe tbody tr th {\n",
              "        vertical-align: top;\n",
              "    }\n",
              "\n",
              "    .dataframe thead th {\n",
              "        text-align: right;\n",
              "    }\n",
              "</style>\n",
              "<table border=\"1\" class=\"dataframe\">\n",
              "  <thead>\n",
              "    <tr style=\"text-align: right;\">\n",
              "      <th></th>\n",
              "      <th>ID</th>\n",
              "      <th>Gene</th>\n",
              "      <th>Variation</th>\n",
              "      <th>Class</th>\n",
              "      <th>TEXT</th>\n",
              "    </tr>\n",
              "  </thead>\n",
              "  <tbody>\n",
              "    <tr>\n",
              "      <th>2505</th>\n",
              "      <td>2505</td>\n",
              "      <td>BRCA1</td>\n",
              "      <td>D1739V</td>\n",
              "      <td>4</td>\n",
              "      <td>mutations brca1 brca2 account majority heredit...</td>\n",
              "    </tr>\n",
              "    <tr>\n",
              "      <th>1626</th>\n",
              "      <td>1626</td>\n",
              "      <td>VHL</td>\n",
              "      <td>Q96P</td>\n",
              "      <td>4</td>\n",
              "      <td>von hippel lindau tumor suppressor protein pvh...</td>\n",
              "    </tr>\n",
              "    <tr>\n",
              "      <th>2519</th>\n",
              "      <td>2519</td>\n",
              "      <td>BRCA1</td>\n",
              "      <td>E1060A</td>\n",
              "      <td>5</td>\n",
              "      <td>mutations brca1 brca2 account majority heredit...</td>\n",
              "    </tr>\n",
              "    <tr>\n",
              "      <th>208</th>\n",
              "      <td>208</td>\n",
              "      <td>EGFR</td>\n",
              "      <td>V774A</td>\n",
              "      <td>2</td>\n",
              "      <td>purpose clinical features epidermal growth fac...</td>\n",
              "    </tr>\n",
              "    <tr>\n",
              "      <th>1562</th>\n",
              "      <td>1562</td>\n",
              "      <td>ALK</td>\n",
              "      <td>R1231Q</td>\n",
              "      <td>3</td>\n",
              "      <td>era personalized medicine understanding molecu...</td>\n",
              "    </tr>\n",
              "  </tbody>\n",
              "</table>\n",
              "</div>\n",
              "      <button class=\"colab-df-convert\" onclick=\"convertToInteractive('df-355aec1f-c6c4-4d69-ac42-49f8beedb60b')\"\n",
              "              title=\"Convert this dataframe to an interactive table.\"\n",
              "              style=\"display:none;\">\n",
              "        \n",
              "  <svg xmlns=\"http://www.w3.org/2000/svg\" height=\"24px\"viewBox=\"0 0 24 24\"\n",
              "       width=\"24px\">\n",
              "    <path d=\"M0 0h24v24H0V0z\" fill=\"none\"/>\n",
              "    <path d=\"M18.56 5.44l.94 2.06.94-2.06 2.06-.94-2.06-.94-.94-2.06-.94 2.06-2.06.94zm-11 1L8.5 8.5l.94-2.06 2.06-.94-2.06-.94L8.5 2.5l-.94 2.06-2.06.94zm10 10l.94 2.06.94-2.06 2.06-.94-2.06-.94-.94-2.06-.94 2.06-2.06.94z\"/><path d=\"M17.41 7.96l-1.37-1.37c-.4-.4-.92-.59-1.43-.59-.52 0-1.04.2-1.43.59L10.3 9.45l-7.72 7.72c-.78.78-.78 2.05 0 2.83L4 21.41c.39.39.9.59 1.41.59.51 0 1.02-.2 1.41-.59l7.78-7.78 2.81-2.81c.8-.78.8-2.07 0-2.86zM5.41 20L4 18.59l7.72-7.72 1.47 1.35L5.41 20z\"/>\n",
              "  </svg>\n",
              "      </button>\n",
              "      \n",
              "  <style>\n",
              "    .colab-df-container {\n",
              "      display:flex;\n",
              "      flex-wrap:wrap;\n",
              "      gap: 12px;\n",
              "    }\n",
              "\n",
              "    .colab-df-convert {\n",
              "      background-color: #E8F0FE;\n",
              "      border: none;\n",
              "      border-radius: 50%;\n",
              "      cursor: pointer;\n",
              "      display: none;\n",
              "      fill: #1967D2;\n",
              "      height: 32px;\n",
              "      padding: 0 0 0 0;\n",
              "      width: 32px;\n",
              "    }\n",
              "\n",
              "    .colab-df-convert:hover {\n",
              "      background-color: #E2EBFA;\n",
              "      box-shadow: 0px 1px 2px rgba(60, 64, 67, 0.3), 0px 1px 3px 1px rgba(60, 64, 67, 0.15);\n",
              "      fill: #174EA6;\n",
              "    }\n",
              "\n",
              "    [theme=dark] .colab-df-convert {\n",
              "      background-color: #3B4455;\n",
              "      fill: #D2E3FC;\n",
              "    }\n",
              "\n",
              "    [theme=dark] .colab-df-convert:hover {\n",
              "      background-color: #434B5C;\n",
              "      box-shadow: 0px 1px 3px 1px rgba(0, 0, 0, 0.15);\n",
              "      filter: drop-shadow(0px 1px 2px rgba(0, 0, 0, 0.3));\n",
              "      fill: #FFFFFF;\n",
              "    }\n",
              "  </style>\n",
              "\n",
              "      <script>\n",
              "        const buttonEl =\n",
              "          document.querySelector('#df-355aec1f-c6c4-4d69-ac42-49f8beedb60b button.colab-df-convert');\n",
              "        buttonEl.style.display =\n",
              "          google.colab.kernel.accessAllowed ? 'block' : 'none';\n",
              "\n",
              "        async function convertToInteractive(key) {\n",
              "          const element = document.querySelector('#df-355aec1f-c6c4-4d69-ac42-49f8beedb60b');\n",
              "          const dataTable =\n",
              "            await google.colab.kernel.invokeFunction('convertToInteractive',\n",
              "                                                     [key], {});\n",
              "          if (!dataTable) return;\n",
              "\n",
              "          const docLinkHtml = 'Like what you see? Visit the ' +\n",
              "            '<a target=\"_blank\" href=https://colab.research.google.com/notebooks/data_table.ipynb>data table notebook</a>'\n",
              "            + ' to learn more about interactive tables.';\n",
              "          element.innerHTML = '';\n",
              "          dataTable['output_type'] = 'display_data';\n",
              "          await google.colab.output.renderOutput(dataTable, element);\n",
              "          const docLink = document.createElement('div');\n",
              "          docLink.innerHTML = docLinkHtml;\n",
              "          element.appendChild(docLink);\n",
              "        }\n",
              "      </script>\n",
              "    </div>\n",
              "  </div>\n",
              "  "
            ]
          },
          "metadata": {},
          "execution_count": 22
        }
      ]
    },
    {
      "cell_type": "code",
      "source": [
        "test_df.head()"
      ],
      "metadata": {
        "colab": {
          "base_uri": "https://localhost:8080/",
          "height": 206
        },
        "id": "6Xh1tLAl3osS",
        "outputId": "5917dbec-0e14-4091-b536-9524af48b50c"
      },
      "execution_count": null,
      "outputs": [
        {
          "output_type": "execute_result",
          "data": {
            "text/plain": [
              "        ID    Gene                   Variation  Class  \\\n",
              "1479  1479   FGFR2                       K525E      7   \n",
              "1731  1731    MSH2                    Deletion      1   \n",
              "2426  2426   BRCA1                        C64G      4   \n",
              "1634  1634  MAP2K4                       N234I      4   \n",
              "929    929  PDGFRA  V544_L545insAVLVLLVIVIISLI      7   \n",
              "\n",
              "                                                   TEXT  \n",
              "1479  activating mutations tyrosine kinase domain re...  \n",
              "1731  abstract december 1997 national cancer institu...  \n",
              "2426  published analyses effects missense mutations ...  \n",
              "1634  systematic characterization somatic mutations ...  \n",
              "929   introduction pediatric high grade gliomas hgg ...  "
            ],
            "text/html": [
              "\n",
              "  <div id=\"df-2e7cb6b9-a147-4a52-ba8f-750512679c5d\">\n",
              "    <div class=\"colab-df-container\">\n",
              "      <div>\n",
              "<style scoped>\n",
              "    .dataframe tbody tr th:only-of-type {\n",
              "        vertical-align: middle;\n",
              "    }\n",
              "\n",
              "    .dataframe tbody tr th {\n",
              "        vertical-align: top;\n",
              "    }\n",
              "\n",
              "    .dataframe thead th {\n",
              "        text-align: right;\n",
              "    }\n",
              "</style>\n",
              "<table border=\"1\" class=\"dataframe\">\n",
              "  <thead>\n",
              "    <tr style=\"text-align: right;\">\n",
              "      <th></th>\n",
              "      <th>ID</th>\n",
              "      <th>Gene</th>\n",
              "      <th>Variation</th>\n",
              "      <th>Class</th>\n",
              "      <th>TEXT</th>\n",
              "    </tr>\n",
              "  </thead>\n",
              "  <tbody>\n",
              "    <tr>\n",
              "      <th>1479</th>\n",
              "      <td>1479</td>\n",
              "      <td>FGFR2</td>\n",
              "      <td>K525E</td>\n",
              "      <td>7</td>\n",
              "      <td>activating mutations tyrosine kinase domain re...</td>\n",
              "    </tr>\n",
              "    <tr>\n",
              "      <th>1731</th>\n",
              "      <td>1731</td>\n",
              "      <td>MSH2</td>\n",
              "      <td>Deletion</td>\n",
              "      <td>1</td>\n",
              "      <td>abstract december 1997 national cancer institu...</td>\n",
              "    </tr>\n",
              "    <tr>\n",
              "      <th>2426</th>\n",
              "      <td>2426</td>\n",
              "      <td>BRCA1</td>\n",
              "      <td>C64G</td>\n",
              "      <td>4</td>\n",
              "      <td>published analyses effects missense mutations ...</td>\n",
              "    </tr>\n",
              "    <tr>\n",
              "      <th>1634</th>\n",
              "      <td>1634</td>\n",
              "      <td>MAP2K4</td>\n",
              "      <td>N234I</td>\n",
              "      <td>4</td>\n",
              "      <td>systematic characterization somatic mutations ...</td>\n",
              "    </tr>\n",
              "    <tr>\n",
              "      <th>929</th>\n",
              "      <td>929</td>\n",
              "      <td>PDGFRA</td>\n",
              "      <td>V544_L545insAVLVLLVIVIISLI</td>\n",
              "      <td>7</td>\n",
              "      <td>introduction pediatric high grade gliomas hgg ...</td>\n",
              "    </tr>\n",
              "  </tbody>\n",
              "</table>\n",
              "</div>\n",
              "      <button class=\"colab-df-convert\" onclick=\"convertToInteractive('df-2e7cb6b9-a147-4a52-ba8f-750512679c5d')\"\n",
              "              title=\"Convert this dataframe to an interactive table.\"\n",
              "              style=\"display:none;\">\n",
              "        \n",
              "  <svg xmlns=\"http://www.w3.org/2000/svg\" height=\"24px\"viewBox=\"0 0 24 24\"\n",
              "       width=\"24px\">\n",
              "    <path d=\"M0 0h24v24H0V0z\" fill=\"none\"/>\n",
              "    <path d=\"M18.56 5.44l.94 2.06.94-2.06 2.06-.94-2.06-.94-.94-2.06-.94 2.06-2.06.94zm-11 1L8.5 8.5l.94-2.06 2.06-.94-2.06-.94L8.5 2.5l-.94 2.06-2.06.94zm10 10l.94 2.06.94-2.06 2.06-.94-2.06-.94-.94-2.06-.94 2.06-2.06.94z\"/><path d=\"M17.41 7.96l-1.37-1.37c-.4-.4-.92-.59-1.43-.59-.52 0-1.04.2-1.43.59L10.3 9.45l-7.72 7.72c-.78.78-.78 2.05 0 2.83L4 21.41c.39.39.9.59 1.41.59.51 0 1.02-.2 1.41-.59l7.78-7.78 2.81-2.81c.8-.78.8-2.07 0-2.86zM5.41 20L4 18.59l7.72-7.72 1.47 1.35L5.41 20z\"/>\n",
              "  </svg>\n",
              "      </button>\n",
              "      \n",
              "  <style>\n",
              "    .colab-df-container {\n",
              "      display:flex;\n",
              "      flex-wrap:wrap;\n",
              "      gap: 12px;\n",
              "    }\n",
              "\n",
              "    .colab-df-convert {\n",
              "      background-color: #E8F0FE;\n",
              "      border: none;\n",
              "      border-radius: 50%;\n",
              "      cursor: pointer;\n",
              "      display: none;\n",
              "      fill: #1967D2;\n",
              "      height: 32px;\n",
              "      padding: 0 0 0 0;\n",
              "      width: 32px;\n",
              "    }\n",
              "\n",
              "    .colab-df-convert:hover {\n",
              "      background-color: #E2EBFA;\n",
              "      box-shadow: 0px 1px 2px rgba(60, 64, 67, 0.3), 0px 1px 3px 1px rgba(60, 64, 67, 0.15);\n",
              "      fill: #174EA6;\n",
              "    }\n",
              "\n",
              "    [theme=dark] .colab-df-convert {\n",
              "      background-color: #3B4455;\n",
              "      fill: #D2E3FC;\n",
              "    }\n",
              "\n",
              "    [theme=dark] .colab-df-convert:hover {\n",
              "      background-color: #434B5C;\n",
              "      box-shadow: 0px 1px 3px 1px rgba(0, 0, 0, 0.15);\n",
              "      filter: drop-shadow(0px 1px 2px rgba(0, 0, 0, 0.3));\n",
              "      fill: #FFFFFF;\n",
              "    }\n",
              "  </style>\n",
              "\n",
              "      <script>\n",
              "        const buttonEl =\n",
              "          document.querySelector('#df-2e7cb6b9-a147-4a52-ba8f-750512679c5d button.colab-df-convert');\n",
              "        buttonEl.style.display =\n",
              "          google.colab.kernel.accessAllowed ? 'block' : 'none';\n",
              "\n",
              "        async function convertToInteractive(key) {\n",
              "          const element = document.querySelector('#df-2e7cb6b9-a147-4a52-ba8f-750512679c5d');\n",
              "          const dataTable =\n",
              "            await google.colab.kernel.invokeFunction('convertToInteractive',\n",
              "                                                     [key], {});\n",
              "          if (!dataTable) return;\n",
              "\n",
              "          const docLinkHtml = 'Like what you see? Visit the ' +\n",
              "            '<a target=\"_blank\" href=https://colab.research.google.com/notebooks/data_table.ipynb>data table notebook</a>'\n",
              "            + ' to learn more about interactive tables.';\n",
              "          element.innerHTML = '';\n",
              "          dataTable['output_type'] = 'display_data';\n",
              "          await google.colab.output.renderOutput(dataTable, element);\n",
              "          const docLink = document.createElement('div');\n",
              "          docLink.innerHTML = docLinkHtml;\n",
              "          element.appendChild(docLink);\n",
              "        }\n",
              "      </script>\n",
              "    </div>\n",
              "  </div>\n",
              "  "
            ]
          },
          "metadata": {},
          "execution_count": 23
        }
      ]
    },
    {
      "cell_type": "code",
      "source": [
        "fig,axis = plt.subplots(1,3,figsize=(15,5))\n",
        "fig.suptitle(\"distributions of y_i's\")\n",
        "\n",
        "sn.histplot(ax=axis[0],data=y_train)\n",
        "axis[0].set_title(\"training data\")\n",
        "\n",
        "sn.histplot(ax=axis[1], data=y_cv)\n",
        "axis[1].set_title(\"cv data\")\n",
        "\n",
        "sn.histplot(ax=axis[2], data=y_test)\n",
        "axis[2].set_title(\"test data\")"
      ],
      "metadata": {
        "colab": {
          "base_uri": "https://localhost:8080/",
          "height": 373
        },
        "id": "WyY9XXKx50cd",
        "outputId": "69231082-31c3-4c37-ed7f-f6426eacc81e"
      },
      "execution_count": null,
      "outputs": [
        {
          "output_type": "execute_result",
          "data": {
            "text/plain": [
              "Text(0.5, 1.0, 'test data')"
            ]
          },
          "metadata": {},
          "execution_count": 24
        },
        {
          "output_type": "display_data",
          "data": {
            "text/plain": [
              "<Figure size 1080x360 with 3 Axes>"
            ],
            "image/png": "[encoded data removed]"
          },
          "metadata": {
            "needs_background": "light"
          }
        }
      ]
    },
    {
      "cell_type": "markdown",
      "source": [
        "We can see that all three data have similar distribution"
      ],
      "metadata": {
        "id": "LL89p_mS7vgf"
      }
    },
    {
      "cell_type": "markdown",
      "source": [
        "## **EDA**"
      ],
      "metadata": {
        "id": "k4VJXSjJ3tqv"
      }
    },
    {
      "cell_type": "markdown",
      "source": [
        "**1) On gene feature**"
      ],
      "metadata": {
        "id": "2DEXkFcp68E_"
      }
    },
    {
      "cell_type": "code",
      "source": [
        "unique_gene_features = train_df[\"Gene\"].value_counts()\n",
        "unique_gene_features.shape"
      ],
      "metadata": {
        "colab": {
          "base_uri": "https://localhost:8080/"
        },
        "id": "7wWkz3zX3w3V",
        "outputId": "0cb84ca1-2f1c-41f5-a52f-3ab5ae363b30"
      },
      "execution_count": null,
      "outputs": [
        {
          "output_type": "execute_result",
          "data": {
            "text/plain": [
              "(240,)"
            ]
          },
          "metadata": {},
          "execution_count": 25
        }
      ]
    },
    {
      "cell_type": "code",
      "source": [
        "h = unique_gene_features.values/sum(unique_gene_features.values)\n",
        "sn.displot(data=h,kind=\"kde\")"
      ],
      "metadata": {
        "colab": {
          "base_uri": "https://localhost:8080/",
          "height": 386
        },
        "id": "yBKZPiH57a1s",
        "outputId": "aa498764-e3c2-4bc0-f84b-9a59640c87d9"
      },
      "execution_count": null,
      "outputs": [
        {
          "output_type": "execute_result",
          "data": {
            "text/plain": [
              "<seaborn.axisgrid.FacetGrid at 0x7f047d5f8c10>"
            ]
          },
          "metadata": {},
          "execution_count": 26
        },
        {
          "output_type": "display_data",
          "data": {
            "text/plain": [
              "<Figure size 360x360 with 1 Axes>"
            ],
            "image/png": "[encoded data removed]"
          },
          "metadata": {
            "needs_background": "light"
          }
        }
      ]
    },
    {
      "cell_type": "code",
      "source": [
        "s = sum(unique_gene_features.values);\n",
        "h = unique_gene_features.values/s;\n",
        "plt.plot(h, label=\"Histrogram of Genes\")\n",
        "plt.xlabel('Index of a Gene')\n",
        "plt.ylabel('Number of Occurances')\n",
        "plt.legend()\n",
        "plt.grid()\n",
        "plt.show()"
      ],
      "metadata": {
        "colab": {
          "base_uri": "https://localhost:8080/",
          "height": 279
        },
        "id": "-f6AsygC9KQr",
        "outputId": "945deaf2-3709-46e2-ae8a-9f5e77096c18"
      },
      "execution_count": null,
      "outputs": [
        {
          "output_type": "display_data",
          "data": {
            "text/plain": [
              "<Figure size 432x288 with 1 Axes>"
            ],
            "image/png": "[encoded data removed]"
          },
          "metadata": {
            "needs_background": "light"
          }
        }
      ]
    },
    {
      "cell_type": "code",
      "source": [
        "def response_train(feature,alpha,df):\n",
        "\n",
        "  \n",
        "  value_count = train_df[feature].value_counts()\n",
        "  response = dict()\n",
        "\n",
        "  for key,value in value_count.items():\n",
        "    temp = []\n",
        "    for i in range(1,10):\n",
        "      numerator = train_df.loc[(train_df[\"Class\"] == i) & (train_df[feature] == key)]\n",
        "      temp.append((numerator.shape[0] + alpha * 10) / (value + 90*alpha))\n",
        "      #vec.append((cls_cnt.shape[0] + alpha*10)/ (denominator + 90*alpha))\n",
        "    response[key] = temp\n",
        "  return response\n",
        "\n",
        "def response_unseen(feature,alpha,df):\n",
        "  final_dict = response_train(feature,alpha,df)\n",
        "  value_count = train_df[feature].value_counts()\n",
        "  result = []\n",
        "  for index,row in df.iterrows():\n",
        "    if row[feature] in dict(value_count).keys():\n",
        "      result.append(final_dict[row[feature]])\n",
        "    else:\n",
        "      result.append([1/9,1/9,1/9,1/9,1/9,1/9,1/9,1/9,1/9])\n",
        "  return result\n"
      ],
      "metadata": {
        "id": "C6XY1rYHNCVS"
      },
      "execution_count": null,
      "outputs": []
    },
    {
      "cell_type": "code",
      "source": [
        "alpha = 1\n",
        "train_gene_response = np.array(response_unseen( \"Gene\",  alpha,train_df))"
      ],
      "metadata": {
        "id": "Dxt-29jrZ4z2"
      },
      "execution_count": null,
      "outputs": []
    },
    {
      "cell_type": "code",
      "source": [
        "# one-hotencoding\n",
        "from sklearn.feature_extraction.text import CountVectorizer\n",
        "\n",
        "onehot = CountVectorizer()\n",
        "train_gene_onehot = onehot.fit_transform(train_df[\"Gene\"])\n",
        "test_gene_onehot = onehot.transform(test_df[\"Gene\"])\n",
        "cv_gene_onehot = onehot.transform(cv_df[\"Gene\"])"
      ],
      "metadata": {
        "id": "S5cQsohCSjar"
      },
      "execution_count": null,
      "outputs": []
    },
    {
      "cell_type": "code",
      "source": [
        "print(train_gene_onehot.shape)\n",
        "print(test_gene_onehot.shape)\n",
        "cv_gene_onehot.shape"
      ],
      "metadata": {
        "colab": {
          "base_uri": "https://localhost:8080/"
        },
        "id": "Il6MLtK5UNkF",
        "outputId": "21e47d68-8c8b-44f0-8679-07e6c4ce890c"
      },
      "execution_count": null,
      "outputs": [
        {
          "output_type": "stream",
          "name": "stdout",
          "text": [
            "(2124, 239)\n",
            "(665, 239)\n"
          ]
        },
        {
          "output_type": "execute_result",
          "data": {
            "text/plain": [
              "(532, 239)"
            ]
          },
          "metadata": {},
          "execution_count": 31
        }
      ]
    },
    {
      "cell_type": "code",
      "source": [
        "# check if the gene feature is good enough to predict the yi's(by building a model only using gene feature).\n",
        "from sklearn.linear_model import SGDClassifier\n",
        "from sklearn.calibration import CalibratedClassifierCV\n",
        "from sklearn.metrics import log_loss\n"
      ],
      "metadata": {
        "id": "bhY6qsHbbtyg"
      },
      "execution_count": null,
      "outputs": []
    },
    {
      "cell_type": "code",
      "source": [
        "clf = SGDClassifier(loss='log', random_state=42)\n",
        "clf.fit(train_gene_onehot,y_train)\n",
        "prob_clf = CalibratedClassifierCV(clf)\n",
        "prob_clf.fit(train_gene_onehot,y_train)\n"
      ],
      "metadata": {
        "colab": {
          "base_uri": "https://localhost:8080/"
        },
        "id": "q_LkFWqWlhxE",
        "outputId": "5c2bd6cd-7a7b-4f3a-a188-d7ed04fe4344"
      },
      "execution_count": null,
      "outputs": [
        {
          "output_type": "execute_result",
          "data": {
            "text/plain": [
              "CalibratedClassifierCV(base_estimator=SGDClassifier(loss='log',\n",
              "                                                    random_state=42))"
            ]
          },
          "metadata": {},
          "execution_count": 33
        }
      ]
    },
    {
      "cell_type": "code",
      "source": [
        "# check if our model is stable\n",
        "predict = prob_clf.predict_proba(train_gene_onehot)\n",
        "score = log_loss(y_train,predict)\n",
        "print(f\"the train loss is{score}\")\n",
        "predict1 = prob_clf.predict_proba(cv_gene_onehot)\n",
        "score1 = log_loss(y_cv,predict1)\n",
        "print(f\"the cv loss is{score1}\")\n",
        "predict2 = prob_clf.predict_proba(test_gene_onehot)\n",
        "score2 = log_loss(y_test,predict2)\n",
        "print(f\"the test loss is{score2}\")"
      ],
      "metadata": {
        "colab": {
          "base_uri": "https://localhost:8080/"
        },
        "id": "XjHj6BpgpRTh",
        "outputId": "11dd816b-85ee-4edc-90f4-55bbd41ed918"
      },
      "execution_count": null,
      "outputs": [
        {
          "output_type": "stream",
          "name": "stdout",
          "text": [
            "the train loss is0.9993586052398425\n",
            "the cv loss is1.1584258704459984\n",
            "the test loss is1.1425085224439964\n"
          ]
        }
      ]
    },
    {
      "cell_type": "markdown",
      "source": [
        "Variation Feature"
      ],
      "metadata": {
        "id": "pbw0Xe6wG_n-"
      }
    },
    {
      "cell_type": "code",
      "source": [
        "unique_variation_feature = train_df[\"Variation\"].value_counts()\n",
        "\n",
        "print(f\"Out of {train_df.shape[0]} we have {unique_variation_feature.shape[0]} unique values\")\n",
        "unique_variation_feature.sort_values(ascending=False)"
      ],
      "metadata": {
        "colab": {
          "base_uri": "https://localhost:8080/"
        },
        "id": "umouNmDlHCYf",
        "outputId": "613c33f3-215d-45a3-dfc2-d6da4e93edfd"
      },
      "execution_count": null,
      "outputs": [
        {
          "output_type": "stream",
          "name": "stdout",
          "text": [
            "Out of 2124 we have 1925 unique values\n"
          ]
        },
        {
          "output_type": "execute_result",
          "data": {
            "text/plain": [
              "Truncating Mutations    61\n",
              "Amplification           49\n",
              "Deletion                45\n",
              "Fusions                 24\n",
              "Q61H                     3\n",
              "                        ..\n",
              "D92V                     1\n",
              "E79Q                     1\n",
              "A148T                    1\n",
              "H1402Y                   1\n",
              "PVT1-MYC Fusion          1\n",
              "Name: Variation, Length: 1925, dtype: int64"
            ]
          },
          "metadata": {},
          "execution_count": 35
        }
      ]
    },
    {
      "cell_type": "code",
      "source": [
        "#sum = sum(unique_variation_feature.values)\n",
        "\n",
        "sn.displot(data=unique_variation_feature,kind=\"kde\")"
      ],
      "metadata": {
        "colab": {
          "base_uri": "https://localhost:8080/",
          "height": 386
        },
        "id": "8R6x4xuII9QU",
        "outputId": "82bd8708-aceb-45f8-a8b7-ebfb2041e479"
      },
      "execution_count": null,
      "outputs": [
        {
          "output_type": "execute_result",
          "data": {
            "text/plain": [
              "<seaborn.axisgrid.FacetGrid at 0x7f047d08ba90>"
            ]
          },
          "metadata": {},
          "execution_count": 36
        },
        {
          "output_type": "display_data",
          "data": {
            "text/plain": [
              "<Figure size 360x360 with 1 Axes>"
            ],
            "image/png": "[encoded data removed]"
          },
          "metadata": {
            "needs_background": "light"
          }
        }
      ]
    },
    {
      "cell_type": "code",
      "source": [
        "train_variation_onehot = onehot.fit_transform(train_df[\"Variation\"])\n",
        "test_variation_onehot = onehot.transform(test_df[\"Variation\"])\n",
        "cv_variation_onehot = onehot.transform(cv_df[\"Variation\"])\n",
        "\n",
        "print(f\"{train_variation_onehot.shape}{test_variation_onehot.shape}{cv_variation_onehot.shape}\")"
      ],
      "metadata": {
        "colab": {
          "base_uri": "https://localhost:8080/"
        },
        "id": "v4wl26WtpXbX",
        "outputId": "a5702d67-7344-41c0-d660-b3fffdade9a9"
      },
      "execution_count": null,
      "outputs": [
        {
          "output_type": "stream",
          "name": "stdout",
          "text": [
            "(2124, 1961)(665, 1961)(532, 1961)\n"
          ]
        }
      ]
    },
    {
      "cell_type": "code",
      "source": [
        "clf.fit(train_variation_onehot,y_train)\n",
        "probscore = CalibratedClassifierCV(clf)\n",
        "finalm = probscore.fit(train_variation_onehot,y_train)\n",
        "score_ = finalm.predict_proba(cv_variation_onehot)\n",
        "\n",
        "print(f\"logg loss = {log_loss(y_cv,score_)}\")"
      ],
      "metadata": {
        "colab": {
          "base_uri": "https://localhost:8080/"
        },
        "id": "IozuLC5Bqscd",
        "outputId": "a24e4ddb-900a-4858-c280-dc5bce92555d"
      },
      "execution_count": null,
      "outputs": [
        {
          "output_type": "stream",
          "name": "stdout",
          "text": [
            "logg loss = 1.685876048958897\n"
          ]
        }
      ]
    },
    {
      "cell_type": "markdown",
      "source": [
        "text feature"
      ],
      "metadata": {
        "id": "FqZyxucHsSmK"
      }
    },
    {
      "cell_type": "code",
      "source": [
        "def count_dict(txt):\n",
        "\n",
        "  countdict = dict()\n",
        "  for index,row in txt.iterrows():\n",
        "    for word in row[\"Text\"].split():\n",
        "      if word in countdict.keys():\n",
        "        countdict[word] = countdict[word] + 1\n",
        "      else:\n",
        "        countdict[word] =1\n",
        "        \n",
        "  return countdict "
      ],
      "metadata": {
        "id": "NYhkQOK0wfMq"
      },
      "execution_count": null,
      "outputs": []
    },
    {
      "cell_type": "code",
      "source": [
        "bow = CountVectorizer(min_df=3)\n",
        "\n",
        "train_bow = bow.fit_transform(train_df[\"TEXT\"])\n",
        "train_bow_features = bow.get_feature_names()\n",
        "print(len(train_bow_features))\n",
        "train_bow.shape"
      ],
      "metadata": {
        "colab": {
          "base_uri": "https://localhost:8080/"
        },
        "id": "sif57mLMBnoj",
        "outputId": "e5771e0e-93f6-4b85-d780-95796c0b181f"
      },
      "execution_count": null,
      "outputs": [
        {
          "output_type": "stream",
          "name": "stdout",
          "text": [
            "53663\n"
          ]
        },
        {
          "output_type": "execute_result",
          "data": {
            "text/plain": [
              "(2124, 53663)"
            ]
          },
          "metadata": {},
          "execution_count": 47
        }
      ]
    },
    {
      "cell_type": "code",
      "source": [
        "from sklearn.preprocessing import normalize\n",
        "train_bow = normalize(train_bow)\n",
        "\n",
        "cv_bow = bow.transform(cv_df[\"TEXT\"])\n",
        "cv_bow = normalize(cv_bow)\n",
        "\n",
        "test_bow = bow.transform(test_df[\"TEXT\"])\n",
        "test_bow = normalize(test_bow)"
      ],
      "metadata": {
        "id": "ee20yEJzBnuj"
      },
      "execution_count": null,
      "outputs": []
    },
    {
      "cell_type": "markdown",
      "source": [
        "## **Machine Learning Modeling(Multi - variate analysis)**"
      ],
      "metadata": {
        "id": "skMiqAWz0BsR"
      }
    },
    {
      "cell_type": "code",
      "source": [
        "from sklearn.metrics import plot_confusion_matrix, accuracy_score"
      ],
      "metadata": {
        "id": "jRM0cK7b0BDx"
      },
      "execution_count": null,
      "outputs": []
    },
    {
      "cell_type": "code",
      "source": [
        "from scipy.sparse import hstack\n",
        "\n",
        "temp_x = hstack((train_gene_onehot,train_variation_onehot))\n",
        "temp_y = hstack((cv_gene_onehot,cv_variation_onehot))\n",
        "temp_z = hstack((test_gene_onehot,test_variation_onehot))\n",
        "\n",
        "train_x = hstack((temp_x,train_bow)).tocsr()\n",
        "cv_x = hstack((temp_y,cv_bow)).tocsr()\n",
        "test_x = hstack((temp_z, test_bow)).tocsr()\n",
        "\n",
        "train_y = np.array(list(y_train))\n",
        "cv_y = np.array(list(y_cv))\n",
        "test_y = np.array(list(y_test))"
      ],
      "metadata": {
        "id": "1qYa0ClZ1omJ"
      },
      "execution_count": null,
      "outputs": []
    },
    {
      "cell_type": "code",
      "source": [
        "print(test_y.shape)"
      ],
      "metadata": {
        "colab": {
          "base_uri": "https://localhost:8080/"
        },
        "id": "3cYsBT0sIxI4",
        "outputId": "0576f83a-bba2-426a-89a1-ed1b2419ae2b"
      },
      "execution_count": null,
      "outputs": [
        {
          "output_type": "stream",
          "name": "stdout",
          "text": [
            "(665,)\n"
          ]
        }
      ]
    },
    {
      "cell_type": "markdown",
      "source": [
        "**1) Naive base**"
      ],
      "metadata": {
        "id": "MUPw4vhS481d"
      }
    },
    {
      "cell_type": "code",
      "source": [
        "from sklearn.naive_bayes import MultinomialNB\n",
        "\n",
        "para = [0.0001,0.001, 0.1, 1, 10, 100,1000]\n",
        "for i in para:\n",
        "  clf1 = MultinomialNB(alpha=i)\n",
        "  clf1.fit(train_x,train_y)\n",
        "  clf_1 = CalibratedClassifierCV(clf1)\n",
        "  clf_1.fit(train_x,train_y)\n",
        "  pred_y = clf_1.predict_proba(cv_x)\n",
        "  print(f\"for {i} the log loss is: {log_loss(cv_y, pred_y)}\")\n"
      ],
      "metadata": {
        "colab": {
          "base_uri": "https://localhost:8080/"
        },
        "id": "9-QEhMGiwM1b",
        "outputId": "bd0c4b38-a380-4fcf-bb00-6fb2a67754e0"
      },
      "execution_count": null,
      "outputs": [
        {
          "output_type": "stream",
          "name": "stdout",
          "text": [
            "for 0.0001 the log loss is: 1.1683085995906493\n",
            "for 0.001 the log loss is: 1.1665102027614318\n",
            "for 0.1 the log loss is: 1.2124521725573365\n",
            "for 1 the log loss is: 1.3267370106557004\n",
            "for 10 the log loss is: 1.3159800619987292\n",
            "for 100 the log loss is: 1.2956587936135289\n",
            "for 1000 the log loss is: 1.2953975748966169\n"
          ]
        }
      ]
    },
    {
      "cell_type": "code",
      "source": [
        "clf1 = MultinomialNB(alpha=0.001)\n",
        "clf1.fit(train_x,train_y)\n",
        "clf_1 = CalibratedClassifierCV(clf1)\n",
        "clf_1.fit(train_x,train_y)\n",
        "\n",
        "\n",
        "print(f\"the train loss with the best estimator is: {log_loss(train_y, clf_1.predict_proba(train_x))}\")\n",
        "print(f\"the cv loss with the best estimator is: {log_loss(cv_y, clf_1.predict_proba(cv_x))}\")\n",
        "print(f\"the test loss with the best estimator is: {log_loss(test_y, clf_1.predict_proba(test_x))}\")\n",
        "\n",
        "plot_confusion_matrix(clf1,test_x,test_y)"
      ],
      "metadata": {
        "colab": {
          "base_uri": "https://localhost:8080/",
          "height": 348
        },
        "id": "l2rY7ehqyXaF",
        "outputId": "ee714824-28de-4b76-b0b4-88c91d76b101"
      },
      "execution_count": null,
      "outputs": [
        {
          "output_type": "stream",
          "name": "stdout",
          "text": [
            "the train loss with the best estimator is: 0.5393977902424568\n",
            "the cv loss with the best estimator is: 1.1665102027614318\n",
            "the test loss with the best estimator is: 1.1340713261990198\n"
          ]
        },
        {
          "output_type": "execute_result",
          "data": {
            "text/plain": [
              "<sklearn.metrics._plot.confusion_matrix.ConfusionMatrixDisplay at 0x7f04785f5950>"
            ]
          },
          "metadata": {},
          "execution_count": 183
        },
        {
          "output_type": "display_data",
          "data": {
            "text/plain": [
              "<Figure size 432x288 with 2 Axes>"
            ],
            "image/png": "[encoded data removed]"
          },
          "metadata": {
            "needs_background": "light"
          }
        }
      ]
    },
    {
      "cell_type": "markdown",
      "source": [
        "**2)KNN**"
      ],
      "metadata": {
        "id": "ZFIk9UTDz9ih"
      }
    },
    {
      "cell_type": "code",
      "source": [
        "from sklearn.neighbors import KNeighborsClassifier\n",
        "\n",
        "para = [5,10,20,30,35,50,100]\n",
        "for i in para:\n",
        "  clf1 = KNeighborsClassifier(n_neighbors=i)\n",
        "  clf1.fit(train_x,train_y)\n",
        "  clf_1 = CalibratedClassifierCV(clf1)\n",
        "  clf_1.fit(train_x,train_y)\n",
        "  pred_y = clf_1.predict_proba(cv_x)\n",
        "  print(f\"for {i} the log loss is: {log_loss(cv_y, pred_y)}\")"
      ],
      "metadata": {
        "colab": {
          "base_uri": "https://localhost:8080/"
        },
        "id": "XhydcQQezFIx",
        "outputId": "464fd00b-8f15-4d98-800f-25e50a44eb5a"
      },
      "execution_count": null,
      "outputs": [
        {
          "output_type": "stream",
          "name": "stdout",
          "text": [
            "for 5 the log loss is: 1.091845365339371\n",
            "for 10 the log loss is: 1.085906285109468\n",
            "for 20 the log loss is: 1.1427589874441606\n",
            "for 30 the log loss is: 1.1766710207171949\n",
            "for 35 the log loss is: 1.1948871556097578\n",
            "for 50 the log loss is: 1.2171883020262004\n",
            "for 100 the log loss is: 1.255992820659651\n"
          ]
        }
      ]
    },
    {
      "cell_type": "code",
      "source": [
        "clf1 = KNeighborsClassifier(n_neighbors=10)\n",
        "clf1.fit(train_x,train_y)\n",
        "clf_1 = CalibratedClassifierCV(clf1)\n",
        "clf_1.fit(train_x,train_y)\n",
        "\n",
        "\n",
        "print(f\"the train loss with the best estimator is: {log_loss(train_y, clf_1.predict_proba(train_x))}\")\n",
        "print(f\"the cv loss with the best estimator is: {log_loss(cv_y, clf_1.predict_proba(cv_x))}\")\n",
        "print(f\"the test loss with the best estimator is: {log_loss(test_y, clf_1.predict_proba(test_x))}\")\n",
        "\n",
        "plot_confusion_matrix(clf1,test_x,test_y)"
      ],
      "metadata": {
        "colab": {
          "base_uri": "https://localhost:8080/",
          "height": 348
        },
        "id": "c_KU2nL00rNU",
        "outputId": "24481d95-41f9-4cb1-8a21-a36c913f806d"
      },
      "execution_count": null,
      "outputs": [
        {
          "output_type": "stream",
          "name": "stdout",
          "text": [
            "the train loss with the best estimator is: 0.9791400454745357\n",
            "the cv loss with the best estimator is: 1.085906285109468\n",
            "the test loss with the best estimator is: 1.051881931832918\n"
          ]
        },
        {
          "output_type": "execute_result",
          "data": {
            "text/plain": [
              "<sklearn.metrics._plot.confusion_matrix.ConfusionMatrixDisplay at 0x7f047740b890>"
            ]
          },
          "metadata": {},
          "execution_count": 187
        },
        {
          "output_type": "display_data",
          "data": {
            "text/plain": [
              "<Figure size 432x288 with 2 Axes>"
            ],
            "image/png": "[encoded data removed]"
          },
          "metadata": {
            "needs_background": "light"
          }
        }
      ]
    },
    {
      "cell_type": "markdown",
      "source": [
        "**3) Logistic Regression (without class balancing)**"
      ],
      "metadata": {
        "id": "4h5sWWeW0tIH"
      }
    },
    {
      "cell_type": "code",
      "source": [
        "from sklearn.linear_model import LogisticRegression\n",
        "\n",
        "para = [0.0001,0.001, 0.1, 1, 10, 100,1000]\n",
        "for i in para:\n",
        "  clf1 = LogisticRegression(C=i)\n",
        "  clf1.fit(train_x,train_y)\n",
        "  clf_1 = CalibratedClassifierCV(clf1)\n",
        "  clf_1.fit(train_x,train_y)\n",
        "  pred_y = clf_1.predict_proba(cv_x)\n",
        "  print(f\"for {i} the log loss is: {log_loss(cv_y, pred_y)}\")"
      ],
      "metadata": {
        "colab": {
          "base_uri": "https://localhost:8080/"
        },
        "id": "rnPqyfMo03N1",
        "outputId": "61676753-4bdc-4cd6-9636-6a8051326c3d"
      },
      "execution_count": null,
      "outputs": [
        {
          "output_type": "stream",
          "name": "stdout",
          "text": [
            "for 0.0001 the log loss is: 1.1880318559376182\n",
            "for 0.001 the log loss is: 1.1862611901473068\n",
            "for 0.1 the log loss is: 1.087732113979228\n",
            "for 1 the log loss is: 0.9777196305633609\n",
            "for 10 the log loss is: 0.944862305944988\n",
            "for 100 the log loss is: 0.9407391864736037\n",
            "for 1000 the log loss is: 0.9463426844737286\n"
          ]
        }
      ]
    },
    {
      "cell_type": "code",
      "source": [
        "clf1 = LogisticRegression(C=100)\n",
        "clf1.fit(train_x,train_y)\n",
        "clf_1 = CalibratedClassifierCV(clf1)\n",
        "clf_1.fit(train_x,train_y)\n",
        "\n",
        "\n",
        "print(f\"the train loss with the best estimator is: {log_loss(train_y, clf_1.predict_proba(train_x))}\")\n",
        "print(f\"the cv loss with the best estimator is: {log_loss(cv_y, clf_1.predict_proba(cv_x))}\")\n",
        "print(f\"the test loss with the best estimator is: {log_loss(test_y, clf_1.predict_proba(test_x))}\")\n",
        "\n",
        "plot_confusion_matrix(clf1,test_x,test_y)"
      ],
      "metadata": {
        "colab": {
          "base_uri": "https://localhost:8080/",
          "height": 348
        },
        "id": "rilFp9P31kDa",
        "outputId": "0ec73416-f375-4df3-a26d-97e2c456d4a3"
      },
      "execution_count": null,
      "outputs": [
        {
          "output_type": "stream",
          "name": "stdout",
          "text": [
            "the train loss with the best estimator is: 0.3749139642884723\n",
            "the cv loss with the best estimator is: 0.9407391864736037\n",
            "the test loss with the best estimator is: 0.9343680094327376\n"
          ]
        },
        {
          "output_type": "execute_result",
          "data": {
            "text/plain": [
              "<sklearn.metrics._plot.confusion_matrix.ConfusionMatrixDisplay at 0x7f0477483090>"
            ]
          },
          "metadata": {},
          "execution_count": 190
        },
        {
          "output_type": "display_data",
          "data": {
            "text/plain": [
              "<Figure size 432x288 with 2 Axes>"
            ],
            "image/png": "[encoded data removed]"
          },
          "metadata": {
            "needs_background": "light"
          }
        }
      ]
    },
    {
      "cell_type": "markdown",
      "source": [
        "**4) LogisticRegression (with class balancing)**"
      ],
      "metadata": {
        "id": "3tRKJiHD1sGi"
      }
    },
    {
      "cell_type": "code",
      "source": [
        "para = [0.001, 0.1, 1, 10, 100]\n",
        "for i in para:\n",
        "  clf1 = LogisticRegression(C=i,class_weight=\"balanced\")\n",
        "  clf1.fit(train_x,train_y)\n",
        "  clf_1 = CalibratedClassifierCV(clf1)\n",
        "  clf_1.fit(train_x,train_y)\n",
        "  pred_y = clf_1.predict_proba(cv_x)\n",
        "  print(f\"for {i} the log loss is: {log_loss(cv_y, pred_y)}\")"
      ],
      "metadata": {
        "colab": {
          "base_uri": "https://localhost:8080/"
        },
        "id": "JX3GXmea14W6",
        "outputId": "43e40e7b-45da-4a04-c4d9-da8bffac266c"
      },
      "execution_count": null,
      "outputs": [
        {
          "output_type": "stream",
          "name": "stdout",
          "text": [
            "for 0.001 the log loss is: 1.2095704574596298\n",
            "for 0.1 the log loss is: 1.1085476668820127\n",
            "for 1 the log loss is: 0.9875508520349963\n",
            "for 10 the log loss is: 0.9467802809109194\n",
            "for 100 the log loss is: 0.940894173254442\n"
          ]
        }
      ]
    },
    {
      "cell_type": "code",
      "source": [
        "clf1 = LogisticRegression(C=100,class_weight=\"balanced\")\n",
        "clf1.fit(train_x,train_y)\n",
        "clf_1 = CalibratedClassifierCV(clf1)\n",
        "clf_1.fit(train_x,train_y)\n",
        "\n",
        "\n",
        "print(f\"the train loss with the best estimator is: {log_loss(train_y, clf_1.predict_proba(train_x))}\")\n",
        "print(f\"the cv loss with the best estimator is: {log_loss(cv_y, clf_1.predict_proba(cv_x))}\")\n",
        "print(f\"the test loss with the best estimator is: {log_loss(test_y, clf_1.predict_proba(test_x))}\")\n",
        "\n",
        "plot_confusion_matrix(clf1,test_x,test_y)"
      ],
      "metadata": {
        "colab": {
          "base_uri": "https://localhost:8080/",
          "height": 348
        },
        "id": "B4KV9Kaa2g8J",
        "outputId": "72c22408-1a9b-4806-c1ab-13fd152a1243"
      },
      "execution_count": null,
      "outputs": [
        {
          "output_type": "stream",
          "name": "stdout",
          "text": [
            "the train loss with the best estimator is: 0.3812284397579848\n",
            "the cv loss with the best estimator is: 0.940894173254442\n",
            "the test loss with the best estimator is: 0.934964713032149\n"
          ]
        },
        {
          "output_type": "execute_result",
          "data": {
            "text/plain": [
              "<sklearn.metrics._plot.confusion_matrix.ConfusionMatrixDisplay at 0x7f04782323d0>"
            ]
          },
          "metadata": {},
          "execution_count": 195
        },
        {
          "output_type": "display_data",
          "data": {
            "text/plain": [
              "<Figure size 432x288 with 2 Axes>"
            ],
            "image/png": "[encoded data removed]"
          },
          "metadata": {
            "needs_background": "light"
          }
        }
      ]
    },
    {
      "cell_type": "markdown",
      "source": [
        "**5) Linear SVC**"
      ],
      "metadata": {
        "id": "SojvSvbw2sQv"
      }
    },
    {
      "cell_type": "code",
      "source": [
        "from sklearn.svm import LinearSVC\n",
        "\n",
        "para = [0.001, 0.1, 1, 10, 100]\n",
        "for i in para:\n",
        "  clf1 = LinearSVC(C=i,class_weight=\"balanced\")\n",
        "  clf1.fit(train_x,train_y)\n",
        "  clf_1 = CalibratedClassifierCV(clf1)\n",
        "  clf_1.fit(train_x,train_y)\n",
        "  pred_y = clf_1.predict_proba(cv_x)\n",
        "  print(f\"for {i} the log loss is: {log_loss(cv_y, pred_y)}\")"
      ],
      "metadata": {
        "colab": {
          "base_uri": "https://localhost:8080/"
        },
        "id": "1pW_3Mz42wCt",
        "outputId": "bc1637b3-6137-47c6-d4ef-379785b8546c"
      },
      "execution_count": null,
      "outputs": [
        {
          "output_type": "stream",
          "name": "stdout",
          "text": [
            "for 0.001 the log loss is: 1.2305616868589713\n",
            "for 0.1 the log loss is: 1.0013917701901807\n",
            "for 1 the log loss is: 0.9684300057146524\n",
            "for 10 the log loss is: 0.9733823556840662\n",
            "for 100 the log loss is: 0.9784617317397338\n"
          ]
        }
      ]
    },
    {
      "cell_type": "code",
      "source": [
        "clf1 = LinearSVC(C=10,class_weight=\"balanced\")\n",
        "clf1.fit(train_x,train_y)\n",
        "clf_1 = CalibratedClassifierCV(clf1)\n",
        "clf_1.fit(train_x,train_y)\n",
        "\n",
        "\n",
        "print(f\"the train loss with the best estimator is: {log_loss(train_y, clf_1.predict_proba(train_x))}\")\n",
        "print(f\"the cv loss with the best estimator is: {log_loss(cv_y, clf_1.predict_proba(cv_x))}\")\n",
        "print(f\"the test loss with the best estimator is: {log_loss(test_y, clf_1.predict_proba(test_x))}\")\n",
        "\n",
        "plot_confusion_matrix(clf1,test_x,test_y)"
      ],
      "metadata": {
        "colab": {
          "base_uri": "https://localhost:8080/",
          "height": 348
        },
        "id": "c6Yweg7l3yBp",
        "outputId": "8f5129a6-eed5-4074-f9e9-6eafe43a14d7"
      },
      "execution_count": null,
      "outputs": [
        {
          "output_type": "stream",
          "name": "stdout",
          "text": [
            "the train loss with the best estimator is: 0.2815829627684405\n",
            "the cv loss with the best estimator is: 0.9733823404461299\n",
            "the test loss with the best estimator is: 0.9576069219506299\n"
          ]
        },
        {
          "output_type": "execute_result",
          "data": {
            "text/plain": [
              "<sklearn.metrics._plot.confusion_matrix.ConfusionMatrixDisplay at 0x7f04781760d0>"
            ]
          },
          "metadata": {},
          "execution_count": 196
        },
        {
          "output_type": "display_data",
          "data": {
            "text/plain": [
              "<Figure size 432x288 with 2 Axes>"
            ],
            "image/png": "[encoded data removed]"
          },
          "metadata": {
            "needs_background": "light"
          }
        }
      ]
    },
    {
      "cell_type": "markdown",
      "source": [
        "**6) Random Forest**"
      ],
      "metadata": {
        "id": "xnzfx92739ur"
      }
    },
    {
      "cell_type": "code",
      "source": [
        "from sklearn.ensemble import RandomForestClassifier\n",
        "\n",
        "para = [50,100,200,250,500]\n",
        "for i in para:\n",
        "  clf1 = RandomForestClassifier(n_estimators=i)\n",
        "  clf1.fit(train_x,train_y)\n",
        "  clf_1 = CalibratedClassifierCV(clf1)\n",
        "  clf_1.fit(train_x,train_y)\n",
        "  pred_y = clf_1.predict_proba(cv_x)\n",
        "  print(f\"for {i} the log loss is: {log_loss(cv_y, pred_y)}\")"
      ],
      "metadata": {
        "colab": {
          "base_uri": "https://localhost:8080/"
        },
        "id": "u7myPm_J6LKJ",
        "outputId": "d6ff055b-3553-4eab-d3ec-aab6c5a2b766"
      },
      "execution_count": null,
      "outputs": [
        {
          "output_type": "stream",
          "name": "stdout",
          "text": [
            "for 50 the log loss is: 1.0938808885704938\n",
            "for 100 the log loss is: 1.0852631568887106\n",
            "for 200 the log loss is: 1.0857445617485157\n",
            "for 250 the log loss is: 1.0821041154683064\n",
            "for 500 the log loss is: 1.0820342077221174\n"
          ]
        }
      ]
    },
    {
      "cell_type": "code",
      "source": [
        "clf1 = RandomForestClassifier(n_estimators=500)\n",
        "clf1.fit(train_x,train_y)\n",
        "clf_1 = CalibratedClassifierCV(clf1)\n",
        "clf_1.fit(train_x,train_y)\n",
        "\n",
        "\n",
        "print(f\"the train loss with the best estimator is: {log_loss(train_y, clf_1.predict_proba(train_x))}\")\n",
        "print(f\"the cv loss with the best estimator is: {log_loss(cv_y, clf_1.predict_proba(cv_x))}\")\n",
        "print(f\"the test loss with the best estimator is: {log_loss(test_y, clf_1.predict_proba(test_x))}\")\n",
        "\n",
        "plot_confusion_matrix(clf1,test_x,test_y)"
      ],
      "metadata": {
        "colab": {
          "base_uri": "https://localhost:8080/",
          "height": 348
        },
        "id": "W-hA2WnN40yF",
        "outputId": "2d3c0358-b07d-4a20-c1d2-7e1196a523b5"
      },
      "execution_count": null,
      "outputs": [
        {
          "output_type": "stream",
          "name": "stdout",
          "text": [
            "the train loss with the best estimator is: 0.38200086713488934\n",
            "the cv loss with the best estimator is: 1.0839345072608237\n",
            "the test loss with the best estimator is: 1.0709707116334368\n"
          ]
        },
        {
          "output_type": "execute_result",
          "data": {
            "text/plain": [
              "<sklearn.metrics._plot.confusion_matrix.ConfusionMatrixDisplay at 0x7f0477097490>"
            ]
          },
          "metadata": {},
          "execution_count": 197
        },
        {
          "output_type": "display_data",
          "data": {
            "text/plain": [
              "<Figure size 432x288 with 2 Axes>"
            ],
            "image/png": "[encoded data removed]"
          },
          "metadata": {
            "needs_background": "light"
          }
        }
      ]
    }
  ]
}